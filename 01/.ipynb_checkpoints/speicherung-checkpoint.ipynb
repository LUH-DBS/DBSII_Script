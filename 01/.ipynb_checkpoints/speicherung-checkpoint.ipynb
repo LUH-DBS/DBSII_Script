{
 "cells": [
  {
   "cell_type": "markdown",
   "id": "cc1e2ae0",
   "metadata": {},
   "source": [
    "# Speicherung"
   ]
  },
  {
   "cell_type": "markdown",
   "id": "d210d3f0-daac-4f48-a849-191a49a7473e",
   "metadata": {},
   "source": [
    "Zoom in die interne Ebene: Die 5-Schichten Architektur"
   ]
  },
  {
   "cell_type": "markdown",
   "id": "19f7fb2a-8789-4019-872c-b9ae06f58b65",
   "metadata": {},
   "source": [
    "1. Speicherhierarchie\n",
    "2. Disks\n",
    "3. Effiziente Diskoperationen\n",
    "    - TPMMS\n",
    "4. Zugriffsbeschleunigung\n",
    "5. Diskausfälle"
   ]
  },
  {
   "cell_type": "code",
   "execution_count": null,
   "id": "53da662b-f525-4d8e-9adb-440787fe7a16",
   "metadata": {},
   "outputs": [],
   "source": []
  }
 ],
 "metadata": {
  "kernelspec": {
   "display_name": "Python 3 (ipykernel)",
   "language": "python",
   "name": "python3"
  },
  "language_info": {
   "codemirror_mode": {
    "name": "ipython",
    "version": 3
   },
   "file_extension": ".py",
   "mimetype": "text/x-python",
   "name": "python",
   "nbconvert_exporter": "python",
   "pygments_lexer": "ipython3",
   "version": "3.10.6"
  }
 },
 "nbformat": 4,
 "nbformat_minor": 5
}
