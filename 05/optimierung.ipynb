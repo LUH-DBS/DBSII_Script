{
 "cells": [
  {
   "cell_type": "markdown",
   "id": "20168ae7-f6b1-4f6e-bc2d-a162d72c28a6",
   "metadata": {},
   "source": [
    "# Optimierung"
   ]
  },
  {
   "cell_type": "markdown",
   "id": "f7df4306",
   "metadata": {},
   "source": [
    "<img src=\"pictures/Ablauf-Anfragebearbeitung.png\" alt=\"Ablauf-Anfragebearbeitung\" width=\"500\" style=\"background-color: white;\"/>"
   ]
  },
  {
   "cell_type": "markdown",
   "id": "e6930503",
   "metadata": {},
   "source": [
    "<img src=\"pictures/Meme-Finish-SQL-Query.png\" alt=\"Meme-Finish-SQL-Query\" width=\"500\" style=\"background-color: white;\"/>"
   ]
  },
  {
   "cell_type": "markdown",
   "id": "43b00699",
   "metadata": {},
   "source": [
    "<img src=\"pictures/Ablauf-Anfragebearbeitung_2.png\" alt=\"Ablauf-Anfragebearbeitung_2\" width=\"500\" style=\"background-color: white;\"/>"
   ]
  },
  {
   "cell_type": "markdown",
   "id": "320fed2f",
   "metadata": {},
   "source": [
    "<img src=\"pictures/Ablauf-Anfragebearbeitung_3.png\" alt=\"Ablauf-Anfragebearbeitung_3\" width=\"500\" style=\"background-color: white;\"/>"
   ]
  },
  {
   "cell_type": "markdown",
   "id": "97c95ca5",
   "metadata": {},
   "source": [
    "<img src=\"pictures/Ablauf-Anfragebearbeitung_4.png\" alt=\"Ablauf-Anfragebearbeitung_4\" width=\"500\" style=\"background-color: white;\"/>"
   ]
  },
  {
   "cell_type": "markdown",
   "id": "bedb564d",
   "metadata": {},
   "source": [
    "<img src=\"pictures/Anfragebearbeitung-Beispiel-1.png\" alt=\"Anfragebearbeitung-Beispiel-1\" width=\"500\" style=\"background-color: white;\"/>"
   ]
  },
  {
   "cell_type": "markdown",
   "id": "5829fa98",
   "metadata": {},
   "source": [
    "<img src=\"pictures/Anfragebearbeitung-Beispiel-2.png\" alt=\"Anfragebearbeitung-Beispiel-2\" width=\"500\" style=\"background-color: white;\"/>"
   ]
  },
  {
   "cell_type": "markdown",
   "id": "17ec8b52",
   "metadata": {},
   "source": [
    "<img src=\"pictures/Anfragebearbeitung-Beispiel-3.png\" alt=\"Anfragebearbeitung-Beispiel-3\" width=\"500\" style=\"background-color: white;\"/>"
   ]
  },
  {
   "cell_type": "markdown",
   "id": "e4e4adbd",
   "metadata": {},
   "source": [
    "<img src=\"pictures/Ablauf-Anfragebearbeitung_5.png\" alt=\"Ablauf-Anfragebearbeitung_5\" width=\"500\" style=\"background-color: white;\"/>"
   ]
  },
  {
   "cell_type": "markdown",
   "id": "723058e4",
   "metadata": {},
   "source": [
    "<img src=\"pictures/TimeCost-Meme.png\" alt=\"TimeCost-Meme\" width=\"500\" style=\"background-color: white;\"/>"
   ]
  },
  {
   "cell_type": "markdown",
   "id": "75902613",
   "metadata": {},
   "source": [
    "<img src=\"pictures/Kostenmodell.png\" alt=\"Kostenmodell\" width=\"500\" style=\"background-color: white;\"/>"
   ]
  },
  {
   "cell_type": "markdown",
   "id": "f373062a",
   "metadata": {},
   "source": [
    "<img src=\"pictures/Statistiken-Histogram-of-arrivals.png\" alt=\"Statistiken-Histogram-of-arrivals\" width=\"500\" style=\"background-color: white;\"/>"
   ]
  },
  {
   "cell_type": "markdown",
   "id": "4e639a2e",
   "metadata": {},
   "source": [
    "<img src=\"pictures/Selektivität-schätzen.png\" alt=\"Selektivität-schätzen\" width=\"500\" style=\"background-color: white;\"/>"
   ]
  },
  {
   "cell_type": "markdown",
   "id": "b0b5aec5",
   "metadata": {},
   "source": [
    "<img src=\"pictures/Beispiel-Skew-Graph.png\" alt=\"Beispiel-Skew-Graph\" width=\"500\" style=\"background-color: white;\"/>"
   ]
  },
  {
   "cell_type": "markdown",
   "id": "4d095082",
   "metadata": {},
   "source": [
    "<img src=\"pictures/George-Kingsley-Zipf.png\" alt=\"George-Kingsley-Zipf\" width=\"500\" style=\"background-color: white;\"/>"
   ]
  },
  {
   "cell_type": "markdown",
   "id": "633a7c93",
   "metadata": {},
   "source": [
    "<img src=\"pictures/Zipfs-law.png\" alt=\"Zipfs-law\" width=\"500\" style=\"background-color: white;\"/>"
   ]
  },
  {
   "cell_type": "markdown",
   "id": "00ef3d19",
   "metadata": {},
   "source": [
    "<img src=\"pictures/Ablauf-Anfragebearbeitung_6.png\" alt=\"Ablauf-Anfragebearbeitung_6\" width=\"500\" style=\"background-color: white;\"/>"
   ]
  },
  {
   "cell_type": "markdown",
   "id": "41d2695a",
   "metadata": {},
   "source": [
    "<img src=\"pictures/Verteilungen-Körpergewicht.png\" alt=\"Verteilungen-Körpergewicht\" width=\"500\" style=\"background-color: white;\"/>"
   ]
  },
  {
   "cell_type": "markdown",
   "id": "acb9e763",
   "metadata": {},
   "source": [
    "<img src=\"pictures/Equi-Width-Histogramme.png\" alt=\"Equi-Width-Histogramme\" width=\"500\" style=\"background-color: white;\"/>"
   ]
  },
  {
   "cell_type": "markdown",
   "id": "3e142f08",
   "metadata": {},
   "source": [
    "<img src=\"pictures/Equi-Height-Histogramme.png\" alt=\"Equi-Height-Histogramme\" width=\"500\" style=\"background-color: white;\"/>"
   ]
  },
  {
   "cell_type": "markdown",
   "id": "d1f0487a",
   "metadata": {},
   "source": [
    "<img src=\"pictures/Hill-Climbing.png\" alt=\"Hill-Climbing\" width=\"500\" style=\"background-color: white;\"/>"
   ]
  },
  {
   "cell_type": "markdown",
   "id": "46801d69",
   "metadata": {},
   "source": [
    "<img src=\"pictures/Richard-Bellman.png\" alt=\"Richard-Bellman\" width=\"500\" style=\"background-color: white;\"/>"
   ]
  },
  {
   "cell_type": "markdown",
   "id": "b9b8fba8",
   "metadata": {},
   "source": [
    "<img src=\"pictures/Knapsach-Zweihander.png\" alt=\"Knapsach-Zweihander\" width=\"500\" style=\"background-color: white;\"/>"
   ]
  },
  {
   "cell_type": "markdown",
   "id": "8a791a76",
   "metadata": {},
   "source": [
    "<img src=\"pictures/Knapsack-SaintsChime.png\" alt=\"Knapsack-SaintsChime\" width=\"500\" style=\"background-color: white;\"/>"
   ]
  },
  {
   "cell_type": "markdown",
   "id": "e6756d39",
   "metadata": {},
   "source": [
    "<img src=\"pictures/Knapsack-DragonriderBow.png\" alt=\"Knapsack-DragonriderBow\" width=\"500\" style=\"background-color: white;\"/>"
   ]
  },
  {
   "cell_type": "markdown",
   "id": "38371de7",
   "metadata": {},
   "source": [
    "<img src=\"pictures/Knapsack-Rapier.png\" alt=\"Knapsack-Rapier\" width=\"500\" style=\"background-color: white;\"/>"
   ]
  },
  {
   "cell_type": "markdown",
   "id": "9aa9d5f7",
   "metadata": {},
   "source": [
    "<img src=\"pictures/Knapsack-DragonCrestShield.png\" alt=\"Knapsack-DragonCrestShield\" width=\"500\" style=\"background-color: white;\"/>"
   ]
  },
  {
   "cell_type": "markdown",
   "id": "d524b7a5",
   "metadata": {},
   "source": [
    "<img src=\"pictures/Knapsack-ShortBow.png\" alt=\"Knapsack-ShortBow\" width=\"500\" style=\"background-color: white;\"/>"
   ]
  },
  {
   "cell_type": "markdown",
   "id": "5af3aba5",
   "metadata": {},
   "source": [
    "<img src=\"pictures/Knapsack-General.png\" alt=\"Knapsack-General\" width=\"500\" style=\"background-color: white;\"/>"
   ]
  },
  {
   "cell_type": "markdown",
   "id": "ee04f48c",
   "metadata": {},
   "source": [
    "<img src=\"pictures/Knapsack-Ausrüstung.png\" alt=\"Knapsack-Ausrüstung\" width=\"500\" style=\"background-color: white;\"/>"
   ]
  },
  {
   "cell_type": "markdown",
   "id": "f9eee53c",
   "metadata": {},
   "source": [
    "<img src=\"pictures/Knapsack-Rüstung.png\" alt=\"Knapsack-Rüstung\" width=\"500\" style=\"background-color: white;\"/>"
   ]
  },
  {
   "cell_type": "markdown",
   "id": "04b61030",
   "metadata": {},
   "source": [
    "<img src=\"pictures/Knapsack-mit-DP.png\" alt=\"Knapsack-mit-DP\" width=\"500\" style=\"background-color: white;\"/>"
   ]
  },
  {
   "cell_type": "markdown",
   "id": "ce317232",
   "metadata": {},
   "source": [
    "<img src=\"pictures/DP-Traveling-Salesman-Problem.png\" alt=\"DP-Traveling-Salesman-Problem\" width=\"500\" style=\"background-color: white;\"/>"
   ]
  },
  {
   "cell_type": "markdown",
   "id": "c79115ec",
   "metadata": {},
   "source": [
    "<img src=\"pictures/Dynamic-Programming.png\" alt=\"Dynamic-Programming\" width=\"500\" style=\"background-color: white;\"/>"
   ]
  },
  {
   "cell_type": "markdown",
   "id": "5f7f5202",
   "metadata": {},
   "source": [
    "<img src=\"pictures/Anfrageplanung.png\" alt=\"Anfrageplanung\" width=\"500\" style=\"background-color: white;\"/>"
   ]
  },
  {
   "cell_type": "markdown",
   "id": "e39f2f59",
   "metadata": {},
   "source": [
    "<img src=\"pictures/Selinger.png\" alt=\"Selinger\" width=\"500\" style=\"background-color: white;\"/>"
   ]
  },
  {
   "cell_type": "markdown",
   "id": "a63b61d7",
   "metadata": {},
   "source": [
    "<img src=\"pictures/AccessPathSelection-IBM.png\" alt=\"AccessPathSelection-IBM\" width=\"500\" style=\"background-color: white;\"/>"
   ]
  },
  {
   "cell_type": "markdown",
   "id": "f5d48a6b",
   "metadata": {},
   "source": [
    "<img src=\"pictures/Dynamische-Programmierung.png\" alt=\"Dynamische-Programmierung\" width=\"500\" style=\"background-color: white;\"/>"
   ]
  },
  {
   "cell_type": "markdown",
   "id": "5f2236e8",
   "metadata": {},
   "source": [
    "<img src=\"pictures/Dynamische-Programmierung_2.png\" alt=\"Dynamische-Programmierung_2\" width=\"500\" style=\"background-color: white;\"/>"
   ]
  },
  {
   "cell_type": "markdown",
   "id": "1272af08",
   "metadata": {},
   "source": [
    "<img src=\"pictures/DP-Beispiel.png\" alt=\"DP-Beispiel\" width=\"500\" style=\"background-color: white;\"/>"
   ]
  },
  {
   "cell_type": "markdown",
   "id": "59bda94c",
   "metadata": {},
   "source": [
    "<img src=\"pictures/DP-Beispiel_2.png\" alt=\"DP-Beispiel_2\" width=\"500\" style=\"background-color: white;\"/>"
   ]
  },
  {
   "cell_type": "markdown",
   "id": "9b526df2",
   "metadata": {},
   "source": [
    "<img src=\"pictures/DP-Beispiel_3.png\" alt=\"DP-Beispiel_3\" width=\"500\" style=\"background-color: white;\"/>"
   ]
  },
  {
   "cell_type": "markdown",
   "id": "16832ea8",
   "metadata": {},
   "source": [
    "<img src=\"pictures/DP-Beispiel_4.png\" alt=\"DP-Beispiel_4\" width=\"500\" style=\"background-color: white;\"/>"
   ]
  },
  {
   "cell_type": "markdown",
   "id": "b260af8f",
   "metadata": {},
   "source": [
    "<img src=\"pictures/DP-Algorithmus.png\" alt=\"DP-Algorithmus\" width=\"500\" style=\"background-color: white;\"/>"
   ]
  }
 ],
 "metadata": {
  "kernelspec": {
   "display_name": "Python 3 (ipykernel)",
   "language": "python",
   "name": "python3"
  },
  "language_info": {
   "codemirror_mode": {
    "name": "ipython",
    "version": 3
   },
   "file_extension": ".py",
   "mimetype": "text/x-python",
   "name": "python",
   "nbconvert_exporter": "python",
   "pygments_lexer": "ipython3",
   "version": "3.10.12"
  }
 },
 "nbformat": 4,
 "nbformat_minor": 5
}
