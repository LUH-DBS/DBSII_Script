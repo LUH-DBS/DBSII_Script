{
 "cells": [
  {
   "cell_type": "markdown",
   "id": "20168ae7-f6b1-4f6e-bc2d-a162d72c28a6",
   "metadata": {},
   "source": [
    "# Optimierung"
   ]
  },
  {
   "cell_type": "markdown",
   "id": "f7df4306",
   "metadata": {},
   "source": [
    "In diesem Kapitel wird die Optimierung auf logischer Ebene betrachtet. Es geht mehr um die Daten selbst als um die Speicherabbildung. "
   ]
  },
  {
   "cell_type": "markdown",
   "id": "05926e6e-85dc-4a1a-9b45-363cd99dd67a",
   "metadata": {},
   "source": [
    "## Wiederholung: Anfragebearbeitung\n",
    "Zunächst eine kleine Wiederholung zur Anfragebearbeitung in Bezug auf das Grundproblem und den Ablauf.\n",
    "\n",
    "### Grundproblem\n",
    "Anfragen in SQL und der Relationalen Algebra sind deklarativ. Solche Anfragen müssen in ausführbare (prozedurale) Form transformiert werden. Also in echte ausführbare Programme. Die Ziele dabei sind ein \"QEP\" (prozeduraler Query Execution Plan) und Effizienz. Eine Anfrage soll schnell und wenige Ressourcen verbrauchen (CPU, I/O, RAM, Bandbreite). "
   ]
  },
  {
   "cell_type": "markdown",
   "id": "572c5875-99e1-4833-b64d-35b4a154f745",
   "metadata": {},
   "source": [
    "### Ablauf der Anfragebearbeitung\n",
    "\n",
    "<img src=\"pictures/Ablauf-Anfragebearbeitung.png\" alt=\"Ablauf-Anfragebearbeitung\" width=\"250\" style=\"background-color: white;\"/>\n",
    "\n",
    "1. **Parsing**</br>\n",
    "    Als erstes wird die Anfrage geparsed und überprüft, ob diese syntaktisch korrekt ist. Danach werden die Elemente semantisch überprüft und ein Parsebaum erstellt. \n",
    "\n",
    "2. **Wahl des logischen Anfrageplans**</br>\n",
    "    Im zweiten Schritt werden exponentiell viele Bäume mit logischen Operatoren erstellt. Darunter wird der optimale Plan ausgewählt, indem vorher logisch, regelbasiert und kostenbasiert optimiert wird. \n",
    "\n",
    "3. **Wahl des physischen Anfrageplans**</br>\n",
    "    Anhand des logischen Plans wird ein ausführbares Programm mit physischen Operatoren erstellt. Das Programm enthält Algorithmen und Scan-Operatoren. Der optimale Plan wird physisch optimiert und dann ausgewählt. Zum Schluss wird der ausgewählte Anfrageplan ausgeführt. "
   ]
  },
  {
   "cell_type": "markdown",
   "id": "e6930503",
   "metadata": {},
   "source": [
    "<img src=\"pictures/Meme-Finish-SQL-Query.png\" alt=\"Meme-Finish-SQL-Query\" width=\"250\" style=\"background-color: white;\"/>"
   ]
  },
  {
   "cell_type": "markdown",
   "id": "5e95bf97-5140-4a80-84bb-c1929899752d",
   "metadata": {},
   "source": [
    "## Ablauf der Anfragebearbeitung \n",
    "\n",
    "Die einzelnen Schritte bei der Anfragebearbeitung werden nun genauer betrachtet. "
   ]
  },
  {
   "cell_type": "markdown",
   "id": "d9ec445e-f791-4694-a3fb-e23aa6c3eb71",
   "metadata": {},
   "source": [
    "### Parsing \n",
    "\n",
    "<img src=\"pictures/Ablauf-Anfragebearbeitung_2.png\" alt=\"Ablauf-Anfragebearbeitung_2\" width=\"500\" style=\"background-color: white;\"/>\n",
    "\n",
    "Beginnend beim Parsing wird auf **syntaktische Korrektheit** überprüft. Dafür wird eine Grammatik für einen Teil von SQL betrachtet. (SFW steht für SelectFromWhere): </br>\n",
    "\n",
    "- Anfragen\n",
    "    - \\<Anfrage> :: = \\<SFW>\n",
    "    - \\<Anfrage> :: = ( \\<SFW> )\n",
    "    - die Mengenoperatoren fehlen\n",
    "- SFWs\n",
    "    - \\<SFW> ::= SELECT \\<SelListe> FROM \\<FromListe> WHERE \\<Bedingung>\n",
    "    - die Gruppierung, Sortierung etc. fehlen\n",
    "- Listen\n",
    "    - \\<SelListe> ::= \\<Attribut>, \\<SelListe>\n",
    "    - \\<SelListe> ::= \\<Attribut>\n",
    "    - \\<FromListe> ::= \\<Relation>, \\<FromListe>\n",
    "    - \\<FromListe> ::= \\<Relation>\n",
    "- Bedingungen\n",
    "    - \\<Bedingung> ::= \\<Bedingung> AND \\<Bedingung>\n",
    "    - \\<Bedingung> ::= \\<Tupel> IN \\<Anfrage>\n",
    "    - \\<Bedingung> ::= \\<Attribut> = \\<Attribut>\n",
    "    - \\<Bedingung> ::= \\<Attribut> LIKE \\<Muster>\n",
    "- \\<Tupel>, \\<Attribut>, \\<Relation> und \\<Muster> sind nicht durch eine grammatische Regel definiert\n",
    "\n",
    "Die vollständige Grammatik kann man zum Beispiel [hier]( http://docs.openlinksw.com/virtuoso/GRAMMAR.html) finden. \n",
    "</br></br>\n",
    "\n",
    "Anschließend wird während der Übersetzung die **semantische Korrektheit** überprüft. Beantwortet werden dabei generell Fragen wie:\n",
    "- Existieren die Relationen und Sichten der FROM Klausel?\n",
    "- Existieren die Attribute in den genannten Relationen? Sind sie eindeutig?\n",
    "- Sind die Typen für die Vergleiche korrekt?\n",
    "- Ist die Aggregation korrekt?   \n"
   ]
  },
  {
   "cell_type": "markdown",
   "id": "320fed2f",
   "metadata": {},
   "source": [
    "## Algebraische Transformationsregeln \n",
    "\n",
    "<img src=\"pictures/Ablauf-Anfragebearbeitung_3.png\" alt=\"Ablauf-Anfragebearbeitung_3\" width=\"500\" style=\"background-color: white;\"/>\n",
    "\n",
    "Das Ziel ist es aus dem Parsebaum einen logischen Anfrageplan zu erstellen. Ohne die Semantik der Anfrage zu ändern, soll sie in eine interne Darstellung verwandelt werden. Um die Anfrage effizienter auszuführen, sollen insbesondere kleine Zwischenergebnisse erzielt werden. </br>\n",
    "Am Ende sollen es äquivalente Ausdrücke sein. Zwei Ausdrücke der relationalen Algebra heißen äquivalent, falls sie die gleichen Operanden (=Relationen) nutzt und für jede mögliche Instanz der Datenbank stets die gleiche Antwortrelation ausgibt. \n",
    "\n",
    "\n",
    "### Kommutativität und Assoziativität\n",
    "\n",
    "Die Gesetze gelten jeweils für Mengen und Multimengen. Die verwendeten Ausdrücke können in beide Richtungen verwendet werden. \n",
    "\n",
    "- ? ist kommutativ und assoziativ\n",
    "    - R ? S = S ? R\n",
    "    - (R ? S) ? T = R ? (S ? T)\n",
    "- ∪ ist kommutativ und assoziativ\n",
    "    - R ∪ S = S ∪ R \n",
    "    - (R ∪ S) ∪ T = R ∪ (S ∪ T) \n",
    "- ∩ ist kommutativ und assoziativ \n",
    "    - R ∩ S = S ∩ R \n",
    "    - (R ∩ S) ∩ T = R ∩ (S ∩ T)\n",
    "- ⨝ ist kommutativ und assoziativ \n",
    "    - R ⨝ S = S ⨝ R \n",
    "    - (R ⨝ S) ⨝ T = R ⨝ (S ⨝ T)\n",
    "    \n",
    "\n",
    "### Weitere Regeln\n",
    "\n",
    "Für Selektionen und Projektionen gelten die folgenden Regeln: \n",
    "\n",
    "- Selektion σ\n",
    "    - $σ_{c1 AND c2}(R) = σ_{c1}(σ_{c2}(R))$\n",
    "    - $σ_{c1 OR c2}(R) = σ_{c1}(R) ∪ σ_{c2}(R)$\n",
    "        - nicht bei Multimengen\n",
    "    - $ σ_{c1}(σ_{c2}(R)) = σ_{c2}(σ_{c1}(R))$\n",
    "    - $ σ_{c}(R Φ S) ≡ (σ_{c}(R)) Φ (σ_{c}(S))$\n",
    "        - Φ ∈ {∪, ∩, -, ⨝}\n",
    "    - $ σ_{c}(R Φ S) ≡ (σ_{c}(R)) Φ S$\n",
    "        - Φ ∈ {∪, ∩, -, ⨝}\n",
    "        - Falls sich c nur auf die Attribute in R bezieht. \n",
    "</br>\n",
    "\n",
    "- Projektion π\n",
    "    - $π_{L}(R ⨝ S) = π_{L}(π_{M}(R) ⨝ π_{N}(S))$\n",
    "    - $π_{L}(R ⨝_{C} S) = π_{L}(π_{M}(R) ⨝_{C} π_{N}(S))$\n",
    "    - $π_{L}(R x S) = π_{L}(π_{M}(R) x π_{N}(S))$\n",
    "    - $π_{L}(σ_{c}(R)) = π_{L}(σ_{c}(π_{M}(R))$\n"
   ]
  },
  {
   "cell_type": "markdown",
   "id": "97c95ca5",
   "metadata": {},
   "source": [
    "## Logische Anfragepläne\n",
    "\n",
    "<img src=\"pictures/Ablauf-Anfragebearbeitung_4.png\" alt=\"Ablauf-Anfragebearbeitung_4\" width=\"500\" style=\"background-color: white;\"/>\n",
    "\n",
    "Um nun zu einem logischen Anfrageplan zu gelangen, benötigt es zwei Schritte."
   ]
  },
  {
   "cell_type": "markdown",
   "id": "383ab9d6-1169-4b3c-8b50-647917cf83e0",
   "metadata": {},
   "source": [
    "### Zwei Schritte \n",
    "\n",
    "**Schritt 1**</br>\n",
    "In Schritt 1 wird der Parsebaum in einen Ausdruck der relationalen Algebra übersetzt und dann wieder als Baum dargestellt. Unter anderem werden auch Subanfragen aufgelöst. Letzteres wird aber nicht in dieser Vorlesung weiter thematisiert. \n",
    "</br>\n",
    "\n",
    "**Schritt 2**</br>\n",
    "Der Baum wird im zweitem Schritt gemäß der Transformationsregeln umgeformt. Man kann auch \"Vor-Optimierungen\" mittels Heuristiken durchführen. Dazu zählt unter Anderem:\n",
    "- das Pushen von Selektionen,\n",
    "- das Einbauen und Pushen von Projektionen, \n",
    "- das Zusammenfügen von Selektion und Kreuzprodukt zu einem Join,\n",
    "- die Gruppierung von Vereinigungen und Joins,\n",
    "- und eventuell das Verschieben und Einbauen von Duplikateliminierungen. "
   ]
  },
  {
   "cell_type": "markdown",
   "id": "bedb564d",
   "metadata": {},
   "source": [
    "### Beispiel - Anfragebearbeitung \n",
    "\n",
    "In diesem Beispiel ist ein Ausdruck der relationalen Algebra in einem Parsebaum dargestellt. Die zugehörige SQL-Anfrage wäre\n",
    "```\n",
    "SELECT Nachname\n",
    "FROM mitarbeiter m, projekte p\n",
    "WHERE p.Budget < 40000\n",
    "AND m.p_id = p.p_id;\n",
    "```\n",
    "\n",
    "Man sollte damit beginnen das Kreuzprodukt mit der Selektion zu einem Join zu kombinieren. \n",
    "\n",
    "<img src=\"pictures/Anfragebearbeitung-Beispiel-1.png\" alt=\"Anfragebearbeitung-Beispiel-1\" width=\"500\" style=\"background-color: white;\"/>\n"
   ]
  },
  {
   "cell_type": "markdown",
   "id": "5829fa98",
   "metadata": {},
   "source": [
    "Als nächstes sollte man versuchen die andere Selektion weiter nach unten zu pushen (Push-Down). Ziel ist es mit möglichst wenigen Tupeln in jedem Teilschritt zu arbeiten. Die gegebene Selektion kann direkt vor die Projekt-Relation geschoben werden. \n",
    "\n",
    "<img src=\"pictures/Anfragebearbeitung-Beispiel-2.png\" alt=\"Anfragebearbeitung-Beispiel-2\" width=\"500\" style=\"background-color: white;\"/>"
   ]
  },
  {
   "cell_type": "markdown",
   "id": "17ec8b52",
   "metadata": {},
   "source": [
    "In einem weiterem Schritt können die benötigten Attribute aus den Ausgangsrelationen direkt rausprojiziert werden. \n",
    "\n",
    "<img src=\"pictures/Anfragebearbeitung-Beispiel-3.png\" alt=\"Anfragebearbeitung-Beispiel-3\" width=\"500\" style=\"background-color: white;\"/>"
   ]
  },
  {
   "cell_type": "markdown",
   "id": "8ed810ed-52d9-4c60-8eba-469500092031",
   "metadata": {},
   "source": [
    "### Übergang zum Physischen Anfrageplan\n",
    "\n",
    "Hierbei gibt es diverse Freiheitsgrade:\n",
    "1. Die Reihenfolge und Gruppierung von assoziativen und kommutativen Operatoren können vertauscht werden. Das ist zum Beispiel der Fall bei Joins, Vereinigungen und Schnittmengen. \n",
    "2. Für jeden Operator kann ein Algorithmus gewählt werden. Damit sind die aus dem vorherigen Kapitel kennengelernten Hash-basierten, Sort-basierten oder auch One-Pass Algorithmen gemeint.\n",
    "3. Es können zusätzliche Operatoren (Sort und Projektion), die im logischen Plan selbst nicht auftauchen, hinzugefügt werden. \n",
    "4. Außerdem kann der Modus des Datentransports zwischen den Operatoren gewählt werden. Modi wären eine temporäre Tabelle oder eine Pipeline mit Iterator. \n",
    "\n",
    "Dafür braucht man in jedem Fall zunächst eine Kostenabschätzung. Man möchte herausfinden, wann es sinnvoll ist, welche Operationsreihenfolgen zu nutzen und wie viel ein Plan gesamt kostet. "
   ]
  },
  {
   "cell_type": "markdown",
   "id": "e4e4adbd",
   "metadata": {},
   "source": [
    "## Kostenmodell \n",
    "\n",
    "Beim Kostenmodell werden die Kardinalitäten abgschätzt. Man möchte wissen wie viele Tupel es gibt und wie viele unterschiedliche Werte in den einzelnen Attributen einer Relation vorhanden sind. \n",
    "\n",
    "<img src=\"pictures/Ablauf-Anfragebearbeitung_5.png\" alt=\"Ablauf-Anfragebearbeitung_5\" width=\"500\" style=\"background-color: white;\"/>"
   ]
  },
  {
   "cell_type": "markdown",
   "id": "c8d8c65a-97e2-42c1-a282-370f39ea5bf8",
   "metadata": {},
   "source": [
    "### Kostenbasierte Optimierung (Wiederholung)\n",
    "\n",
    "Konzeptionell werden alle denkbaren Ausführungspläne generiert. Die Kosten für jeden Plan werden anhand eines Kostenmodells bewertet. Dazu werden Statistiken und Histogramme hinzugezogen. Die Parameter werden anhand der Rechnerarchitektur, auf der die Datenbank aufgesetzt ist, kalibriert. Die Optimierung ist abhängig vom verfügbaren Speicher. Dann wird anhand des Aufwands-Kostenmodell geschaut was und wie optimiert werden soll. Entweder Durchsatz maximierend oder nicht Antwortzeit-minimierend. Entsprechend wird der günstigste Plan ausgeführt. Wichtig ist, dass nicht zu lange optimiert wird, da sich sonst der ganze Aufwand nicht lohnen könnte. "
   ]
  },
  {
   "cell_type": "markdown",
   "id": "723058e4",
   "metadata": {},
   "source": [
    "<img src=\"pictures/TimeCost-Meme.png\" alt=\"TimeCost-Meme\" width=\"350\" style=\"background-color: white;\"/>"
   ]
  },
  {
   "cell_type": "markdown",
   "id": "b353b2ec-7202-4d79-95a7-5e8c0cb672e7",
   "metadata": {},
   "source": [
    "### Problemgröße (Suchraum) (Wiederholung)\n",
    "\n",
    "Wie zuvor erwähnt, werden konzeptionell alle denkbaren Ausführungspläne generiert. Man berechnet nun die Bushy-Pläne mit n Tabellen. Bushy-Plan bedeutet, dass der Baum immer balanciert ist. \n",
    "\n",
    "$$\\frac{(2(n-1))!}{(n-1)!}$$ \n",
    "\n",
    "| n | $2^n$ | n! | $\\frac{(2(n-1))!}{(n-1)!}$ |\n",
    "|-|-|-|-|\n",
    "| **2** | 4 | 2 | 2 |\n",
    "| **5** | 32 | 120 | 1680 |\n",
    "| **10** | 1024 | 3628800 | 1,76 * 10^10 |\n",
    "| **20** | 1048576 | 2,4 * 10^18 | 4,3 * 10^27 |\n",
    "\n",
    "</br>\n",
    "\n",
    "Die Anzahl der Deep-Pläne mit n Tabellen ist n!. Die Plankosten unterscheiden sich um viele Größenordnungen. Das Optimierungsproblem ist NP-hard (NP-Schwer). \n",
    "</br>\n",
    "\n",
    "Folie: Prof. Alfons Kemper, TU München."
   ]
  },
  {
   "cell_type": "markdown",
   "id": "75902613",
   "metadata": {},
   "source": [
    "### Kostenmodell (Wiederholung) \n",
    "\n",
    "Gegeben ist ein algebraischer Ausdruck z.B. ein Anfrageplan. Das Kostenmodell schätzt die Ausführungskosten für diesen Ausdruck. Im Kostenmodell werden Punkte wie die Indexinformationen, die Ballungs-Informationen (Clustering on disk), die DB-Kardinalitäten und die Attributverteilungen berücksichtigt. \n",
    "\n",
    "<img src=\"pictures/Kostenmodell.png\" alt=\"Kostenmodell\" width=\"500\" style=\"background-color: white;\"/>"
   ]
  },
  {
   "cell_type": "markdown",
   "id": "f373062a",
   "metadata": {},
   "source": [
    "### Statistiken (Wiederholung)\n",
    "\n",
    "<img src=\"pictures/Statistiken-Histogram-of-arrivals.png\" alt=\"Statistiken-Histogram-of-arrivals\" width=\"500\" style=\"background-color: white;\"/>\n",
    "\n",
    "Man kann unterschiedliche Statistiken für das Kostenmodell nutzen. Für die Statistiken kann man verschiedene Werte berücksichtigen. Zu jeder Basisrelation gibt es die Anzahl der tupel und die Größe der einzelnen Tupel. \n",
    "Zu (jedem) Attribut gibt es den minimalen und maximalen Wert, eine Werteverteilung (Histogramm) und die Anzahl der distinct Werte. Zum System sind die Speichergröße, die Bandbreite, I/O- und CPU-Zeiten angegeben. \n",
    "</br>\n",
    "\n",
    "Das eigentliche Problem ist das Erstellen und Updaten der Statistiken. Wenn man eine Datenbank hat, die sich sehr schnell immer wieder verändert, müssen die Statistiken dazu auch häufig neu erstellt werden (```runstats()```). Dies kostet weitere Ressourcen. Man sollte sich überlegen wie genau man die Statistiken haben möchte und dementsprechend viel Zeit in das Optimieren investieren. Aus diesem Grund initiiert man meist nur explizit/manuell die Erstellung und das Update der Statistiken. "
   ]
  },
  {
   "cell_type": "markdown",
   "id": "3f120108-5f01-4e48-b3a2-8def71f721c6",
   "metadata": {},
   "source": [
    "### Kosten von Operationen\n",
    "\n",
    "Das wesentliche Kostenmerkmal bei Operationen ist die Anzahl der Tupel im Input. Insbesondere ist die Frage, ob die Relation in den Hauptspeicher passt und man darauf Operationen wie Selektion, Projektion, Sortierung und Join ausführen kann.  </br>\n",
    "Der Output ist immer der Input des nächsten Operators. Deshalb schätzt ein Kostenmodell unter anderem für jede Operation die Anzahl der Ausgabetupel.\n",
    "Zum Schätzen wird die „Selektivität“ in Bezug auf Inputgröße herangezogen. Sie gibt an wie viele Eingabetupel ein Operator herausselektiert und wie viele Ausgabetupel dann erwartet werden können. Es wird auch „Selektivitätsfaktor“ (selectivity factor, sf) genannt. \n",
    "- #Ausgabetupel = #Eingabetupel x Selektivität"
   ]
  },
  {
   "cell_type": "markdown",
   "id": "f28c77bc-f07a-460f-8dbf-ab5fa0e7ff25",
   "metadata": {},
   "source": [
    "### Kostenschätzung - Projektion \n",
    "\n",
    "Die Größe des Zwischenergebnisses kann bei der Projektion exakt ausgerechnet werden. </br>\n",
    "</br>\n",
    "**Beispiele**</br>\n",
    "Gegeben ist eine Relation R(A integer(4), B integer(4), C varchar(100)) mit einem Tupelheader von 12 Byte. \n",
    "\n",
    "**1:**</br>\n",
    "Somit ergeben sich insgesamt 120 Byte pro Tupel. Ein Block besteht aus 1024 Byte mit einem 24 Byte Header. Also sind es 8 Tupel pro Block. </br>\n",
    "Bei einer Relation R mit 10000 Tupeln: T(R) = 10000, kommt man bei 8 Tupeln pro Block, auf insgesamt 1250 Blöcke, die benötigt werden: B(R) = 1250.\n",
    "</br>\n",
    "\n",
    "**2:**</br>\n",
    "$Q_{1} = \\pi_{A+B,C}(R)$</br>\n",
    "Daraus ergeben sich 116 Byte pro Tupel. Bei 8 Tupeln pro Block hat man wieder 1250 Blöcke pro Tupel: B($Q_{1}$) = 1250.\n",
    "</br>\n",
    "\n",
    "**3:**</br>\n",
    "$Q_{2} = \\pi_{A,B}(R)$ </br>\n",
    "Man erhält 20 Byte pro Tupel. Insgesamt also 50 Tupel pro block und B($Q_{2}$) = 200. \n",
    "\n"
   ]
  },
  {
   "cell_type": "markdown",
   "id": "7453afd9-3fde-4c4c-a9c6-9e96cbd41d25",
   "metadata": {},
   "source": [
    "### Kostenschätzung - Selektion\n",
    "\n",
    "Im Gegensatz zur Projektion bleibt zwar die Tupelgröße, aber die Anzahl der Tupel sinkt bei der Selektion. </br>\n",
    "$Q=\\sigma_{A=c}(R)$ </br>\n",
    "Die Formel zur Selektion zeigt einen Vergleich zwischen dem Attribut A und der Konstante c. Basierend auf Annahmen kann man die Anzahl der Ausgabetupel berechnen. Die erste Annahme ist, dass die Werte gleich verteilt sind. Die zweite, dass c einer dieser Werte ist. Zur Berechnung nutzt man die Formel $T(Q) = T(R) / V(R,A)$. $V(R,A)$ ist die Anzahl der distinct Werte in Spalte A. D.h. der Selektivitäsfaktor ist $1 / V(R,A)$. Bessere Abschätzungen sind mittels Histogrammen möglich.  \n",
    "<br>\n",
    "\n",
    "$Q=\\sigma_{A<c}(R)$</br>\n",
    "Der Vergleich der Selektion A < c macht eine Bereichsabfrage. Es gibt Möglichkeiten dies genau abzuschätzen. Einfachheitshalber nutzen wir hier eine erste Abschätzung: $T(Q) = T(R) / 2$. Typischer ist die Formel $T(Q) = T(R) / 3$.\n",
    "<br>\n",
    "\n",
    "$Q=\\sigma_{A \\neq c}(R)$</br>\n",
    "Man möchte in der Selektion nicht die Attribute haben, die der Konstante c entsprechen. Eine erste einfache Abschätzung wäre es davon auszugehen, dass man (fast) alles zurückbekommt: $T(Q) = T(R)$. Etwas genauer ist stattdessen die Formel $T(Q) = T(R) * (V(R,A) - 1) / V(R,A)$. Sie ist sehr ähnlich zu der ersten Formel vom Vergleich ($Q=\\sigma_{A=c}(R)$). Der Unterschied besteht darin, dass sie nicht alle Tupel zurückgibt, die gleich der Konstante sind, sondern genau das Gegenteil: Alle Tupel, die ungleich der Konstante sind. \n",
    "</br>\n",
    "\n",
    "Hat man Konjunktionen bei mehreren Selektionsbedingungen, multipliziert man die Selektivitätsfaktoren. Die Annahme dafür ist die Unabhängigkeit der Bedingungen. \n"
   ]
  },
  {
   "cell_type": "markdown",
   "id": "4e639a2e",
   "metadata": {},
   "source": [
    "### Selektivität schätzen\n",
    "\n",
    "<img src=\"pictures/Selektivität-schätzen.png\" alt=\"Selektivität-schätzen\" width=\"500\" style=\"background-color: white;\"/>\n",
    "\n",
    "Das Bild ist aus dem Werk für das System R von Selinger et al. aus dem Jahre 1979. Man sieht die Möglichkeiten zur Einschätzung der Selektivität. Beim Schätzen wird fast immer eine Gleichverteilung angenommen."
   ]
  },
  {
   "cell_type": "markdown",
   "id": "b0b5aec5",
   "metadata": {},
   "source": [
    "### Beispiel für Skew: Zipf-Verteilung\n",
    "\n",
    "<img src=\"pictures/George-Kingsley-Zipf.png\" alt=\"George-Kingsley-Zipf\" width=\"200\" style=\"background-color: white;\"/>\n",
    "\n",
    "Eine sehr bekannte Verteilung ist die Zipf-Verteilung von George Kingsley Zipf (1902 - 1950). Sie modelliert Worthäufigkeiten in den Texten einer Sprache. Die Wörter werden nach ihren Häufigkeiten sortiert. Die Häufigkeit des häufigsten Wortes sei dabei h. Wenn alles sortiert ist kann man beispielsweise für den i-ten Wert die Häufigkeit berechnen. Der i-te Wert tauch dann genau $h / i^{1/2}$ mal auf. Der zughörige Graph sieht wie folgt aus:\n",
    "\n",
    "<img src=\"pictures/Beispiel-Skew-Graph.png\" alt=\"Beispiel-Skew-Graph\" width=\"500\" style=\"background-color: white;\"/>\n",
    "\n",
    "Wenige Werte kommen sehr häufig vor, die vielen anderen Werte kommen hingegen sehr selten vor. Anhand der Verteilung könnte man nun probieren die Kardinalitätsabschätzung anzupassen. Dennoch sollte es eher gelassen werden. Die durchschnittliche Antwortkardinalität bleibt weiter $T(R) / V(R,A)$. Durch die Annahme, dass Konstanten in Selektionsbedingungen gleichverteilt gewählt werden, kann es bei der Zipf-Verteilung der Konstanten zu einer Unterschätzung kommen. "
   ]
  },
  {
   "cell_type": "markdown",
   "id": "633a7c93",
   "metadata": {},
   "source": [
    "<img src=\"pictures/Zipfs-law.png\" alt=\"Zipfs-law\" width=\"500\" style=\"background-color: white;\"/>\n",
    "\n",
    "A plot of the rank versus frequency for the first 10 million words in 30 Wikipedias (dumps from October 2015) in a [log-log](https://en.wikipedia.org/wiki/Log%E2%80%93log_plot) scale.\n",
    "\n",
    "Das Beispiel zeigt das Prinzip von Zipf's law. Außerdem ist es unabhängig von der jeweils gewählten Sprache. "
   ]
  },
  {
   "cell_type": "markdown",
   "id": "3fffce6f-6aeb-4a28-bd88-601750913b6f",
   "metadata": {},
   "source": [
    "### Kostenschätzung - Selektion\n",
    "\n",
    "**Beispiele**</br>\n",
    "Gegeben ist eine Relation R mit T(R) = 10000 und V(R,A) = 50. \n",
    "</br>\n",
    "\n",
    "**1:**</br>\n",
    "$Q = \\sigma_{A=10 AND B<20}(R)$</br>\n",
    "Die Ausgabetupel werden geschätzt mit $T(Q) = 10000 * 1/50 * 1/3 = 67$.\n",
    "</br>\n",
    "\n",
    "**2:**</br>\n",
    "$Q = \\sigma_{A=10 AND A>20}(R)$</br>\n",
    "Im ersten Moment würde man die Ausgabetupel mit $T(Q) = 10000 * 1/50 * 1/3 = 67$ schätzen. Bei genauerer Betrachtung fällt auf, dass die Bedingung so nicht möglich ist. Das Attribut kann gleichzeitig nicht genau 10 und über 20 sein. Besser ist die Abschätzung T(Q) = 0. Ein Optimierer sollte solche Fälle erkennen. \n",
    "</br>"
   ]
  },
  {
   "cell_type": "markdown",
   "id": "b839fc18-b59e-4324-80ad-d5b93bf262d3",
   "metadata": {},
   "source": [
    "### Kostenschätzung - Selektion mit Disjunktion\n",
    "\n",
    "\n",
    "$Q = \\sigma_{C1 OR C2}(R2)$</br>\n",
    "\n",
    "**Idee 1**</br>\n",
    "Bilde die Summe der Ergebniskardinalitäten mit der Annahme, dass kein Tupel beide Bedingungen erfüllt. Dennoch kann es dazu führen, dass das Ergebnis größer als die Ursprungsrelation ist: T(Q) > T(R). \n",
    "</br>\n",
    "\n",
    "**Idee 2**</br>\n",
    "Daher könnte man nun das Minimum unter der Anzahl der Tupel in R und der Summe der Ergebniskardinalitäten wählen: $min[T(R), Summe der Ergebniskardinalitäten]$. Es ist keine perfekte Lösung, aber ein erster Versuch sich näher an das richtige Ergebnis heranzutasten. \n",
    "</br>\n",
    "\n",
    "**Idee 3**</br>\n",
    "Nutze die Wahrscheinlichkeitstheorie mit der Annahme, dass C1 und C2 unabhängig voneinander sind. Sei \n",
    "- $T(R) = n$,\n",
    "- $T(\\sigma_{C1}(R)) = m_{1}$ und \n",
    "- $T(\\sigma_{C2}(R)) = m_{2}$. \n",
    "\n",
    "Daraus ergibt sich\n",
    "$T(Q) = n(1-(1-\\frac{m_{1}}{n})(1-\\frac{m_{2}}{n}))$. Wobei der Term $(1-\\frac{m_{1}}{n})$ den Anteil der Tupel, die nicht C1 entsprechen, beschreibt. Der zweite ähnliche Term $(1-\\frac{m_{2}}{n})$ beschreibt den Anteil der Tupel, die nicht C2 entsprechen. \n",
    "</br>\n",
    "\n",
    "**Beispiel**</br>\n",
    "Sei die Selektion $Q = \\sigma_{A=10 OR B<20}(R)$ gegeben. Bilde zunächst wie in Idee 1 beschrieben von separat die Ergebniskardinalitäten beider Bedingungen und addiere beide anschließend:\n",
    "- $T(\\sigma_{A=10}(R)) = T(R) / V(R,A) = 10000 / 50 = 200$\n",
    "- $T(\\sigma_{B<20}(R)) = T(R) / 3 = 3333$\n",
    "- $T(Q) = 200 + 3333 = 3533$\n",
    "\n",
    "Eine bessere Schätzung wäre mit Idee 3 möglich:\n",
    "- $T(R) = 10000$,\n",
    "- $T(\\sigma_{A=10}(R)) = 200$ und\n",
    "- $T(\\sigma_{B<20}(R)) = 3333$. \n",
    "\n",
    "Setzt man diese Werte in die Formel der Wahrscheinlichkeitstheorie ein, erhält man als Ergebnis 3466:\n",
    "$T(Q) = n(1-(1-\\frac{m_{1}}{n})(1-\\frac{m_{2}}{n})) = 10000 (1-(1-\\frac{200}{10000})(1-\\frac{3333}{10000}))$\n",
    "\n",
    "Die Formel kann deutlich vereinfacht werden $m_{1} + m_{2} - n (\\frac{m_{1}}{n} * \\frac{m_{2}}{n})$</br>\n",
    "$= 200 + 3333 - 10000(\\frac{200}{10000} * \\frac{3333}{10000})$</br>\n",
    "$= 3533 - (\\frac{666600}{10000})$</br>\n",
    "$= 3533 - 67$</br>\n",
    "$= 3466$</br>\n"
   ]
  },
  {
   "cell_type": "markdown",
   "id": "dcc0f0d2-e7ee-4c03-9125-5187a52fd330",
   "metadata": {},
   "source": [
    "### Kostenschätzung - Join\n",
    "\n",
    "In dieser Vorlesung betrachten wir nur den Natural Join. Das Verfahren beim Equijoin wäre analog dazu. Ein Thetajoin mit \"<\", \">\" usw. wird wie zuvor geschätzt. Zum Beispiel mit $1/3 T(R) * 1/3 T(S)$.</br>\n",
    "\n",
    "$R(X,Y) \\Join S(Y,Z)$</br>\n",
    "Vereinfachend wird hier angenommen, dass wir nur über ein Attribut Y joinen. Ein Problem ist die Beziehung zwischen R.Y und S.Y. Man weiß nicht wie viele Elemente aus R.Y auch in S.Y auftauchen. Theoretisch kann man sagen, dass es disjunkte Mengen und nichts gleich ist. Damit würde man bei einem Join 0 Elemente erhalten: $T(R \\Join S) = 0$. Eine weitere Möglichkeit wäre eine Fremdschlüsselbeziehung (mit einem Schlüssel in S). Dann wäre das Resultat die Menge an Tupeln in R: $T(R \\Join S) = T(R)$. Es gibt noch eine dritte Möglichkeit, wenn man davon ausgeht, dass fast alles gleiche Werte sind: $T(R \\Join S) = T(R) * T(S)$. </br>\n",
    "\n",
    "Es müssen also wieder ein paar Annahmen getroffen werden. \n",
    "Die erste Annahme sagt, dass die Werte eines Attributs, das in mehreren Relationen auftaucht, vom Beginn einer Liste gewählt wird. Das ist das sogenannte **Containment of Value Sets**. Falls also die Distinct-Werte der Relation R kleiner gleich den Distinct-Werten der anderen Relation S sind ($V(R,Y) \\leq V(S,Y)$), dann taucht jeder Y-Wert in R auch in S auf. </br>\n",
    "Die zweite Annahme besagt, dass die Anzahl der Distinct-Werte eines nicht-Joinattributs erhalten bleiben: $V(R \\Join S, X) = V(R,X)$. Auch **Preservation of Value Sets** genannt. Es ist realistisch, wenn von Gleichverteilung ausgegangen wird. Insbesondere, wenn die Relation S eine Fremdschlüsselbeziehung hat. Der einzige Fall bei dem es nicht mehr korrekt sein könnte ist, wenn das X ein Schlüssel ist.</br>\n",
    "</br>\n",
    "\n",
    "Sei $V(R,Y) \\leq V(S,Y)$, dann gilt:\n",
    "- jedes Tupel aus R hat eine $1 / V(S,Y)$ Chance, mit einem gegebenen S-Tupel zu joinen.\n",
    "- (da T(S) S-Tupel): Ein Tupel aus R hat $T(S) * 1/V(S,Y)$ Joinpartner in S. \n",
    "- (da T(R) R-Tupel): $T(R \\Join S) = T(R) * T(S) / V(S,Y)$.\n",
    "</br>\n",
    "\n",
    "Falls $V(R,Y) \\leq V(S,Y)$, dann gilt $T(R \\Join S) = T(R) * T(S) / V(R,Y)$. </br>\n",
    "</br>\n",
    "\n",
    "Allgemein gilt: $T(R \\Join S) = T(R) * T(S) / max[V(R,Y), V(S,Y)]$.\n",
    "</br>\n",
    "\n",
    "### Kostenschätzung - Join Beispiel\n",
    "\n",
    "Seien Joins zwischen drei Relationen gegeben:</br>\n",
    "$R(A,B) \\Join S(B,C) \\Join U(C,D)$.</br>\n",
    "\n",
    "Die Anzahl der Tupel der Relationen ist wie folgt:\n",
    "- T(R) = 1.000\n",
    "- T(S) = 2.000\n",
    "- T(U) = 5.000\n",
    "\n",
    "Die Selektionsfaktoren sind\n",
    "- V(R,B) = 20\n",
    "- V(S,B)= 50\n",
    "- V(S,C) = 100\n",
    "- V(U,C)=500\n",
    "\n",
    "Die Joins werden in der Reihenfolge $(R \\Join S) \\Join U$ betrachtet. \n",
    "Daher kann man zunächst $T(R \\Join S)$ berechnen:\n",
    "$T(R \\Join S) = T(R) * T(S) / max[V(R,B),V(S,B)] = 1.000 * 2.000 / 50 = 40.000$ </br>\n",
    "Aber man kann die Relation U auch direkt hinzujoin/heranmultiplizieren: $T(R \\Join S \\Join U) = T(R \\Join S) * T(U) / max[V(R \\Join S, C), V(U, C)] = 40.000 * 5.000 / max[100, 500] = 400.000$ </br>\n",
    "\n"
   ]
  },
  {
   "cell_type": "markdown",
   "id": "b6f84508-83f2-4586-be7d-94b93721d6e5",
   "metadata": {},
   "source": [
    "Zur Probe können Sie $T(R \\Join (S \\Join U))$ nachrechnen."
   ]
  },
  {
   "cell_type": "markdown",
   "id": "71e657d2-113c-4784-9ca9-aad096ee0b3e",
   "metadata": {},
   "source": [
    "\n",
    "\n",
    "<details>\n",
    "  <summary><strong>Lösung</strong></summary>\n",
    "    Auch wenn man zuerst die anderen Relationen miteinander joint, erhält man wieder das Selbe Ergebnis: 400000. \n",
    "</details>\n"
   ]
  },
  {
   "cell_type": "markdown",
   "id": "df7b145b-12c9-44b0-ac48-c1e1201b6994",
   "metadata": {},
   "source": [
    "### Kostenschätzung Join - Mehrere Attribute\n",
    "\n",
    "$R(X,Y) \\Join S(Y,Z)$</br>\n",
    "Y enthält nun mehr als ein Attribut. Die Schreibweise ist hier: $R(X,Y1,Y2) \\Join S(Y1,Y2,Z)$</br>\n",
    "Die Ergebniskardinalität von $R \\Join S$ entspricht dem Produkt der Kardinalitäten von R und S, dividiert durch das Produkt des jeweils größeren von V(R,Y) und V(S,Y) für jedes Join-Attribut Y: $T(R \\Join S) = T(R) * T(S) / ( max[V(R,Y1),V(S,Y1)] * max[V(R,Y2),V(S,Y2)] )$"
   ]
  },
  {
   "cell_type": "markdown",
   "id": "c7cd2e74-10a9-4230-ba49-5cce67b063db",
   "metadata": {},
   "source": [
    "### Kostenschätzung - Mehrfacher Join\n",
    "\n",
    "Im allgemeinen Fall $ S = R_{1} \\Join R_{2} \\Join ... \\Join R_{n} $ wird in diesem Fall über das selbe Attribut A gejoint. Notiert wird es mit $V(R_{i}, A) = v_{i}$. Das Attribut A erscheint in k Relationen. Es gilt $v_{1} \\leq v_{2} \\leq ... \\leq v_{k}$ mit $ k \\leq n $. Die Frage ist nun wie die Kardinalität des Ergebnisses berechnet wird.</br>\n",
    "Dazu eine kleine Gedankenhilfe:\n",
    "Gegeben ist ein Tupel aus jeder der k Relationen. Gesucht wird die Wahrscheinlichkeit, dass alle im A-Wert übereinstimmen. Es gibt wieder das Containment of Value Sets: Jeder A-Wert von Tupeln aus $R_{1}$ taucht in den anderen Relationen auf. Ein Tupel aus $R_{i}$ hat eine Wahrscheinlichkeit von $1/v_{i}$ mit einem gegebenen Tupel aus $R_{1}$ übereinzustimmen. Zusammen ergibt sich $1 / v_{2} * v_{3} * … * v_{k}$. Die Wahrscheinlichkeiten der einzelnen Tupel der verschiedenen Relationen müssen nur multipliziert werden. </br>\n",
    "Für das Gesamtvorgehen ist der Ausgangspunkt also das Produkt aller Kardinalitäten zu bilden. Betrachtet man die Selektivität muss für jedes Attribut, das mehr als einmal auftaucht, durch das Produkt aller $v_{i}$ bis auf das kleinste ($v_{1}$ dividiert werden.\n",
    "\n",
    "**Beispiel**</br>\n",
    "- Die Anfrage ist $R(A,B,C) \\Join S(B,C,D) \\Join U(B,E)$. \n",
    "- Die Kardinalitäten sind\n",
    "    - T(R) = 1000;\n",
    "    - T(S) = 2000;\n",
    "    - T(U) = 5000.\n",
    "- Die DISTINCT Werte sind\n",
    "    - V(R,B): 20;\n",
    "    - V(R,C): 200;\n",
    "    - V(S,B): 50;\n",
    "    - V(S,C): 100;\n",
    "    - V(U,B): 200.\n",
    " \n",
    "Vorgehen: Zunächst zählt man alle (Tupel-)Kombinationen der Relationen auf: $1000 * 2000 * 5000 = 10.000.000.000$. Dann werden die Wahrscheinlichkeiten für gemeinsame Attribute multipliziert. Die Relation B hat drei- und die Relation C hat zweimal gemeinsame Attribute. Für B ergibt sich: $1/50 * 1/200$. Für C wiederrum: $1/200$. \n",
    "Zusammen ergibt sich: </br>\n",
    "$10.000.000.000 / (50 * 200 * 200)$</br>\n",
    "$= 10.000.000.000 / 2.000.000$</br>\n",
    "$= 5.000$"
   ]
  },
  {
   "cell_type": "markdown",
   "id": "76b672e1-6f59-4e6b-bd7c-c609a34d1681",
   "metadata": {},
   "source": [
    "### Kostenschätzung - Weitere Operationen\n",
    "\n",
    "**Vereinigung** $(R \\cup S)$</br>\n",
    "Bei einer Multimenge bildet man die Summe der Inputs. Bei einer normalen Menge wählt man eine Vereinigung der Relationen, die größer ist als die größte Relation und kleiner als die Summe der Tupel aller Relationen: $max[T(R), T(S)] \\leq T(R \\cup S) \\leq T(R) + T(S)$. Z.B könnte man auch den Durchschnitt von Maximum und Summe berechnen: $AVG[T(R) + T(S), max[T(R), T(S)]]$.\n",
    "\n",
    "**Schnittmenge** $(R \\cap S)$</br>\n",
    "Die Schnittmenge der Relationen muss größer als 0, aber noch kleiner als die kleinste Relation sein: $0 ≤ T(R \\cap S) \\leq min[T(R), T(S)]$. Die erste Idee zur Vereinfachung ist es die kleinste Relation zu halbieren: $min[T(R), T(S)]/2$. Die zweite Idee ist es, es als Join aufzufassen. Dabei kommt es häufig zu einer extremen Unterschätzung. \n",
    "\n",
    "**Differenz**</br>\n",
    "Die Differenz muss kleiner als die anfängliche Relation und größer als das Maximum von 0 und der Differenz der Anzahl der Tupel der Relationen: $max[0,T(R) - T(S)] \\leq T(R - S) \\leq T(R)$. Hier wählt man z.B. eine Mitte mit $max[0, T(R) – T(S)/2]$.\n",
    "\n",
    "**Duplikateliminierung**</br>\n",
    "$T(\\delta(R)) = V(R, [A_{1}, ..., A_{n}])$. Die Anzahl der Tupel muss kleiner gleich der Anzahl der Ausgangsrelation sein. Es darf natürlich nicht weniger als ein Tupel vorhanden sein: $1 \\leq T(\\delta(R)) \\leq T(R)$. Man kann auch die Distinct-Werte miteinander multiplizieren $T(\\delta(R)) \\leq \\prod_{i} V(R, A_{i})$. Z.B. kann dafür auch $T(\\delta(R)) = min[T(R)/2, \\prod_{i} V(R, A_{i})]$ genutzt werden. \n",
    "\n",
    "**Gruppierung und Aggregation**</br>\n",
    "Die Anzahl der Tupel muss auf jeden Fall kleiner gleich der Anzahl der Tupel in der Ausgangsrelation sein, aber dennoch muss es mindestens ein Tupel geben: $1 \\leq T(\\gamma_{L}(R)) \\leq T(R)$. \n",
    "Falls nur ein Gruppierungsattribut gibt, gilt: $T(\\gamma_{L}(R)) \\leq V(R,L)$\n",
    "Falls mehrere es mehrere gibt muss multipliziert werden: $T(\\gamma_{L}(R)) \\leq \\prod_{i} V(R, L_{i})$. Man kann auch die Formel $T(\\gamma_{L}(R)) = min[T(R)/10, \\prod_{i} V(R, A_{i})]$ nutzen.\n"
   ]
  },
  {
   "cell_type": "markdown",
   "id": "00ef3d19",
   "metadata": {},
   "source": [
    "## Histogramme\n",
    "\n",
    "Für genauere Berechnung werden Histogramme verwendet. Nun ist nicht mehr nur die Kardinalität bekannt, sondern auch die Verteilung der Werte. \n",
    "\n",
    "### Ablauf der Anfragebearbeitung \n",
    "\n",
    "Im Ablauf befinden sich die Histogramme im Bereich der Kostenschätzung. \n",
    "\n",
    "<img src=\"pictures/Ablauf-Anfragebearbeitung_6.png\" alt=\"Ablauf-Anfragebearbeitung_6\" width=\"500\" style=\"background-color: white;\"/>"
   ]
  },
  {
   "cell_type": "markdown",
   "id": "829ce23d-34b3-4be8-9d37-107d462880dd",
   "metadata": {},
   "source": [
    "### Schätzung der Statistiken\n",
    "\n",
    "Statistiken sind notwendig, um die Größe von Zwischenergebnissen zu berechnen, insbesondere T(R) und V(R,A). Statistiken werden auf Befehl des Administrators eingeholt. Zum Beispiel wird T(R) mittels Scan von R. V(R,A) kann mittels einer der vorigen Algorithmen ermittelt werden. Das ist ähnlich wie bei der Gruppierung auch separat für jedes Attribut. B(R) wird gezählt, falls R nicht clustered gespeichert ist. Falls es geclustered ist, dann wird $(T(R) / Tupel pro Block)$ berechnet."
   ]
  },
  {
   "cell_type": "markdown",
   "id": "220312b3-5ad0-4a0e-ac6d-273f5ee6c717",
   "metadata": {},
   "source": [
    "### Schätzung der Statistiken - Histogramme\n",
    "\n",
    "Histogramme stellen speichereffizient Werteverteilungen dar. Die Idee ist es, Gruppen von Werten (zusammenhängende Wertebereiche) in Buckets zusammenzufassen. Varianten von Buckets wären Equal-width und Equal-height. In den Buckets geht Genauigkeit verloren, weswegen man zusätzlich Häufigkeiten für die häufigsten Werte speichern kann. \n",
    "Pro Bucket wird die durchschnittliche Anzahl der Tupel pro Einzel-Wert gespeichert. D.h. man nimmt innerhalb des Buckets eine Gleichverteilung an.\n",
    "**Vorteile** sind geringere Schätzfehler, da Verteilungsannahmen nur in kleineren Bereichen getroffen werden. Außerdem ist der Speicherverbrauch durch das Zusammenfassen in Gruppen geringer.\n",
    "Bei **Design und Wartung** bleiben ein paar Fragen offen: \n",
    "- Wie werden Bucketgrenzen bestimmt?\n",
    "- Was wird pro Bucket gespeichert?\n",
    "- Wie werden Histogramme aktuell gehalten?"
   ]
  },
  {
   "cell_type": "markdown",
   "id": "41d2695a",
   "metadata": {},
   "source": [
    "### Verteilungen - Körpergewicht\n",
    "\n",
    "<img src=\"pictures/Verteilungen-Körpergewicht.png\" alt=\"Verteilungen-Körpergewicht\" width=\"500\" style=\"background-color: white;\"/>\n",
    "\n",
    "In der Grafik sind Verteilungen zum Körpergewicht dargestellt. Die **Normalverteilung** hat einen Wertebereich von 120-40=80. Ihr Mittelwert beträgt 80 und die Standardabweichung (stddev) ist 12. Es betrifft 100.000 Personen. \n",
    "Bei der **Gleichverteilung** wird angenommen, dass jede Gewichtsklasse mit der gleichen Häufigkeit auftaucht. Somit sind es 100.000/80=1250 Personen für jede Gewichtsklasse. Die Gleichverteilung ist somit in fast jedem Bereich fehleranfällig.\n",
    "Die einzigen genauen Punkte sind die Schnittpunkte der beiden Verteilungen. An den anderen Stellen kommt es zu groben Fehlschätzungen. "
   ]
  },
  {
   "cell_type": "markdown",
   "id": "acb9e763",
   "metadata": {},
   "source": [
    "### Equi-Width Histogramme\n",
    "\n",
    "<img src=\"pictures/Equi-Width-Histogramme.png\" alt=\"Equi-Width-Histogramme\" width=\"500\" style=\"background-color: white;\"/>\n",
    "\n",
    "Etwas besser ist es, eine feste Anzahl an Buckets mit jeweils gleicher Breite zu erstellen. Der Vorteil ist, dass die Grenzen nicht mitgespeichert werden müssen. Der Startpunkt und die Breite genügen. Es wird eine Gleichverteilung in jedem Bucket angenommen. Ein Histogramm kann mittels eines Scans von R berechnet werden. Quellen für Schätzfehler sind zu wenige Buckets und, wenn sich die Werteverteilung innerhalb der Buckets stark unterscheidet. "
   ]
  },
  {
   "cell_type": "markdown",
   "id": "3e142f08",
   "metadata": {},
   "source": [
    "### Equi-Height-Histogramme\n",
    "\n",
    "<img src=\"pictures/Equi-Height-Histogramme.png\" alt=\"Equi-Height-Histogramme\" width=\"500\" style=\"background-color: white;\"/>\n",
    "\n",
    "Eine andere Variation ist das Equi-Height Histogramm. Auch bekannt als Equi-depth-Histogramme bzw. Perzentile. Nun probiert man, dass innerhalb eines Buckets sehr ähnliche Werte gespeichert werden. Es gibt eine feste Anzahl an Buckets. Zum Beispiel 10 Stück für 10%, 20%, usw. Die Bucketgrenzen werden so gewählt, dass jedes Bucket ungefähr die gleiche Anzahl an Tupeln enthält. Hier sind es 10.000 Personen pro Bucket. Die Bucketgrenzen müssen gespeichert werden. Die Berechnung der Histogramme erfolgt durch Sortierung und gleichgroße Sprünge."
   ]
  },
  {
   "cell_type": "markdown",
   "id": "6d34942f-241c-4f8d-8ea4-5c45f1ada475",
   "metadata": {},
   "source": [
    "### Histogramme zur Schätzung für Joins\n",
    "\n",
    "| Wertebereich Temperator °F | Januar | Juli |\n",
    "|-|-|-|\n",
    "|0-9|40|0|\n",
    "|10-19|60|0|\n",
    "|20-29|80|0|\n",
    "|30-39|50|0|\n",
    "|40-49|10|5|\n",
    "|50-59|5|20|\n",
    "|60-69|0|50|\n",
    "|70-79|0|100|\n",
    "|80-89|0|60|\n",
    "|90-99|0|10|\n",
    "\n",
    "```\n",
    "SELECT Januar.Tag, Juli.Tag\n",
    "FROM Januar, Juli\n",
    "WHERE Januar.temp = Juli.temp\n",
    "```\n",
    "\n",
    "Die Schätzung pro Wertebereich erfolgt mit $Histo1 · Histo2 / Breite$. Besonders interessant sind die Wertebereiche von 40-49 und 50-59, da sowohl im Januar, als auch im Juli ein jeweils ein Wert steht: $10·5/10 + 5·20/10 = 5 + 10 = 15$. Insgesamt sind es also 15 gemessene Werte. </br>\n",
    "Gibt es kein Histogramm, dann muss eine herkömmliche Schätzung gemacht werden. Man wüsste, dass es 245 Tupel  mit gleichverteilten Temperaturen pro Relation gibt. Die Berechnung für den Join ist dann 245·245/100 = 600 Tupel. \n",
    "</br>\n",
    "\n",
    "Eine neue **Variante** ist es, die Histogramme jeweils die 3 häufigsten Werte auflisten und den Rest gruppieren zu lassen. Besonders ist es für z.B. Zipf-verteilte Daten geeignet.\n",
    "\n",
    "**Beispiel** \n",
    "\n",
    "Die Anfrage ist $R(A,B) \\Join S(B,C)$.</br>\n",
    "Das Histogramm für R.B ist\n",
    "- 1: 200;\n",
    "- 0:150;\n",
    "- 5: 100;\n",
    "- Rest: 550.\n",
    "\n",
    "Das Histogramm für S.B ist\n",
    "0: 100;\n",
    "- 1: 80;\n",
    "- 2: 70;\n",
    "- Rest: 250.\n",
    "\n",
    "Insgesamt gibt es in R 14 und in S 13 unterschiedlich Werte: V(R,B) = 14 und V(S,B) = 13. Die Resttupel in R (550 Tupel) haben somit 11 verschiedene Werte bei einer Annahme von je 50 Tupeln. Die Resttupel in S (250 Tupel) haben 10 verschiedene Werte bei einer Annahme von je 25 Tupeln. </br>\n",
    "Man kann eine genaue Schätzung für die Werte 0 und 1 von B machen: $150·100 + 200·80=31000$. Der Wert „2“ kommt geschätzt 50 mal in R und 70 mal in S vor: $50 · 70 = 3500$. Insgesamt also 3500 Tupel. Der Wert „5“ kommt geschätzt 25 mal in S und 100 mal in R vor: $100 · 25 = 2500$. Für 9 weitere gemeinsame Werte in R und S ergibt sich dann: $9 · (50 · 25) = 11250$."
   ]
  },
  {
   "cell_type": "markdown",
   "id": "e8e95541-414c-44aa-a570-aaa77601da37",
   "metadata": {},
   "source": [
    "### Erhebung von Statistiken\n",
    "\n",
    "Die Statistiken können nicht dauernd aktuell gehalten werden. Sie werden nur periodisch erhoben werden. Statistiken ändern sich nicht laufend und auch nicht radikal. Auch falsche Statistiken funktionieren, wenn sie konsistent angewendet werden.\n",
    "Statistiken sollen selbst nicht zu einem hot-spot werden. Sie sollen nicht dauernd geändert werden, da sie oft gelesen werden. \n",
    "Die Erhebung wird durch unterschiedliche Trigger ausgelöst. Sie kann regelmäßig bzw. periodisch ausgeführt werden oder nach einer festen Menge an Updates ausgelöst werden. Möglich wäre auch eine Erhebung, falls Schätzungen während der Anfrageausführung als zu ungenau erkannt werden. Außerdem kann sie auch durch einen Administrator ausgelöst werden. </br>\n",
    "Die Berechnung der Statistiken ist sehr aufwändig. Ein Grund, warum sie nicht andauernd aktuell gehalten werden. Eine Lösung, um den Aufwand zu reduzieren ist es, Sampling zu nutzen. Man nimmt eine Teilmenge der Daten und erhebt darauf Statistiken. Sampling wird hier aber nicht weiter vertieft. "
   ]
  },
  {
   "cell_type": "markdown",
   "id": "a1ceac34-1633-4714-85e9-5ee095bb4279",
   "metadata": {},
   "source": [
    "## Joinreihenfolge"
   ]
  },
  {
   "cell_type": "markdown",
   "id": "93934367-828b-4bce-b768-23e6ddb88eba",
   "metadata": {},
   "source": [
    "### Enumeration Physischer Anfragepläne\n",
    "\n",
    "Die erste Idee wäre es, eine **vollständige Enumeration** entlang aller Freiheitsgrade durchzuführen. Die Reihenfolge und die Gruppierung von assoziativen und kommutativen Operatoren kann abgeändert werden. Außerdem lässt sich der Algorithmus für jeden Operator und der Modus des Datentransports zwischen den Operatoren frei wählen.\n",
    "Zu jedem Anfrageplan wird ein Kostenplan berechnet und daraus der Plan mit den geringsten Kosten ausgewählt. Durch das Ausführen einer vollständigen Enumeration enstehen zu viele Anfragepläne. Beispielsweise werden Abschnitte in den Plänen mehrfach berechnet. Die Anzahl der Pläne muss reduziert werden. Daher werden diverse bessere Methoden wie die Heuristische Auswahl, Branch-and-Bound, Hill-Climbing und Dynamische Programmierung/Selinger-Style Optimization verwendet. "
   ]
  },
  {
   "cell_type": "markdown",
   "id": "80edece0-8f21-43af-9948-233c4b0f9569",
   "metadata": {},
   "source": [
    "### Heuristische Auswahl\n",
    "\n",
    "Bei der Heuristischen Auswahl soll eine Sequenz bekannter Heuristiken angewendet werden, wie zum Beispiel ein Greedy-Verfahren für die Joinreihenfolge:\n",
    "1. Wähle zuerst das Joinpaar mit dem kleinstem Zwischenergebnis.\n",
    "2. Joine die Relation hinzu, die wiederum das kleinste Zwischenergebnis erzeugt.\n",
    "3. usw.\n",
    "\n",
    "Weitere Heuristiken wären unter Anderem:\n",
    "- Falls eine Selektion und ein Index auf ein Selektionsattribut gegeben sind, sollte man den Index-Scan wählen.\n",
    "- Führe mehrere Selektionen auf der selben Relation zugleich aus.\n",
    "- Falls der Index auf dem Joinattribut ist, soll ein Index-Join gewählt werden. \n",
    "- Falls ein Joininput sortiert ist, soll man den Sort-Merge-Join wählen, sofern kein Index vorhanden ist."
   ]
  },
  {
   "cell_type": "markdown",
   "id": "1cbd6c40-1c1b-4bc3-9f11-3e1176fca8c1",
   "metadata": {},
   "source": [
    "### Branch and Bound\n",
    "\n",
    "Eine weitere Idee ist Branch and Bound. Heuristiken werden zum Finden eines ersten guten Plans verwendet. Die Kosten des ersten guten Plans bilden sowohl eine obere Schranke für alle anderen Pläne, als auch für die Teilpläne. Für diverse Teile der Anfrage werden Pläne enumeriert. Es wird versucht einen Teil der Anfrage zu verbessern. Teilpläne, die mehr als die Schranke kosten, werden verworfen. Wenn ein besserer Gesamtplan gefunden wird, wird die Schranke gesenkt. Der Vorteil von Branch and Bound ist, dass die Optimierung jederzeit abgebrochen werden kann. "
   ]
  },
  {
   "cell_type": "markdown",
   "id": "d1f0487a",
   "metadata": {},
   "source": [
    "### Hill-Climbing\n",
    "\n",
    "<img src=\"pictures/Hill-Climbing.png\" alt=\"Hill-Climbing\" width=\"200\" style=\"background-color: white;\"/>\n",
    "\n",
    "Hill Climbing beschreibt wie man einen ersten guten Plan mittels Heuristiken findet.\n",
    "Dazu werden schrittweise ähnliche Pläne mit niedrigeren Kosten gesucht. Unter ähnlich versteht man hier, dass sich ein anderer Plan nur um eine Änderung unterscheidet. Sobald kein ähnlicher Plan mehr besser ist, ist das Verfahren fertig. \n",
    "Der Nachteil von Hill-Climbing ist, dass es sich um ein Lokales Optimum handelt. Global hätte es eventuell noch einen besseren Plan gegeben. Ein globales Optimum zu finden benötigt zu viel Zeit. </br>\n",
    "Es gibt verschiedene Varianten, um das Verfahren zu verbessern. Zum Einem das Iterative Improvement bei dem mit 10 verschiedenen Startplänen losgelegt wird. Zum Anderen das Simulated Annealing bei dem auch Verschlechterungen zugelassen werden. "
   ]
  },
  {
   "cell_type": "markdown",
   "id": "2c4cae06-1f3d-4938-8196-2bbcce8a7713",
   "metadata": {},
   "source": [
    "### Dynamische Programmierung & Selinger-style Optimierung\n",
    "\n",
    "Ein Verfahren zur Berechnung ist die Dynamische Programmierung.\n",
    "Es wird jeweils der beste Teilplan gesucht und verwendet, um einen höheren Teilplan zu bauen. Der Baum wird von unten nach oben (bottom-up) durchlaufen. </br>\n",
    "Selinger hat die Dynamische Programmierung erweitert und abgeändert (Selinger-Style). Es wird nicht nur der beste Plan, sondern auch verschiedene, interessante Sortiervarianten (interesting order) gemerkt. Die Kosten einiger Pläne dürfen höher sein, sofern sie andere Vorteile mit sich bringen. Das Verfahren beeinflusst nicht die Kardinalitäten von Zwischenergebnissen, sondern die I/O-Kosten."
   ]
  },
  {
   "cell_type": "markdown",
   "id": "46801d69",
   "metadata": {},
   "source": [
    "### Richard Bellman\n",
    "\n",
    "<img src=\"pictures/Richard-Bellman.png\" alt=\"Richard-Bellman\" width=\"300\" style=\"background-color: white;\"/>\n",
    "\n",
    "Ein kurzer Exkurs zur Historie der Dynamischen Programmierung und dessen Erfinder. Richard Bellman (1920 – 1984) erhielt seinen PhD in Princeton. Er arbeitete unter Anderem von 1944 bis 1946 in Los Alamos.\n",
    "Während Bellman bei der Rand Corporation arbeitete, erfand er 1953 die Dynamische Programmierung. \n",
    "Zur Mathematik hat er viele Beiträge zugesteuert wie z.B. den Bellman-Ford Algorithmus:\n",
    "Ein Algorithmus zum Berechnen aller kürzesten Wege für einen Startknoten."
   ]
  },
  {
   "cell_type": "markdown",
   "id": "20b402b2-25ad-4842-b66d-e9aa98d269ac",
   "metadata": {},
   "source": [
    "### DP für Knapsack Problem\n",
    "\n",
    "<img src=\"pictures/Knapsach-Zweihander.png\" alt=\"Knapsach-Zweihander\" width=\"150\" style=\"background-color: white;\"/>\n",
    "\n",
    "<img src=\"pictures/Knapsack-SaintsChime.png\" alt=\"Knapsack-SaintsChime\" width=\"150\" style=\"background-color: white;\"/>\n",
    "\n",
    "<img src=\"pictures/Knapsack-DragonriderBow.png\" alt=\"Knapsack-DragonriderBow\" width=\"150\" style=\"background-color: white;\"/>\n",
    "\n",
    "<img src=\"pictures/Knapsack-Rapier.png\" alt=\"Knapsack-Rapier\" width=\"150\" style=\"background-color: white;\"/>\n",
    "\n",
    "<img src=\"pictures/Knapsack-DragonCrestShield.png\" alt=\"Knapsack-DragonCrestShield\" width=\"150\" style=\"background-color: white;\"/>\n",
    "\n",
    "<img src=\"pictures/Knapsack-ShortBow.png\" alt=\"Knapsack-ShortBow\" width=\"150\" style=\"background-color: white;\"/>\n",
    "\n",
    "<img src=\"pictures/Knapsack-General.png\" alt=\"Knapsack-General\" width=\"400\" style=\"background-color: white;\"/>\n",
    "\n",
    "<img src=\"pictures/Knapsack-Ausrüstung.png\" alt=\"Knapsack-Ausrüstung\" width=\"400\" style=\"background-color: white;\"/>\n",
    "\n",
    "<img src=\"pictures/Knapsack-Rüstung.png\" alt=\"Knapsack-Rüstung\" width=\"300\" style=\"background-color: white;\"/>\n",
    "\n",
    "https://darksouls3.wiki.fextralife.com/PvP+Builds\n",
    "\n",
    "\n",
    "Bei dem Knapsack Problem ist ein Rucksack mit begrenzten Gewicht gegeben. In den Rucksack möchte man möglichst gute Items ablegen. Die Items haben ein Gewicht und einen Nutzen. Das Gewicht des Rucksacks soll nicht überschritten werden.\n",
    "\n",
    "Die Problemformulierung bei Knapsack lautet zum Beispiel wie folgt:\n",
    "> I can carry 15 KG at most.</br>\n",
    "> How can I maximize my damage (dps)?\n"
   ]
  },
  {
   "cell_type": "markdown",
   "id": "04b61030",
   "metadata": {},
   "source": [
    "### Beispiel: Knapsack mit DP\n",
    "\n",
    "<img src=\"pictures/Knapsack-mit-DP.png\" alt=\"Knapsack-mit-DP\" width=\"500\" style=\"background-color: white;\"/>\n",
    "\n",
    "Die Lösung des Problems wird durch einen Rückwärtslauf ermittelt. Durch eine Tabelle werden nach und nach Items ausgewählt. Die Kapazität wird fortlaufend notiert und berechnet. Das Resultat ist der maximale Nutzen. "
   ]
  },
  {
   "cell_type": "markdown",
   "id": "ce317232",
   "metadata": {},
   "source": [
    "### DP: Traveling Salesman Problem\n",
    "\n",
    "<img src=\"pictures/DP-Traveling-Salesman-Problem.png\" alt=\"DP-Traveling-Salesman-Problem\" width=\"500\" style=\"background-color: white;\"/>\n",
    "\n",
    "Ein ähnliches Verfahren wird beim Traveling Salesman Problem verwendet. Beim Traveling Salesman Problem sollen alle Städte besucht werden, ohne einen Pfad mehrmals zu betreten. Gesucht ist der kürzeste Pfad, der es ermöglicht. "
   ]
  },
  {
   "cell_type": "markdown",
   "id": "c79115ec",
   "metadata": {},
   "source": [
    "### Dynamic Programming (Held–Karp Algorithmus)\n",
    "\n",
    "<img src=\"pictures/Dynamic-Programming.png\" alt=\"Dynamic-Programming\" width=\"200\" style=\"background-color: white;\"/>\n",
    "\n",
    "Zunächst wird a als Anfangs- und Endpunkt betrachtet. Für alle anderen Knoten i wird der Pfad mit den Minimalkosten von a nach i, welcher alle anderen Knoten enthält, gesucht. Sei $cost(i)$ definiert als Kosten des Pfades. $cost(i) + dist(i, a)$ entspricht dann der Rundreise mit $dist(i, a)$ als Distanz von i nach a. Das Ergebnis ist das Minimum der $[cost(i) + dist(i, a)]$ Pfade.</br>\n",
    "Mittels DP wird cost(i) berechnet:\n",
    "Sei $C(S, i)$ die Minimalkosten für ein Pfad von a nach i, der jeden Knoten in S genau\n",
    "einmal besucht. Gestartet wird mit allen Teilmengen S der Größe 2. Für diese werden $C(S, i)$ berechnet. Im nächsten Schritt werden Stufenweise die Teilmengen der Größe 3, 4 u.s.w. betrachtet. \n",
    "\n",
    "1. Für $|S| = 2$ gilt: $S ={a, i}$ und $C(S, i) = dist(a, i)$.\n",
    "2. Für $|S| > 2$ gilt:  $C(S, i) = min{ C(S-\\{i\\}, j) + dist(j, i)}$, wenn $j \\neq i$ und $j \\neq a$.\n",
    "\n",
    "- $C(\\{a,b\\},b) = 3$\n",
    "- $C(\\{a,c\\} ,c) = 4$\n",
    "- $C(\\{a,d\\} ,d) = 2$\n",
    "- $C(\\{a,e\\} ,e) = 7$\n",
    "- $C(\\{a,b,c\\},c) = min\\{C(\\{a,b\\},b)+dist(b,c)\\}=3+4=7$\n",
    "- $C(\\{a,b,d\\},d) = min\\{C(\\{a,b\\},b)+dist(b,d)\\}=3+6=9$\n",
    "- $C(\\{a,b,e\\},e) = min\\{C(\\{a,b\\},e)+dist(b,e)\\}=3+3=6$\n",
    "- $C(\\{a,b,c\\},b) = min\\{C(\\{a,c\\},c)+dist(c,b)\\}=4+4=8$\n",
    "- $C(\\{a,b,d\\},b) = min\\{C(\\{a,d\\},d)+dist(d,b)\\}=2+6=8$\n",
    "- $...$\n",
    "- $C(\\{a,b,c,d\\},c) = min\\{C(\\{a,b,d\\},d)+dist(d,c), C(\\{a,b,d\\},b)+dist(b,c)\\}=min\\{9+5,8+4\\}=12$\n",
    "- $...$\n",
    "\n",
    "\n",
    "Die Komplexität ist mit $O(n^{2}2^{n})$ immernoch sehr hoch, aber vieles muss nicht mehr doppelt berechnet werden. Das Verfahren ist zwar besser als Backtracking aber noch zu schwer.\n"
   ]
  },
  {
   "cell_type": "markdown",
   "id": "41415597-8406-4cfa-b174-ac817cda20e1",
   "metadata": {},
   "source": [
    "### Dynamische Programmierung\n",
    "\n",
    "Die Dynamische Programmierung ist ein Optimaler Algorithmus. Schwierigkeiten dabei sind die Annahmen. Zum Einem muss das Prinzip der Optimalität gelten. Ein optimaler Teilplan führt immer zu einem optimalen Gesamtplan. Zum Anderen muss das Problem geschickt in Teilprobleme aufgeteilt werden. Der Aufwand kann zwar immernoch exponentiell sein, aber es können sich Operationen und Verdopplungen gespart werden.\n",
    "Klassische Anwendungen für die Dynamische Programmierung sind das Knapsack Problem, das Traveling Salesman Problem, die Maschinenbelegung und das Transportproblem."
   ]
  },
  {
   "cell_type": "markdown",
   "id": "5f7f5202",
   "metadata": {},
   "source": [
    "### Anwendung für Left-Deep Bäume\n",
    "\n",
    "### Anfrageplanung\n",
    "\n",
    "<img src=\"pictures/Anfrageplanung.png\" alt=\"Anfrageplanung\" width=\"500\" style=\"background-color: white;\"/>\n",
    "\n",
    "Bei der heuristischen Einschränkung des Suchraums gibt es bei den Anfragen keine Kreuzprodukte. Diese werden aussortiert. Das gilt nicht bei expliziten Kreuzprodukten in der Anfrage. Die Selektionsbedingungen sollen so früh wie möglich eingesetzt werden. \n",
    "Betrachtet werden nur links-tiefe (left-deep) Bäume. Es wird nie die parallele Ausführung von Joins betrachtet. Es wird immer davon ausgegangen, dass ein Join nach dem Andern ausgeführt wird. "
   ]
  },
  {
   "cell_type": "markdown",
   "id": "05224b40-40b8-41db-b5c8-a4ba9a03ccf1",
   "metadata": {},
   "source": [
    "### Anfragebearbeitung – Optimierung\n",
    "\n",
    "Bei der Optimierung wird nur die Joinreihenfolge und nicht die Parallelität betrachtet. Bei mehr-Prozessor Systemen wiederrum wird nicht nur die Reihenfolge, sondern auch die Parallelisierung berücksichtigt. Bei verteilten System kommen noch die Speicherorte der Zwischenergebnisse hinzu. Der Join ist i.d.R. der teuerste Operator. \n",
    "Die Optimierung konzentriert sich auf die beste Reihenfolge. Ziel sind möglichst geringe Zwischenkosten. \n",
    "Weitere Optimierungsschritte, wie das Schieben der Selektionen nach unten, werden später angewandt. \n",
    "Bei n Relationen gibt es $n!$ Alternativen, aber meistens enthalten die Alternativen ein kartesisches Produkt."
   ]
  },
  {
   "cell_type": "markdown",
   "id": "e39f2f59",
   "metadata": {},
   "source": [
    "### Dynamische Programmierung: Optimierung im System-R\n",
    "\n",
    "<img src=\"pictures/Selinger.png\" alt=\"Selinger\" width=\"200\" style=\"background-color: white;\"/>\n",
    "\n",
    "Das Verfahren von Selinger ist auch bekannt unter dem Namen: “Selinger-style query optimization”. Selinger ist eine Pionierin im Bereich von Datenbanksystemen. Ein klassischer Artikel zur Anfrageoptimierung ist \\[SAC+79\\]. Ursprünglich wurde das Verfahren bei IBM im System-R eingesetzt und ist heutzutage weit verbreitet.\n",
    "</br></br>\n",
    "Die Grundidee der Optimierung ist es, nur “Left-deep” Anfragebäume zu verwenden. D.h. nur die Joinreihenfolge ist von Bedeutung. Die innere und die äußere Relation bleibt unberücksichtigt.\n",
    "Anfragepläne werden durch dynamische Programmierung (DP) von unten nach oben (bottom-up) generiert. \n",
    "Zusätzlich sind auch interesting orders (interessante Sortierungen) und interesting sites (interessante Ausführungsorte) wichtig, werden aber in anderen Veranstaltungen behandelt. "
   ]
  },
  {
   "cell_type": "markdown",
   "id": "a63b61d7",
   "metadata": {},
   "source": [
    "<img src=\"pictures/AccessPathSelection-IBM.png\" alt=\"AccessPathSelection-IBM\" width=\"500\" style=\"background-color: white;\"/>\n",
    "\n",
    "Das Paper der IBM Research Division zu \"Access Path Selection in a Relational Database Management System.\" "
   ]
  },
  {
   "cell_type": "markdown",
   "id": "aab38af7-68c1-415f-b4cc-155cab89a2ad",
   "metadata": {},
   "source": [
    "### Bottom-up Anfrageplangenerierung\n",
    "\n",
    "■ Annahme 1:\n",
    "Nach dem Join über k Relationen ist die Wahl der Join-Methode die k+1te Relation hinzuzujoinen unabhängig\n",
    "von den vorigen Join-Methoden.\n",
    "□ Joinmethoden: Nested Loops, Hashjoin, Sort-Merge Join usw.\n",
    "■ Annahme 2:\n",
    "Jeder Teilplan eines optimalen Plans ist ebenfalls optimal.\n",
    "□ Entspricht dem Prinzip der Optimalität\n",
    "□ Anders: Wenn sich zwei Pläne nur in einem Teilplan unterscheiden, so ist der Plan mit dem besseren Teilplan\n",
    "auch der bessere Gesamtplan\n",
    "■ Bottom-up Anfrageplangenerierung:\n",
    "□ Berechne die optimalen Pläne für den Join über (jede Kombination von) k Relationen\n",
    "o Suboptimale Pläne werden verworfen\n",
    "o Erweitere diese Pläne zu optimalen Plänen für k+1 Relationen.\n",
    "o usw. bis k = n"
   ]
  },
  {
   "cell_type": "markdown",
   "id": "f5d48a6b",
   "metadata": {},
   "source": [
    "### Dynamische Programmierung\n",
    "\n",
    "<img src=\"pictures/Dynamische-Programmierung.png\" alt=\"Dynamische-Programmierung\" width=\"500\" style=\"background-color: white;\"/>"
   ]
  },
  {
   "cell_type": "markdown",
   "id": "5f2236e8",
   "metadata": {},
   "source": [
    "### DP – Grundidee für Anfrageoptimierung\n",
    "\n",
    "<img src=\"pictures/Dynamische-Programmierung_2.png\" alt=\"Dynamische-Programmierung_2\" width=\"400\" style=\"background-color: white;\"/>\n",
    "\n",
    "■ Für jede Kombination merke (in einer Hilfstabelle):\n",
    "□ Geschätzte Größe des Ergebnisses (Kardinalität)\n",
    "□ Geschätzte minimale Kosten\n",
    "– Hier zur Vereinfachung: Größe des Zwischenergebnisses\n",
    "□ Joinreihenfolge, die diese Kosten verursacht (= optimaler Teilplan)\n",
    "■ Induktion über Anzahl der Relationen im Plan\n",
    "□ N=1: Für jede Relation\n",
    "– Kardinalität = Kardinalität der Relation\n",
    "– Kosten = 0 (zur Vereinfachung)\n",
    "– Joinreihenfolge: n/a\n",
    "□ N=2: Für jedes Relationenpaar R, S\n",
    "– Kardinalität = |R| x |S| x sf\n",
    "– Kosten = 0\n",
    "– Joinreihenfolge: kleinere Relation links\n",
    "– Clou: R und S jeweils mit besten access-path\n",
    "□ N=3: Für jedes Tripel R, S, T\n",
    "– Clou: Nur bestes Relationenpaar aus dem Tripel wird um dritte Relation ergänzt"
   ]
  },
  {
   "cell_type": "markdown",
   "id": "1272af08",
   "metadata": {},
   "source": [
    "### DP – Beispiel\n",
    "\n",
    "<img src=\"pictures/DP-Beispiel.png\" alt=\"DP-Beispiel\" width=\"200\" style=\"background-color: white;\"/>\n",
    "\n",
    "■ Anfrage über Relationen R, S, T, U.\n",
    "■ Vier Join-Bedingungen"
   ]
  },
  {
   "cell_type": "markdown",
   "id": "59bda94c",
   "metadata": {},
   "source": [
    "<img src=\"pictures/DP-Beispiel_2.png\" alt=\"DP-Beispiel_2\" width=\"500\" style=\"background-color: white;\"/>"
   ]
  },
  {
   "cell_type": "markdown",
   "id": "9b526df2",
   "metadata": {},
   "source": [
    "<img src=\"pictures/DP-Beispiel_3.png\" alt=\"DP-Beispiel_3\" width=\"500\" style=\"background-color: white;\"/>"
   ]
  },
  {
   "cell_type": "markdown",
   "id": "16832ea8",
   "metadata": {},
   "source": [
    "<img src=\"pictures/DP-Beispiel_4.png\" alt=\"DP-Beispiel_4\" width=\"500\" style=\"background-color: white;\"/>"
   ]
  },
  {
   "cell_type": "markdown",
   "id": "43a2dd2a-6588-41fb-9530-e4313d845270",
   "metadata": {},
   "source": [
    "### DP - interesting orders (Interessante Sortierung)\n",
    "\n",
    "■ WdH.: Prinzip der Optimalität: Wenn sich zwei Pläne nur in einem Teilplan unterscheiden, so ist der Plan mit dem besseren Teilplan\n",
    "auch der bessere Gesamtplan.\n",
    "■ Gegenbeispiel?\n",
    "□ R(A,B) ⋈ S(A,C) ⋈ T(A,D)\n",
    "□ Bester (lokaler) Plan für R ⋈ S: Hash-Join\n",
    "□ Best (globaler) Gesamtplan:\n",
    "– 1. Sort-merge Join über R und S\n",
    "– 2. Sort-merge Join mit T\n",
    "■ Warum könnte dies so sein?\n",
    "□ Das Zwischenergebnis von R ⋈sort-mergeS ist nach Join-Attribut A sortiert.\n",
    "□ Dies ist eine interesting order, die später ausgenutzt werden kann:\n",
    "– Spätere sort-merge Joins\n",
    "– Gruppierung (GROUP BY)\n",
    "– Sortierung (ORDER BY)\n",
    "– Eindeutige Tupel (DISTINCT)\n",
    "\n",
    "\n",
    "\n",
    "■ Bei Auswahl des besten Teilplans:\n",
    "□ Kostenvergleich genügt nicht.\n",
    "– Es gibt keine vollständige Ordnung der Teilpläne nach Kosten.\n",
    "□ Auch Sortierungen müssen berücksichtigt werden.\n",
    "■ Lösung: Für jede Kombination von Relationen, speichere mehrere Sortiervarianten:\n",
    "□ Nach jeder Variante der beteiligten Teilpläne\n",
    "□ Die “leere” Sortierung\n",
    "□ DP Tabellen werden „breiter“.\n",
    "■ Kostenmodell muss verfeinert werden\n",
    "□ Echte I/O Kosten, statt Größe des Zwischenergebnisses\n",
    "■ Merke außerdem Join- und Sortieroperationen, die diese Sortierung erzeugen.\n",
    "□ Also der Plan"
   ]
  },
  {
   "cell_type": "markdown",
   "id": "b260af8f",
   "metadata": {},
   "source": [
    "### DP – Algorithmus\n",
    "\n",
    "<img src=\"pictures/DP-Algorithmus.png\" alt=\"DP-Algorithmus\" width=\"500\" style=\"background-color: white;\"/>\n",
    "\n",
    "Quelle: http://dx.doi.org/10.1145/371578.371598"
   ]
  },
  {
   "cell_type": "markdown",
   "id": "3aa163f5-ca60-47e8-8afc-6dbfd6d521c1",
   "metadata": {},
   "source": [
    "## Physische Anfragepläne\n",
    "\n",
    "### Letzte Schritte\n",
    "\n",
    "■ Wahl des jeweiligen Algorithmus\n",
    "□ Wenn nicht schon zuvor (z.B. bei DP) geschehen\n",
    "□ Hier nur beispielhaft: Selektion und Join\n",
    "■ Pipelining vs. Blocking\n",
    "■ Zugriffsmethoden für Relationen\n",
    "\n",
    "■ Pipelining vs. Blocking\n",
    "\n",
    "■ Zugriffsmethoden für Relationen"
   ]
  },
  {
   "cell_type": "markdown",
   "id": "9d61fc5a-be37-4e22-913b-7ade3b86c254",
   "metadata": {},
   "source": [
    "### Wahl der Selektionsmethode\n",
    "\n",
    "Wahl der Selektionsmethode\n",
    "■ Schon kennengelernt\n",
    "□ Variante 1: Ganz R lesen und Selektionsbedingung auf jedes Tupel anwenden\n",
    "□ Variante 2: Falls Index auf Selektionsattribut vorhanden: Zugriff über Index\n",
    "– Voraussetzung: Index und Gleichheitsbedingung\n",
    "■ Jetzt: Verallgemeinerung auf mehrere Selektionen auf verschiedenen Attributen\n",
    "□ Mit oder ohne Index\n",
    "□ Gleichheit oder Ungleichheit (<, >, ≤, ≥, ≠)\n",
    "\n",
    "\n",
    "■ Annahme: Mindestens eine Selektionsbedingung kann einen Index verwenden.\n",
    "■ Vorgehen mit Indizes (jeweils viele Alternativen):\n",
    "□ Verwende Indizes um Schnittmenge der Pointermengen zu ermitteln\n",
    "□ Lese diese Tupel ein (Index-scan)\n",
    "□ Wende darauf „Filter“-Operator an: Prüft alle übrigen Bedingungen\n",
    "■ Vorgehen ohne Indizes\n",
    "□ Table-scan für ganz R\n",
    "□ Wende Filter-Operator für alle Bedingungen an\n",
    "■ Filter-Operator findet nur im Hauptspeicher statt: Keine Kosten\n",
    "■ Jetzt: Kostenvergleich der Alternativen"
   ]
  },
  {
   "cell_type": "markdown",
   "id": "3e0837c2-2230-4083-95c8-a14c7fa603c7",
   "metadata": {},
   "source": [
    "### Kostenvergleich der Selektionsmethoden\n",
    "\n",
    "■ Bisher: Kostenschätzung durch Schätzung der Ergebnisgröße\n",
    "□ Kardinalität des Zwischenergebnisses\n",
    "■ Jetzt: Nur Implementierungsvarianten mit jeweils gleichem Ergebnis\n",
    "□ Deshalb wieder: Disk I/O\n",
    "□ Annahme: Indizes kosten nichts (da sehr kleine Datenmengen)\n",
    "■ Beispiel: sA=10, B<20(R)\n",
    "□ Variante 1: Tablescan\n",
    "– B(R) falls R clustered\n",
    "– T(R) falls R nicht clustered\n",
    "□ Variante 2: Index auf A verwenden\n",
    "– B(R)/V(R,A) falls Index clustering\n",
    "– T(R)/V(R,A) falls Index nicht clustering\n",
    "□ Variante 3: Index auf B verwenden\n",
    "– B(R)/3 falls Index clustering\n",
    "– T(R)/3 falls Index nicht clustering\n",
    "□ Variante 4 …"
   ]
  },
  {
   "cell_type": "markdown",
   "id": "2feb67ca-602a-4fca-a55b-99e27715249a",
   "metadata": {},
   "source": [
    "### Kostenvergleich der Selektionsmethoden – Beispiel\n",
    "\n",
    "■ sX=1, Y=2, Z<5(R)\n",
    "□ T(R) = 5.000, B(R) = 200, V(R,X)=100, V(R,Y)=500\n",
    "□ R sei clustered\n",
    "□ Indizes auf X und Y nicht clustering\n",
    "□ Index auf Z clustering (B-Baum)\n",
    "■ Variante 1: Table-scan und Filter\n",
    "□ Kosten: B(R) = 200 I/O\n",
    "■ Variante 2: Index-scan mit X-Index; Filter für den Rest\n",
    "□ Kosten: T(R)/V(R,X) = 5.000/100 = 50 I/O\n",
    "■ Variante 3: Index-scan mit Y-Index; Filter für den Rest\n",
    "□ Kosten: T(R)/V(R,Y) = 5.000/500 = 10 I/O\n",
    "■ Variante 4: Index-scan mit (clustering) Z-Index; Filter für den Rest\n",
    "□ Kosten: B(R)/3= 200/3 = 67 I/O"
   ]
  },
  {
   "cell_type": "markdown",
   "id": "e37f057d-c7b2-48d1-9c97-704770c6d31d",
   "metadata": {},
   "source": [
    "### Wahl der Join-Methode\n",
    "\n",
    "■ Kosten je nach Joinmethode (siehe voriger Foliensatz)\n",
    "□ Annahme: Man kennt M (verfügbarer Hauptspeicher)\n",
    "– Und M ändert sich nicht während der Ausführung\n",
    "□ Annahme: Man kennt B(R), T(R), V(R, …)\n",
    "■ Ideen falls Annahmen nicht stimmen\n",
    "□ One-pass oder Nested-loop Algorithmus als default\n",
    "– Prinzip „Hoffnung“\n",
    "□ Wähle Sort-merge-join falls mindestens ein Input bereits nach Joinattribut sortiert ist.\n",
    "□ Wähle Sort-merge-join bei mehr als einem Join auf gleichem Attribut\n",
    "– (R(A,B) ⋈ S(B,C)) ⋈ T(B,D)\n",
    "□ R(A,B) ⋈ S(B,C): Falls R klein und Index auf S.B: Wähle Index-Join\n",
    "□ Falls weder Sortierung noch Indizes vorhanden sind: Wähle Hash-Join\n",
    "– Kosten hängen nur von kleinerem Input ab, nicht von beiden Inputs\n",
    "■ Analoge Überlegungen für Mengenoperationen"
   ]
  },
  {
   "cell_type": "markdown",
   "id": "2c3d2444-f110-40da-a329-6a3b7d3b99f9",
   "metadata": {},
   "source": [
    "### Pipelining vs. Blocking\n",
    "\n",
    "■ Naiv: Blocking (auch „Materialisierend“)\n",
    "□ Jeder Operator speichert sein Zwischenergebnis auf Disk\n",
    "■ Besser: Vermischung der Ausführung verschiedener Operatoren\n",
    "□ Pipelining\n",
    "□ Kette von Iteratoren\n",
    "■ Vorteile von Pipelining\n",
    "□ Weniger I/O\n",
    "□ Frühe Ergebnisse bei der Anwendung\n",
    "■ Nachteile des Pipelining?\n",
    "□ Nicht jeder Operator funktioniert\n",
    "□ Anzahl CPUs zu gering\n",
    "□ Jeder Operator hat weniger Hauptspeicher\n",
    "□ => Ungünstigere Algorithmen müssen gewählt werden\n",
    "■ Pipelining also nicht immer besser!"
   ]
  }
 ],
 "metadata": {
  "kernelspec": {
   "display_name": "Python 3 (ipykernel)",
   "language": "python",
   "name": "python3"
  },
  "language_info": {
   "codemirror_mode": {
    "name": "ipython",
    "version": 3
   },
   "file_extension": ".py",
   "mimetype": "text/x-python",
   "name": "python",
   "nbconvert_exporter": "python",
   "pygments_lexer": "ipython3",
   "version": "3.10.12"
  }
 },
 "nbformat": 4,
 "nbformat_minor": 5
}
