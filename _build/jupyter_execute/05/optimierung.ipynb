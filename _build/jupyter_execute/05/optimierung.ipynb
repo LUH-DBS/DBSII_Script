{
 "cells": [
  {
   "cell_type": "markdown",
   "id": "20168ae7-f6b1-4f6e-bc2d-a162d72c28a6",
   "metadata": {},
   "source": [
    "# Optimierung"
   ]
  },
  {
   "cell_type": "markdown",
   "id": "f7df4306",
   "metadata": {},
   "source": [
    "In diesem Kapitel wird die Optimierung auf logischer Ebene betrachtet. Es geht mehr um die Daten selbst als um die Speicherabbildung. "
   ]
  },
  {
   "cell_type": "markdown",
   "id": "05926e6e-85dc-4a1a-9b45-363cd99dd67a",
   "metadata": {},
   "source": [
    "## Wiederholung: Anfragebearbeitung\n",
    "Zunächst eine kleine Wiederholung zur Anfragebearbeitung in Bezug auf das Grundproblem und den Ablauf.\n",
    "\n",
    "### Grundproblem\n",
    "Anfragen in SQL und der Relationalen Algebra sind deklarativ. Solche Anfragen müssen in ausführbare (prozedurale) Form transformiert werden. Also in echte ausführbare Programme. Die Ziele dabei sind ein \"QEP\" (prozeduraler Query Execution Plan) und Effizienz. Eine Anfrage soll schnell und wenige Ressourcen verbrauchen (CPU, I/O, RAM, Bandbreite). "
   ]
  },
  {
   "cell_type": "markdown",
   "id": "572c5875-99e1-4833-b64d-35b4a154f745",
   "metadata": {},
   "source": [
    "### Ablauf der Anfragebearbeitung\n",
    "\n",
    "<img src=\"pictures/Ablauf-Anfragebearbeitung.png\" alt=\"Ablauf-Anfragebearbeitung\" width=\"250\" style=\"background-color: white;\"/>\n",
    "\n",
    "1. **Parsing**</br>\n",
    "    Als erstes wird die Anfrage geparsed und überprüft, ob diese syntaktisch korrekt ist. Danach werden die Elemente semantisch überprüft und ein Parsebaum erstellt. \n",
    "\n",
    "2. **Wahl des logischen Anfrageplans**</br>\n",
    "    Im zweiten Schritt werden exponentiell viele Bäume mit logischen Operatoren erstellt. Darunter wird der optimale Plan ausgewählt, indem vorher logisch, regelbasiert und kostenbasiert optimiert wird. \n",
    "\n",
    "3. **Wahl des physischen Anfrageplans**</br>\n",
    "    Anhand des logischen Plans wird ein ausführbares Programm mit physischen Operatoren erstellt. Das Programm enthält Algorithmen und Scan-Operatoren. Der optimale Plan wird physisch optimiert und dann ausgewählt. Zum Schluss wird der ausgewählte Anfrageplan ausgeführt. "
   ]
  },
  {
   "cell_type": "markdown",
   "id": "e6930503",
   "metadata": {},
   "source": [
    "<img src=\"pictures/Meme-Finish-SQL-Query.png\" alt=\"Meme-Finish-SQL-Query\" width=\"250\" style=\"background-color: white;\"/>"
   ]
  },
  {
   "cell_type": "markdown",
   "id": "5e95bf97-5140-4a80-84bb-c1929899752d",
   "metadata": {},
   "source": [
    "## Ablauf der Anfragebearbeitung \n",
    "\n",
    "Die einzelnen Schritte bei der Anfragebearbeitung werden nun genauer betrachtet. "
   ]
  },
  {
   "cell_type": "markdown",
   "id": "d9ec445e-f791-4694-a3fb-e23aa6c3eb71",
   "metadata": {},
   "source": [
    "### Parsing \n",
    "\n",
    "<img src=\"pictures/Ablauf-Anfragebearbeitung_2.png\" alt=\"Ablauf-Anfragebearbeitung_2\" width=\"500\" style=\"background-color: white;\"/>\n",
    "\n",
    "Beginnend beim Parsing wird auf **syntaktische Korrektheit** überprüft. Dafür wird eine Grammatik für einen Teil von SQL betrachtet. (SFW steht für SelectFromWhere): </br>\n",
    "\n",
    "- Anfragen\n",
    "    - \\<Anfrage> :: = \\<SFW>\n",
    "    - \\<Anfrage> :: = ( \\<SFW> )\n",
    "    - die Mengenoperatoren fehlen\n",
    "- SFWs\n",
    "    - \\<SFW> ::= SELECT \\<SelListe> FROM \\<FromListe> WHERE \\<Bedingung>\n",
    "    - die Gruppierung, Sortierung etc. fehlen\n",
    "- Listen\n",
    "    - \\<SelListe> ::= \\<Attribut>, \\<SelListe>\n",
    "    - \\<SelListe> ::= \\<Attribut>\n",
    "    - \\<FromListe> ::= \\<Relation>, \\<FromListe>\n",
    "    - \\<FromListe> ::= \\<Relation>\n",
    "- Bedingungen\n",
    "    - \\<Bedingung> ::= \\<Bedingung> AND \\<Bedingung>\n",
    "    - \\<Bedingung> ::= \\<Tupel> IN \\<Anfrage>\n",
    "    - \\<Bedingung> ::= \\<Attribut> = \\<Attribut>\n",
    "    - \\<Bedingung> ::= \\<Attribut> LIKE \\<Muster>\n",
    "- \\<Tupel>, \\<Attribut>, \\<Relation> und \\<Muster> sind nicht durch eine grammatische Regel definiert\n",
    "\n",
    "Die vollständige Grammatik kann man zum Beispiel [hier]( http://docs.openlinksw.com/virtuoso/GRAMMAR.html) finden. \n",
    "</br></br>\n",
    "\n",
    "Anschließend wird während der Übersetzung die **semantische Korrektheit** überprüft. Beantwortet werden dabei generell Fragen wie:\n",
    "- Existieren die Relationen und Sichten der FROM Klausel?\n",
    "- Existieren die Attribute in den genannten Relationen? Sind sie eindeutig?\n",
    "- Sind die Typen für die Vergleiche korrekt?\n",
    "- Ist die Aggregation korrekt?   \n"
   ]
  },
  {
   "cell_type": "markdown",
   "id": "320fed2f",
   "metadata": {},
   "source": [
    "## Algebraische Transformationsregeln \n",
    "\n",
    "<img src=\"pictures/Ablauf-Anfragebearbeitung_3.png\" alt=\"Ablauf-Anfragebearbeitung_3\" width=\"500\" style=\"background-color: white;\"/>\n",
    "\n",
    "Das Ziel ist es aus dem Parsebaum einen logischen Anfrageplan zu erstellen. Ohne die Semantik der Anfrage zu ändern, soll sie in eine interne Darstellung verwandelt werden. Um die Anfrage effizienter auszuführen, sollen insbesondere kleine Zwischenergebnisse erzielt werden. </br>\n",
    "Am Ende sollen es äquivalente Ausdrücke sein. Zwei Ausdrücke der relationalen Algebra heißen äquivalent, falls sie die gleichen Operanden (=Relationen) nutzt und für jede mögliche Instanz der Datenbank stets die gleiche Antwortrelation ausgibt. \n",
    "\n",
    "\n",
    "### Kommutativität und Assoziativität\n",
    "\n",
    "Die Gesetze gelten jeweils für Mengen und Multimengen. Die verwendeten Ausdrücke können in beide Richtungen verwendet werden. \n",
    "\n",
    "- ? ist kommutativ und assoziativ\n",
    "    - R ? S = S ? R\n",
    "    - (R ? S) ? T = R ? (S ? T)\n",
    "- ∪ ist kommutativ und assoziativ\n",
    "    - R ∪ S = S ∪ R \n",
    "    - (R ∪ S) ∪ T = R ∪ (S ∪ T) \n",
    "- ∩ ist kommutativ und assoziativ \n",
    "    - R ∩ S = S ∩ R \n",
    "    - (R ∩ S) ∩ T = R ∩ (S ∩ T)\n",
    "- ⨝ ist kommutativ und assoziativ \n",
    "    - R ⨝ S = S ⨝ R \n",
    "    - (R ⨝ S) ⨝ T = R ⨝ (S ⨝ T)\n",
    "    \n",
    "\n",
    "### Weitere Regeln\n",
    "\n",
    "Für Selektionen und Projektionen gelten die folgenden Regeln: \n",
    "\n",
    "- Selektion σ\n",
    "    - $$σ_{c1 AND c2}(R) = σ_{c1}(σ_{c2}(R))$$\n",
    "    - $$σ_{c1 OR c2}(R) = σ_{c1}(R) ∪ σ_{c2}(R)$$\n",
    "        - nicht bei Multimengen\n",
    "    - $$ σ_{c1}(σ_{c2}(R)) = σ_{c2}(σ_{c1}(R))$$\n",
    "    - $$ σ_{c}(R Φ S) ≡ (σ_{c}(R)) Φ (σ_{c}(S))$$\n",
    "        - Φ ∈ {∪, ∩, -, ⨝}\n",
    "    - $$ σ_{c}(R Φ S) ≡ (σ_{c}(R)) Φ S$$\n",
    "        - Φ ∈ {∪, ∩, -, ⨝}\n",
    "        - Falls sich c nur auf die Attribute in R bezieht. \n",
    "</br>\n",
    "\n",
    "- Projektion π\n",
    "    - $$π_{L}(R ⨝ S) = π_{L}(π_{M}(R) ⨝ π_{N}(S))$$\n",
    "    - $$π_{L}(R ⨝_{C} S) = π_{L}(π_{M}(R) ⨝_{C} π_{N}(S))$$\n",
    "    - $$π_{L}(R x S) = π_{L}(π_{M}(R) x π_{N}(S))$$\n",
    "    - $$π_{L}(σ_{c}(R)) = π_{L}(σ_{c}(π_{M}(R))$$\n"
   ]
  },
  {
   "cell_type": "markdown",
   "id": "97c95ca5",
   "metadata": {},
   "source": [
    "## Logische Anfragepläne\n",
    "\n",
    "<img src=\"pictures/Ablauf-Anfragebearbeitung_4.png\" alt=\"Ablauf-Anfragebearbeitung_4\" width=\"500\" style=\"background-color: white;\"/>\n",
    "\n",
    "Um nun zu einem logischen Anfrageplan zu gelangen, benötigt es zwei Schritte."
   ]
  },
  {
   "cell_type": "markdown",
   "id": "383ab9d6-1169-4b3c-8b50-647917cf83e0",
   "metadata": {},
   "source": [
    "### Zwei Schritte \n",
    "\n",
    "**Schritt 1**</br>\n",
    "In Schritt 1 wird der Parsebaum in einen Ausdruck der relationalen Algebra übersetzt und dann wieder als Baum dargestellt. Unter anderem werden auch Subanfragen aufgelöst. Letzteres wird aber nicht in dieser Vorlesung weiter thematisiert. \n",
    "</br>\n",
    "\n",
    "**Schritt 2**</br>\n",
    "Der Baum wird im zweitem Schritt gemäß der Transformationsregeln umgeformt. Man kann auch \"Vor-Optimierungen\" mittels Heuristiken durchführen. Dazu zählt unter Anderem:\n",
    "- das Pushen von Selektionen,\n",
    "- das Einbauen und Pushen von Projektionen, \n",
    "- das Zusammenfügen von Selektion und Kreuzprodukt zu einem Join,\n",
    "- die Gruppierung von Vereinigungen und Joins,\n",
    "- und eventuell das Verschieben und Einbauen von Duplikateliminierungen. "
   ]
  },
  {
   "cell_type": "markdown",
   "id": "bedb564d",
   "metadata": {},
   "source": [
    "### Beispiel - Anfragebearbeitung \n",
    "\n",
    "In diesem Beispiel ist ein Ausdruck der relationalen Algebra in einem Parsebaum dargestellt. Die zugehörige SQL-Anfrage wäre\n",
    "```\n",
    "SELECT Nachname\n",
    "FROM mitarbeiter m, projekte p\n",
    "WHERE p.Budget < 40000\n",
    "AND m.p_id = p.p_id;\n",
    "```\n",
    "\n",
    "Man sollte damit beginnen das Kreuzprodukt mit der Selektion zu einem Join zu kombinieren. \n",
    "\n",
    "<img src=\"pictures/Anfragebearbeitung-Beispiel-1.png\" alt=\"Anfragebearbeitung-Beispiel-1\" width=\"500\" style=\"background-color: white;\"/>\n"
   ]
  },
  {
   "cell_type": "markdown",
   "id": "5829fa98",
   "metadata": {},
   "source": [
    "Als nächstes sollte man versuchen die andere Selektion weiter nach unten zu pushen (Push-Down). Ziel ist es mit möglichst wenigen Tupeln in jedem Teilschritt zu arbeiten. Die gegebene Selektion kann direkt vor die Projekt-Relation geschoben werden. \n",
    "\n",
    "<img src=\"pictures/Anfragebearbeitung-Beispiel-2.png\" alt=\"Anfragebearbeitung-Beispiel-2\" width=\"500\" style=\"background-color: white;\"/>"
   ]
  },
  {
   "cell_type": "markdown",
   "id": "17ec8b52",
   "metadata": {},
   "source": [
    "In einem weiterem Schritt können die benötigten Attribute aus den Ausgangsrelationen direkt rausprojiziert werden. \n",
    "\n",
    "<img src=\"pictures/Anfragebearbeitung-Beispiel-3.png\" alt=\"Anfragebearbeitung-Beispiel-3\" width=\"500\" style=\"background-color: white;\"/>"
   ]
  },
  {
   "cell_type": "markdown",
   "id": "8ed810ed-52d9-4c60-8eba-469500092031",
   "metadata": {},
   "source": [
    "### Übergang zum Physischen Anfrageplan\n",
    "\n",
    "Hierbei gibt es diverse Freiheitsgrade:\n",
    "1. Die Reihenfolge und Gruppierung von assoziativen und kommutativen Operatoren können vertauscht werden. Das ist zum Beispiel der Fall bei Joins, Vereinigungen und Schnittmengen. \n",
    "2. Für jeden Operator kann ein Algorithmus gewählt werden. Damit sind die aus dem vorherigen Kapitel kennengelernten Hash-basierten, Sort-basierten oder auch One-Pass Algorithmen gemeint.\n",
    "3. Es können zusätzliche Operatoren (Sort und Projektion), die im logischen Plan selbst nicht auftauchen, hinzugefügt werden. \n",
    "4. Außerdem kann der Modus des Datentransports zwischen den Operatoren gewählt werden. Modi wären eine temporäre Tabelle oder eine Pipeline mit Iterator. \n",
    "\n",
    "Dafür braucht man in jedem Fall zunächst eine Kostenabschätzung. Man möchte herausfinden, wann es sinnvoll ist, welche Operationsreihenfolgen zu nutzen und wie viel ein Plan gesamt kostet. "
   ]
  },
  {
   "cell_type": "markdown",
   "id": "e4e4adbd",
   "metadata": {},
   "source": [
    "## Kostenmodell \n",
    "\n",
    "Beim Kostenmodell werden die Kardinalitäten abgschätzt. Man möchte wissen wie viele Tupel es gibt und wie viele unterschiedliche Werte in den einzelnen Attributen einer Relation vorhanden sind. \n",
    "\n",
    "<img src=\"pictures/Ablauf-Anfragebearbeitung_5.png\" alt=\"Ablauf-Anfragebearbeitung_5\" width=\"500\" style=\"background-color: white;\"/>"
   ]
  },
  {
   "cell_type": "markdown",
   "id": "c8d8c65a-97e2-42c1-a282-370f39ea5bf8",
   "metadata": {},
   "source": [
    "### Kostenbasierte Optimierung (Wiederholung)\n",
    "\n",
    "Konzeptionell werden alle denkbaren Ausführungspläne generiert. Die Kosten für jeden Plan werden anhand eines Kostenmodells bewertet. Dazu werden Statistiken und Histogramme hinzugezogen. Die Parameter werden anhand der Rechnerarchitektur, auf der die Datenbank aufgesetzt ist, kalibriert. Die Optimierung ist abhängig vom verfügbaren Speicher. Dann wird anhand des Aufwands-Kostenmodell geschaut was und wie optimiert werden soll. Entweder Durchsatz maximierend oder nicht Antwortzeit-minimierend. Entsprechend wird der günstigste Plan ausgeführt. Wichtig ist, dass nicht zu lange optimiert wird, da sich sonst der ganze Aufwand nicht lohnen könnte. "
   ]
  },
  {
   "cell_type": "markdown",
   "id": "723058e4",
   "metadata": {},
   "source": [
    "<img src=\"pictures/TimeCost-Meme.png\" alt=\"TimeCost-Meme\" width=\"350\" style=\"background-color: white;\"/>"
   ]
  },
  {
   "cell_type": "markdown",
   "id": "b353b2ec-7202-4d79-95a7-5e8c0cb672e7",
   "metadata": {},
   "source": [
    "### Problemgröße (Suchraum) (Wiederholung)\n",
    "\n",
    "Wie zuvor erwähnt, werden konzeptionell alle denkbaren Ausführungspläne generiert. Man berechnet nun die Bushy-Pläne mit n Tabellen. Bushy-Plan bedeutet, dass der Baum immer balanciert ist. \n",
    "\n",
    "$$\\frac{(2(n-1))!}{(n-1)!}$$ \n",
    "\n",
    "| n | $$2^n$$ | n! | $$\\frac{(2(n-1))!}{(n-1)!}$$ |\n",
    "|-|-|-|-|\n",
    "| **2** | 4 | 2 | 2 |\n",
    "| **5** | 32 | 120 | 1680 |\n",
    "| **10** | 1024 | 3628800 | 1,76 * 10^10 |\n",
    "| **20** | 1048576 | 2,4 * 10^18 | 4,3 * 10^27 |\n",
    "\n",
    "Die Anzahl der Deep-Pläne mit n Tabellen ist n!. Die Plankosten unterscheiden sich um viele Größenordnungen. Das Optimierungsproblem ist NP-hard (NP-Schwer). \n",
    "\n",
    "~ Folie: Prof. Alfons Kemper, TU München."
   ]
  },
  {
   "cell_type": "markdown",
   "id": "75902613",
   "metadata": {},
   "source": [
    "### Kostenmodell (Wiederholung) \n",
    "\n",
    "Gegeben ist ein algebraischer Ausdruck z.B. ein Anfrageplan. Das Kostenmodell schätzt die Ausführungskosten für diesen Ausdruck. Im Kostenmodell werden Punkte wie die Indexinformationen, die Ballungs-Informationen (Clustering on disk), die DB-Kardinalitäten und die Attributverteilungen berücksichtigt. \n",
    "\n",
    "<img src=\"pictures/Kostenmodell.png\" alt=\"Kostenmodell\" width=\"500\" style=\"background-color: white;\"/>"
   ]
  },
  {
   "cell_type": "markdown",
   "id": "4bd66161-4fad-4253-9c79-38f940d955af",
   "metadata": {},
   "source": [
    "20:10"
   ]
  },
  {
   "cell_type": "markdown",
   "id": "f373062a",
   "metadata": {},
   "source": [
    "### Statistiken (Wiederholung)\n",
    "\n",
    "<img src=\"pictures/Statistiken-Histogram-of-arrivals.png\" alt=\"Statistiken-Histogram-of-arrivals\" width=\"500\" style=\"background-color: white;\"/>"
   ]
  },
  {
   "cell_type": "markdown",
   "id": "4e639a2e",
   "metadata": {},
   "source": [
    "<img src=\"pictures/Selektivität-schätzen.png\" alt=\"Selektivität-schätzen\" width=\"500\" style=\"background-color: white;\"/>"
   ]
  },
  {
   "cell_type": "markdown",
   "id": "b0b5aec5",
   "metadata": {},
   "source": [
    "<img src=\"pictures/Beispiel-Skew-Graph.png\" alt=\"Beispiel-Skew-Graph\" width=\"500\" style=\"background-color: white;\"/>"
   ]
  },
  {
   "cell_type": "markdown",
   "id": "4d095082",
   "metadata": {},
   "source": [
    "<img src=\"pictures/George-Kingsley-Zipf.png\" alt=\"George-Kingsley-Zipf\" width=\"500\" style=\"background-color: white;\"/>"
   ]
  },
  {
   "cell_type": "markdown",
   "id": "633a7c93",
   "metadata": {},
   "source": [
    "<img src=\"pictures/Zipfs-law.png\" alt=\"Zipfs-law\" width=\"500\" style=\"background-color: white;\"/>"
   ]
  },
  {
   "cell_type": "markdown",
   "id": "00ef3d19",
   "metadata": {},
   "source": [
    "<img src=\"pictures/Ablauf-Anfragebearbeitung_6.png\" alt=\"Ablauf-Anfragebearbeitung_6\" width=\"500\" style=\"background-color: white;\"/>"
   ]
  },
  {
   "cell_type": "markdown",
   "id": "41d2695a",
   "metadata": {},
   "source": [
    "<img src=\"pictures/Verteilungen-Körpergewicht.png\" alt=\"Verteilungen-Körpergewicht\" width=\"500\" style=\"background-color: white;\"/>"
   ]
  },
  {
   "cell_type": "markdown",
   "id": "acb9e763",
   "metadata": {},
   "source": [
    "<img src=\"pictures/Equi-Width-Histogramme.png\" alt=\"Equi-Width-Histogramme\" width=\"500\" style=\"background-color: white;\"/>"
   ]
  },
  {
   "cell_type": "markdown",
   "id": "3e142f08",
   "metadata": {},
   "source": [
    "<img src=\"pictures/Equi-Height-Histogramme.png\" alt=\"Equi-Height-Histogramme\" width=\"500\" style=\"background-color: white;\"/>"
   ]
  },
  {
   "cell_type": "markdown",
   "id": "d1f0487a",
   "metadata": {},
   "source": [
    "<img src=\"pictures/Hill-Climbing.png\" alt=\"Hill-Climbing\" width=\"500\" style=\"background-color: white;\"/>"
   ]
  },
  {
   "cell_type": "markdown",
   "id": "46801d69",
   "metadata": {},
   "source": [
    "<img src=\"pictures/Richard-Bellman.png\" alt=\"Richard-Bellman\" width=\"500\" style=\"background-color: white;\"/>"
   ]
  },
  {
   "cell_type": "markdown",
   "id": "b9b8fba8",
   "metadata": {},
   "source": [
    "<img src=\"pictures/Knapsach-Zweihander.png\" alt=\"Knapsach-Zweihander\" width=\"500\" style=\"background-color: white;\"/>"
   ]
  },
  {
   "cell_type": "markdown",
   "id": "8a791a76",
   "metadata": {},
   "source": [
    "<img src=\"pictures/Knapsack-SaintsChime.png\" alt=\"Knapsack-SaintsChime\" width=\"500\" style=\"background-color: white;\"/>"
   ]
  },
  {
   "cell_type": "markdown",
   "id": "e6756d39",
   "metadata": {},
   "source": [
    "<img src=\"pictures/Knapsack-DragonriderBow.png\" alt=\"Knapsack-DragonriderBow\" width=\"500\" style=\"background-color: white;\"/>"
   ]
  },
  {
   "cell_type": "markdown",
   "id": "38371de7",
   "metadata": {},
   "source": [
    "<img src=\"pictures/Knapsack-Rapier.png\" alt=\"Knapsack-Rapier\" width=\"500\" style=\"background-color: white;\"/>"
   ]
  },
  {
   "cell_type": "markdown",
   "id": "9aa9d5f7",
   "metadata": {},
   "source": [
    "<img src=\"pictures/Knapsack-DragonCrestShield.png\" alt=\"Knapsack-DragonCrestShield\" width=\"500\" style=\"background-color: white;\"/>"
   ]
  },
  {
   "cell_type": "markdown",
   "id": "d524b7a5",
   "metadata": {},
   "source": [
    "<img src=\"pictures/Knapsack-ShortBow.png\" alt=\"Knapsack-ShortBow\" width=\"500\" style=\"background-color: white;\"/>"
   ]
  },
  {
   "cell_type": "markdown",
   "id": "5af3aba5",
   "metadata": {},
   "source": [
    "<img src=\"pictures/Knapsack-General.png\" alt=\"Knapsack-General\" width=\"500\" style=\"background-color: white;\"/>"
   ]
  },
  {
   "cell_type": "markdown",
   "id": "ee04f48c",
   "metadata": {},
   "source": [
    "<img src=\"pictures/Knapsack-Ausrüstung.png\" alt=\"Knapsack-Ausrüstung\" width=\"500\" style=\"background-color: white;\"/>"
   ]
  },
  {
   "cell_type": "markdown",
   "id": "f9eee53c",
   "metadata": {},
   "source": [
    "<img src=\"pictures/Knapsack-Rüstung.png\" alt=\"Knapsack-Rüstung\" width=\"500\" style=\"background-color: white;\"/>"
   ]
  },
  {
   "cell_type": "markdown",
   "id": "04b61030",
   "metadata": {},
   "source": [
    "<img src=\"pictures/Knapsack-mit-DP.png\" alt=\"Knapsack-mit-DP\" width=\"500\" style=\"background-color: white;\"/>"
   ]
  },
  {
   "cell_type": "markdown",
   "id": "ce317232",
   "metadata": {},
   "source": [
    "<img src=\"pictures/DP-Traveling-Salesman-Problem.png\" alt=\"DP-Traveling-Salesman-Problem\" width=\"500\" style=\"background-color: white;\"/>"
   ]
  },
  {
   "cell_type": "markdown",
   "id": "c79115ec",
   "metadata": {},
   "source": [
    "<img src=\"pictures/Dynamic-Programming.png\" alt=\"Dynamic-Programming\" width=\"500\" style=\"background-color: white;\"/>"
   ]
  },
  {
   "cell_type": "markdown",
   "id": "5f7f5202",
   "metadata": {},
   "source": [
    "<img src=\"pictures/Anfrageplanung.png\" alt=\"Anfrageplanung\" width=\"500\" style=\"background-color: white;\"/>"
   ]
  },
  {
   "cell_type": "markdown",
   "id": "e39f2f59",
   "metadata": {},
   "source": [
    "<img src=\"pictures/Selinger.png\" alt=\"Selinger\" width=\"500\" style=\"background-color: white;\"/>"
   ]
  },
  {
   "cell_type": "markdown",
   "id": "a63b61d7",
   "metadata": {},
   "source": [
    "<img src=\"pictures/AccessPathSelection-IBM.png\" alt=\"AccessPathSelection-IBM\" width=\"500\" style=\"background-color: white;\"/>"
   ]
  },
  {
   "cell_type": "markdown",
   "id": "f5d48a6b",
   "metadata": {},
   "source": [
    "<img src=\"pictures/Dynamische-Programmierung.png\" alt=\"Dynamische-Programmierung\" width=\"500\" style=\"background-color: white;\"/>"
   ]
  },
  {
   "cell_type": "markdown",
   "id": "5f2236e8",
   "metadata": {},
   "source": [
    "<img src=\"pictures/Dynamische-Programmierung_2.png\" alt=\"Dynamische-Programmierung_2\" width=\"500\" style=\"background-color: white;\"/>"
   ]
  },
  {
   "cell_type": "markdown",
   "id": "1272af08",
   "metadata": {},
   "source": [
    "<img src=\"pictures/DP-Beispiel.png\" alt=\"DP-Beispiel\" width=\"500\" style=\"background-color: white;\"/>"
   ]
  },
  {
   "cell_type": "markdown",
   "id": "59bda94c",
   "metadata": {},
   "source": [
    "<img src=\"pictures/DP-Beispiel_2.png\" alt=\"DP-Beispiel_2\" width=\"500\" style=\"background-color: white;\"/>"
   ]
  },
  {
   "cell_type": "markdown",
   "id": "9b526df2",
   "metadata": {},
   "source": [
    "<img src=\"pictures/DP-Beispiel_3.png\" alt=\"DP-Beispiel_3\" width=\"500\" style=\"background-color: white;\"/>"
   ]
  },
  {
   "cell_type": "markdown",
   "id": "16832ea8",
   "metadata": {},
   "source": [
    "<img src=\"pictures/DP-Beispiel_4.png\" alt=\"DP-Beispiel_4\" width=\"500\" style=\"background-color: white;\"/>"
   ]
  },
  {
   "cell_type": "markdown",
   "id": "b260af8f",
   "metadata": {},
   "source": [
    "<img src=\"pictures/DP-Algorithmus.png\" alt=\"DP-Algorithmus\" width=\"500\" style=\"background-color: white;\"/>"
   ]
  }
 ],
 "metadata": {
  "kernelspec": {
   "display_name": "Python 3 (ipykernel)",
   "language": "python",
   "name": "python3"
  },
  "language_info": {
   "codemirror_mode": {
    "name": "ipython",
    "version": 3
   },
   "file_extension": ".py",
   "mimetype": "text/x-python",
   "name": "python",
   "nbconvert_exporter": "python",
   "pygments_lexer": "ipython3",
   "version": "3.10.12"
  }
 },
 "nbformat": 4,
 "nbformat_minor": 5
}