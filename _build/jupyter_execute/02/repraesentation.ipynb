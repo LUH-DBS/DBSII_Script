{
 "cells": [
  {
   "cell_type": "markdown",
   "id": "abb72bc7-62e7-420e-8231-d418be9019f0",
   "metadata": {},
   "source": [
    "# Repräsentation"
   ]
  },
  {
   "cell_type": "markdown",
   "id": "04c37b15",
   "metadata": {},
   "source": [
    "<img src=\"pictures/5-Schichten-Architektur.png\" alt=\"5-Schichten-Architektur\" width=\"500\" style=\"background-color: white;\"/>"
   ]
  },
  {
   "cell_type": "markdown",
   "id": "017c1ffc",
   "metadata": {},
   "source": [
    "<img src=\"pictures/Datenelemente-meme.png\" alt=\"Datenelemente-meme\" width=\"500\" style=\"background-color: white;\"/>"
   ]
  },
  {
   "cell_type": "markdown",
   "id": "21074c2d",
   "metadata": {},
   "source": [
    "<img src=\"pictures/Strings-meme.png\" alt=\"Strings-meme\" width=\"500\" style=\"background-color: white;\"/>"
   ]
  },
  {
   "cell_type": "markdown",
   "id": "593291cf",
   "metadata": {},
   "source": [
    "<img src=\"pictures/Versatz-zur-Effizienz.png\" alt=\"Versatz-zur-Effizienz\" width=\"500\" style=\"background-color: white;\"/>"
   ]
  },
  {
   "cell_type": "markdown",
   "id": "fdb33662",
   "metadata": {},
   "source": [
    "<img src=\"pictures/Speicherung_Metadaten.png\" alt=\"Speicherung_Metadaten\" width=\"500\" style=\"background-color: white;\"/>"
   ]
  },
  {
   "cell_type": "markdown",
   "id": "20235bf7",
   "metadata": {},
   "source": [
    "<img src=\"pictures/Aufteilung_in_Blöcke.png\" alt=\"Aufteilung_in_Blöcke\" width=\"500\" style=\"background-color: white;\"/>"
   ]
  },
  {
   "cell_type": "markdown",
   "id": "0819ba96",
   "metadata": {},
   "source": [
    "<img src=\"pictures/Logische-Adressen.png\" alt=\"Logische-Adressen\" width=\"500\" style=\"background-color: white;\"/>"
   ]
  },
  {
   "cell_type": "markdown",
   "id": "681f379f",
   "metadata": {},
   "source": [
    "<img src=\"pictures/Hybride-Adressierung.png\" alt=\"Hybride-Adressierung\" width=\"500\" style=\"background-color: white;\"/>"
   ]
  },
  {
   "cell_type": "markdown",
   "id": "ebad95e2",
   "metadata": {},
   "source": [
    "<img src=\"pictures/Finden-von-Fehlern.png\" alt=\"Finden-von-Fehlern\" width=\"500\" style=\"background-color: white;\"/>"
   ]
  },
  {
   "cell_type": "markdown",
   "id": "976509ce",
   "metadata": {},
   "source": [
    "<img src=\"pictures/Datensätze-variabler-Länge.png\" alt=\"Datensätze-variabler-Länge\" width=\"500\" style=\"background-color: white;\"/>"
   ]
  },
  {
   "cell_type": "markdown",
   "id": "cd3bf28f",
   "metadata": {},
   "source": [
    "<img src=\"pictures/Linked-open-data.png\" alt=\"Linked-open-data\" width=\"500\" style=\"background-color: white;\"/>"
   ]
  },
  {
   "cell_type": "markdown",
   "id": "9fa935b0",
   "metadata": {},
   "source": [
    "<img src=\"pictures/SPARSE-columns.png\" alt=\"SPARSE-columns\" width=\"500\" style=\"background-color: white;\"/>"
   ]
  },
  {
   "cell_type": "markdown",
   "id": "68b05802",
   "metadata": {},
   "source": [
    "<img src=\"pictures/Einfügen-mit-Platz.png\" alt=\"Einfügen-mit-Platz\" width=\"500\" style=\"background-color: white;\"/>"
   ]
  },
  {
   "cell_type": "markdown",
   "id": "385d6f20",
   "metadata": {},
   "source": [
    "<img src=\"pictures/Löschen-meme.png\" alt=\"Löschen-meme\" width=\"500\" style=\"background-color: white;\"/>"
   ]
  },
  {
   "cell_type": "markdown",
   "id": "32631904",
   "metadata": {},
   "source": [
    "<img src=\"pictures/update.png\" alt=\"update\" width=\"500\" style=\"background-color: white;\"/>"
   ]
  }
 ],
 "metadata": {
  "kernelspec": {
   "display_name": "Python 3 (ipykernel)",
   "language": "python",
   "name": "python3"
  },
  "language_info": {
   "codemirror_mode": {
    "name": "ipython",
    "version": 3
   },
   "file_extension": ".py",
   "mimetype": "text/x-python",
   "name": "python",
   "nbconvert_exporter": "python",
   "pygments_lexer": "ipython3",
   "version": "3.10.6"
  }
 },
 "nbformat": 4,
 "nbformat_minor": 5
}