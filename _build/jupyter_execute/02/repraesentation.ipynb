{
 "cells": [
  {
   "cell_type": "markdown",
   "id": "abb72bc7-62e7-420e-8231-d418be9019f0",
   "metadata": {},
   "source": [
    "# Repräsentation"
   ]
  },
  {
   "cell_type": "markdown",
   "id": "04c37b15",
   "metadata": {},
   "source": [
    "Architektur\n",
    "\n",
    "<img src=\"pictures/5-Schichten-Architektur.png\" alt=\"5-Schichten-Architektur\" width=\"500\" style=\"background-color: white;\"/>"
   ]
  },
  {
   "cell_type": "markdown",
   "id": "8333a2d5",
   "metadata": {},
   "source": [
    "# Aufbau\n",
    "\n",
    "- Motivation:\n",
    "    - Beziehung zwischen Block-Modell des Speichers (Hauptspeicher/Festplatte) und Tupelmodelldes DBMS\n",
    "- Dateneinheiten:\n",
    "    - Attributwerte -> Bytelisten fester oder variabler Länge: „Felder“\n",
    "    - Tupel->Feldlisten fester oder variabler Länge: „Datensätze“\n",
    "    - Physische Blöcke speichern Datensatzmengen / -listen\n",
    "    - Relation->Mengen von Blöcken: „Datei“\n",
    "        - Plus Indexstrukturen\n",
    "        "
   ]
  },
  {
   "cell_type": "markdown",
   "id": "42a52b70",
   "metadata": {},
   "source": [
    "# Felder etc.\n",
    "\n",
    "- Kleinste Dateneinheit: Attributwerte\n",
    "- Repräsentiert durch „Felder“ (fields)\n",
    "- Fragen für heute:\n",
    "    - Wie werden Datentypen als Felder repräsentiert?\n",
    "    - Wie werden Tupelals Datensätze repräsentiert?\n",
    "    - Wie werden Mengen von Datensätzen oder Tupelnin Blöcken repräsentiert?\n",
    "    - Wie werden Relationen als Mengen von Blöcken repräsentiert?\n",
    "    - Was passiert bei variablen Feld-oder Tupellängen?\n",
    "    - Was passiert wenn ich einen Block nicht einheitlich in Tupeleinteilen kann?\n",
    "    - Was passiert wenn sich die Größe eines Datensatzes ändert, insbesondere vergrößert?\n",
    "    \n",
    "```\n",
    "CREATE TABLE Schauspieler (\n",
    "    Name CHAR(30),\n",
    "    Adresse VARCHAR(255),\n",
    "    Geschlecht CHAR(1),\n",
    "    Geburtstag DATE );\n",
    "```"
   ]
  },
  {
   "cell_type": "markdown",
   "id": "017c1ffc",
   "metadata": {},
   "source": [
    "<img src=\"pictures/Datenelemente-meme.png\" alt=\"Datenelemente-meme\" width=\"500\" style=\"background-color: white;\"/>"
   ]
  },
  {
   "cell_type": "markdown",
   "id": "035c5cff",
   "metadata": {},
   "source": [
    "# Datenelemente"
   ]
  },
  {
   "cell_type": "markdown",
   "id": "0a799571",
   "metadata": {},
   "source": [
    "## Datentypen\n",
    "\n",
    "- Irgendwann werden alle Daten als Bitsequenzen dargestellt. \n",
    "    - Bzw.: Irgendwann werden alle Daten als Bytesequenzen dargestellt.\n",
    "    - Integer: 2 oder 4 Byte\n",
    "    - Float: 4 oder 8 Byte\n",
    "- Strings fester Länge: CHAR(n)\n",
    "    - Feld hat n Byte\n",
    "    - Fehlende Byte-Werte werden mit Nullwerten ($\\perp$)ge-padded.\n",
    "    - ‚Katze‘ in CHAR(8) wäre also K a t z e $\\perp$$\\perp$$\\perp$"
   ]
  },
  {
   "cell_type": "markdown",
   "id": "bacc804d",
   "metadata": {},
   "source": [
    "# Strings variabler Länge\n",
    "- VARCHAR(n)\n",
    "- Es werden n+1 Byte reserviert.\n",
    "- Variante 1\n",
    "    - Byte 1 speichert Länge–=> Länge ist maximal 255 Byte–Oft also VARCHAR(255)\n",
    "    - Weitere Bytes speichern Attributwert\n",
    "    - Fehlende Bytes werden ignoriert\n",
    "    - 5 K a t z e\n",
    "- Variante 2\n",
    "    - Erste Bytes speichern Attributwert\n",
    "    - Hintendran ein null-Wert ($\\perp$)\n",
    "    - K a t z e $\\perp$"
   ]
  },
  {
   "cell_type": "markdown",
   "id": "21074c2d",
   "metadata": {},
   "source": [
    "<img src=\"pictures/Strings-meme.png\" alt=\"Strings-meme\" width=\"500\" style=\"background-color: white;\"/>"
   ]
  },
  {
   "cell_type": "markdown",
   "id": "367dbd22",
   "metadata": {},
   "source": [
    "# Datum / Bit / Boolean\n",
    "\n",
    "- DATE, TIME\n",
    "    - i.d.R. repräsentiert als String fester Länge\n",
    "    - Problem: Zeit kann mit Bruchteilen von Sekunden gespeichert werden (theoretisch beliebig genau)\n",
    "        - Lösung 1: Speicherung als String fester Länge mit maximaler Genauigkeit\n",
    "        - Lösung 2: Speicherung als String variabler Länge\n",
    "- BIT(n)\n",
    "    - 8 Bit pro Byte\n",
    "    - Letzte Bits ignorieren, falls n nicht durch 8 teilbar ist\n",
    "    - BIT(12): 010111110011 wird zu 01011111, 00110000\n",
    "- BOOLEAN\n",
    "    - 8 Bit: \n",
    "        - 00000001 und 00000000\n",
    "        - oder 11111111 und 00000000"
   ]
  },
  {
   "cell_type": "markdown",
   "id": "5b2b1b17",
   "metadata": {},
   "source": [
    "# Datensätze"
   ]
  },
  {
   "cell_type": "markdown",
   "id": "e17cb0fb",
   "metadata": {},
   "source": [
    "## Datensätze fester Länge\n",
    "\n",
    "- Jeder Datensatz hat ein Schema.\n",
    "    - Namen und Datentypen der Felder \n",
    "    - Offset im Datensatz\n",
    "    - Anmerkung: JEDER Datensatz!–Realisiert i.d.R. als Pointer auf das Schema\n",
    "    \n",
    "```\n",
    "CREATE TABLE Schauspieler (\n",
    "    Name CHAR(30),\n",
    "    Adresse VARCHAR(255),\n",
    "    Geschlecht CHAR(1),\n",
    "    Geburtstag DATE );\n",
    "```\n",
    "\n",
    "- Alle haben feste Länge\n",
    "    - 30 Byte + 256 Byte + 1 Byte + 10 Byte = 297 Byte"
   ]
  },
  {
   "cell_type": "markdown",
   "id": "498f1a0a",
   "metadata": {},
   "source": [
    "## Versatz zur Effizienz\n",
    "\n",
    "- Felder beginnen am besten bei Hauptspeicheradressen, die ein Vielfaches von 4 (bzw. 8) sind.\n",
    "    - Manchmal sogar Pflicht\n",
    "- Für Festplatte eigentlich egal\n",
    "    - Aber eingelesener Datensatz landet auf einem Speicherplatz mit entsprechender Adresse\n",
    "        - Vielfaches von 4\n",
    "        - Vielfaches von 2n\n",
    "    - Entsprechend versetzt sind die anderen Felder"
   ]
  },
  {
   "cell_type": "markdown",
   "id": "593291cf",
   "metadata": {},
   "source": [
    "<img src=\"pictures/Versatz-zur-Effizienz.png\" alt=\"Versatz-zur-Effizienz\" width=\"500\" style=\"background-color: white;\"/>"
   ]
  },
  {
   "cell_type": "markdown",
   "id": "7af2c550",
   "metadata": {},
   "source": [
    "# Speicherung der Metadaten\n",
    "\n",
    "- Metadaten eines Datensatzes, z.B.\n",
    "    - Schema bzw. Pointer auf ein Schema□Länge des Datensatzes\n",
    "    - Timestampder letzten Änderung bzw. des letzten Lesens\n",
    "- Lösung: Header vor den Datensatz"
   ]
  },
  {
   "cell_type": "markdown",
   "id": "fdb33662",
   "metadata": {},
   "source": [
    "<img src=\"pictures/Speicherung_Metadaten.png\" alt=\"Speicherung_Metadaten\" width=\"500\" style=\"background-color: white;\"/>"
   ]
  },
  {
   "cell_type": "markdown",
   "id": "17e41ed6",
   "metadata": {},
   "source": [
    "## Aufteilung in Blöcke\n",
    "\n",
    "- Block header(optional)\n",
    "    - Links auf andere Blocks (z.B. Index)\n",
    "    - Rolle dieses Blocks (im Index)\n",
    "    - Relation der Tupel\n",
    "    - Verzeichnis der offsetsder Datensätze\n",
    "    - Block ID (gleich)□Timestampder letzten Änderung / des letzten Lesens\n",
    "- Einfachster Fall: Alle Datensätze aus gleicher Relation, aller fester Länge\n",
    "- Beispiel\n",
    "    - Datensatz 316 Byte\n",
    "    - Block 4096 Byte, 12 davon als Header\n",
    "    - => 12 Datensätze und 292 verlorene Byte"
   ]
  },
  {
   "cell_type": "markdown",
   "id": "20235bf7",
   "metadata": {},
   "source": [
    "<img src=\"pictures/Aufteilung_in_Blöcke.png\" alt=\"Aufteilung_in_Blöcke\" width=\"500\" style=\"background-color: white;\"/>"
   ]
  },
  {
   "cell_type": "markdown",
   "id": "d77d9393",
   "metadata": {},
   "source": [
    "# Adressierung"
   ]
  },
  {
   "cell_type": "markdown",
   "id": "2a3e0681",
   "metadata": {},
   "source": [
    "## Virtueller Speicher vs. Festplatte\n",
    "\n",
    "- Block im Hauptspeicher\n",
    "     - Block-Adresse ist im virtuellen Adressraum\n",
    "     - Zeigt auf erstes Byte des Blocks\n",
    "     - Datensatz-Adresse zeigt auf erstes Byte des Datensatzes\n",
    "- Block auf Festplatte□Speicherort im gesamten System des DBMS–Disk ID, Zylinder#, Spur#, Sektor, ...\n",
    "    - Datensatz: Block + offsetdes ersten Bytes"
   ]
  },
  {
   "cell_type": "markdown",
   "id": "10cd1bf3",
   "metadata": {},
   "source": [
    "## Adressraum des Servers\n",
    "\n",
    "- Blocks und Offsets innerhalb von Blocks\n",
    "- Variante 1: Physische Adressen\n",
    "    - Rechner ID\n",
    "    - Disk ID 8-16 Byte\n",
    "    - Zylinder# 8-16 Byte\n",
    "    - Spur# (bei mehr als einer Oberfläche)\n",
    "    - Sektor#\n",
    "    - (Offset innerhalb des Blocks)\n",
    "- Variante 2: Logische Adressen\n",
    "    - Beliebiger Byte String\n",
    "    - Mapping tableübersetzt diese Adresse in eine physische Adresse."
   ]
  },
  {
   "cell_type": "markdown",
   "id": "1088fc24",
   "metadata": {},
   "source": [
    "## Logische Adressen\n",
    "\n",
    "- Warum die Indirektion?\n",
    "    - Flexibilität bei der Umorganisation von Daten–Änderungen nur auf der mappingtable\n",
    "- Hybride Adressierung\n",
    "    - Physische Adresse für einen Block□Logische Adresse für einen Datensatz in dem Block–Z.B. Schlüsselwert"
   ]
  },
  {
   "cell_type": "markdown",
   "id": "0819ba96",
   "metadata": {},
   "source": [
    "<img src=\"pictures/Logische-Adressen.png\" alt=\"Logische-Adressen\" width=\"500\" style=\"background-color: white;\"/>"
   ]
  },
  {
   "cell_type": "markdown",
   "id": "e37f8670",
   "metadata": {},
   "source": [
    "## Hybride Adressierung\n",
    "\n",
    "- Idee: Physische Adressen zu einem Block. Block selbst speichert offsettable.\n",
    "- Auffüllen des Blocks von hinten bei Datensätzen variabler Länge\n",
    "    - Anzahl der Datensätze nicht fix=> Größe des headerskann offen gelassen werden\n",
    "- Vorteile der Flexibilität (auch ohne Mapping table)\n",
    "    - Innerhalb eines Blocks kann umorganisiert werden\n",
    "    - Datensatz kann sogar Blöcke wechseln–Speicherung der neuen Adresse in der offsettable"
   ]
  },
  {
   "cell_type": "markdown",
   "id": "681f379f",
   "metadata": {},
   "source": [
    "<img src=\"pictures/Hybride-Adressierung.png\" alt=\"Hybride-Adressierung\" width=\"500\" style=\"background-color: white;\"/>"
   ]
  },
  {
   "cell_type": "markdown",
   "id": "bfbd705a",
   "metadata": {},
   "source": [
    "## Columnar Storage\n",
    "\n",
    "- Idee: Datensätze speichern Spalten statt Tupel\n",
    "- Überspannen idRmehrere Blöcke\n",
    "- Reihenfolge der Werte erlaubt Rekonstruktion\n",
    "    - Alternativ: Tupel-Idsmitspeichern\n",
    "- Beispiel: 2 Datensätze: (4,7,9) und (a,b,c)\n",
    "    - Alternativ: ((2,7),(1,4),(3,9)) und ((3,c),(1,a),(2,b))\n",
    "    - Vorteil: Umsortierung möglich->Komprimierung\n",
    "- Anwendungsfall: OLAP (Online analyticalprocessing)\n",
    "    - Die meisten Anfragen benötigen alle oder viele Werte einer Spalte\n",
    "    - Tupelrekonstruktionaufwändig\n",
    "- Diskussion Komprimierung\n",
    "    - Vorteil: Weniger Diskkosten; weniger I/O\n",
    "    - Nachteile: Funktioniert nur gut auf großen Datenmengen, aber effizienter Tupelzugrifferlaubt nur blockweise Komprimierung; Indizierung schwierig"
   ]
  },
  {
   "cell_type": "markdown",
   "id": "da13bcba",
   "metadata": {},
   "source": [
    "# Daten variabler Länge"
   ]
  },
  {
   "cell_type": "markdown",
   "id": "c9982aae",
   "metadata": {},
   "source": [
    "## Variable Länge\n",
    "\n",
    "- Bisher: Alles hat feste Länge.\n",
    "- Aber es gibt:\n",
    "    - Felder variabler Länge\n",
    "        - Adresse VARCHAR(255) wird selten voll ausgeschöpft\n",
    "    - Datensätze variabler Länge\n",
    "        - Ergänzung von Datensätzen um Felder\n",
    "        - Schauspieler, die auch Regie führen\n",
    "     - Riesige Felder\n",
    "        - GIF, MPEG–Passen nicht mehr auf einen Block"
   ]
  },
  {
   "cell_type": "markdown",
   "id": "7bf5dab5",
   "metadata": {},
   "source": [
    "## Finden von Feldern\n",
    "\n",
    "- Datensatz muss Informationen speichern, um jedes Feld aufzufinden.\n",
    "- Idee: Felder fester Länge an den Anfang des Datensatzes\n",
    "- Header speichert\n",
    "    - Länge des Datensatzes\n",
    "    - Pointer (offsets) zu den Anfängen aller Felder variabler Länge\n",
    "        - Pointer zum ersten kann sogar gespart werden."
   ]
  },
  {
   "cell_type": "markdown",
   "id": "ebad95e2",
   "metadata": {},
   "source": [
    "<img src=\"pictures/Finden-von-Fehlern.png\" alt=\"Finden-von-Fehlern\" width=\"500\" style=\"background-color: white;\"/>"
   ]
  },
  {
   "cell_type": "markdown",
   "id": "37f155e5",
   "metadata": {},
   "source": [
    "## Datensätze variabler Länge\n",
    "\n",
    "- Anwendungsfall: Es ist unbekannt welche undwie viele Felder der Datensatz haben wird.\n",
    "- Taggedfields(getaggteFelder)\n",
    "    - Feldname (Attributname)\n",
    "    - Feldtyp\n",
    "    - Feldlänge\n",
    "    - Feldwert\n",
    "- Nützlich bei\n",
    "    - Informationsintegration: Es ist noch unbekannt welche Felder von Quellen hinzukommen.\n",
    "    - Dünn besetzte Datensätze: Tausende Attribute, nur wenige haben Werte"
   ]
  },
  {
   "cell_type": "markdown",
   "id": "976509ce",
   "metadata": {},
   "source": [
    "<img src=\"pictures/Datensätze-variabler-Länge.png\" alt=\"Datensätze-variabler-Länge\" width=\"500\" style=\"background-color: white;\"/>"
   ]
  },
  {
   "cell_type": "markdown",
   "id": "af778c36",
   "metadata": {},
   "source": [
    "## Anwendungsfalls SparseDataBeispiel: LinkedOpen Data"
   ]
  },
  {
   "cell_type": "markdown",
   "id": "cd3bf28f",
   "metadata": {},
   "source": [
    "<img src=\"pictures/Linked-open-data.png\" alt=\"Linked-open-data\" width=\"500\" style=\"background-color: white;\"/>"
   ]
  },
  {
   "cell_type": "markdown",
   "id": "a083fc2b",
   "metadata": {},
   "source": [
    "## Microsoft SQL Server: SPARSE columns\n",
    "\n",
    "```\n",
    "CREATE TABLE DocumentStore(\n",
    "    DocIDintPRIMARY KEY,\n",
    "    Title varchar(200) NOT NULL,\n",
    "    ProdSpecvarchar(20) SPARSE NULL,\n",
    "    ProdLocsmallintSPARSE NULL)\n",
    "```\n",
    "\n",
    "- Betrifft nur physische Ebene (wie Indizes)\n",
    "- Benötigt für nicht-NULL Werte mehr Platz"
   ]
  },
  {
   "cell_type": "markdown",
   "id": "9fa935b0",
   "metadata": {},
   "source": [
    "<img src=\"pictures/SPARSE-columns.png\" alt=\"SPARSE-columns\" width=\"500\" style=\"background-color: white;\"/>"
   ]
  },
  {
   "cell_type": "markdown",
   "id": "a9ed3138",
   "metadata": {},
   "source": [
    "## Zu große Datensätze\n",
    "\n",
    "- Idee: Spannedrecordsüberspannen mehr als einen Block.\n",
    "- Für übergroße Felder\n",
    "    - „Riesige“ Felder (Mega-oder Gigabyte) gleich\n",
    "- Für Datensatzgrößen, die viel Platz verschwenden\n",
    "    - Z.B. 51% eines Blocks => 49% verschwendet\n",
    "- Datensatzfragment\n",
    "    - Falls zu einem Datensatz mehr als ein Fragment gehört, ist er spanned.\n",
    "- Zusätzliche Informationen im Header\n",
    "    - Bit sagt ob Fragment oder nicht\n",
    "    - Bits sagen ob erstes oder letztes Fragment\n",
    "    - Zeiger zum nächsten und/oder vorigen Fragment–Doppelt verkettet Liste"
   ]
  },
  {
   "cell_type": "markdown",
   "id": "feee4694",
   "metadata": {},
   "source": [
    "## BLOBs\n",
    "\n",
    "- BLOB = Binary Large Object\n",
    "- Bilder/Grafiken: JPEG, GIF\n",
    "- Audio: mp3, ..\n",
    "- Filme: MPEG, ...\n",
    "- Probleme\n",
    "    - Speicherung: Mehr als ein Block nötig–Sequenz von Blöcken/Zylindern\n",
    "    - Realtime: Lesegeschwindigkeit einer Disk nicht ausreichend => Verteilung auf mehrere Disks\n",
    "- Lesen \n",
    "    - Anweisung, einen (ganzen) Datensatz zu lesen, ist nicht mehr gültig\n",
    "    - Stattdessen: Kleiner Teil eines Datensatzes lesen\n",
    "    - Navigation innerhalb des BLOBs (z.B. „Sprung zur 45ten Minute“) => spezielle Indexstrukturen\n",
    "- CLOB = CharacterLarge Object"
   ]
  },
  {
   "cell_type": "markdown",
   "id": "d56d2e6e",
   "metadata": {},
   "source": [
    "# Datensatzänderungen"
   ]
  },
  {
   "cell_type": "markdown",
   "id": "ddd1f5fa",
   "metadata": {},
   "source": [
    "## Einfügen mit Platz\n",
    "\n",
    "- Einfacher Fall: Keine Ordnung verlangt\n",
    "     - Suche freien Platz auf einem Block (oder suche freien Block).\n",
    "     - Füge Datensatz ein.\n",
    "- Schwierigerer Fall: Ordnung (z.B. nach Primärschlüssel) ist verlangt.\n",
    "     - Suche entsprechenden Block\n",
    "     - Falls Platz frei ist, bewege Datensätze auf Block, so dass neuer Datensatz an entsprechende Stelle eingefügt werden kann."
   ]
  },
  {
   "cell_type": "markdown",
   "id": "68b05802",
   "metadata": {},
   "source": [
    "<img src=\"pictures/Einfügen-mit-Platz.png\" alt=\"Einfügen-mit-Platz\" width=\"500\" style=\"background-color: white;\"/>"
   ]
  },
  {
   "cell_type": "markdown",
   "id": "bbd647bf",
   "metadata": {},
   "source": [
    "## Einfügen ohne Platz\n",
    "\n",
    "- Variante 1: Suche Block in der Nähe\n",
    "    - Voriger oder nächste Block \n",
    "    - Bewege ersten oder letzen Datensatz zu jeweils neuem Block\n",
    "        - Weiterleitungsadresse in altem Block („Nachsendeauftrag“)\n",
    "        - Bewege gegebenenfalls Datensätze in beiden Blöcken hin und her.\n",
    "    - Füge neuen Datensatz ein.\n",
    "- Variante 2: Erzeuge Overflow Block\n",
    "    - Designierter Overflow Block\n",
    "    - Adresse im headerdes ursprünglichen Blocks\n",
    "    - Overflow Block kann selbst wiederum einen Overflow Block haben."
   ]
  },
  {
   "cell_type": "markdown",
   "id": "88f2b7f3",
   "metadata": {},
   "source": [
    "## Löschen\n",
    "\n",
    "- Nach Löschen \n",
    "    - Datensätze im Block verschieben um freien Platz zu konsolidieren\n",
    "    - Oder: Im headereine Liste mit freien Plätzen verwalten\n",
    "    - Oder: Verkette Liste der freien Plätze\n",
    "- Reorganisation der Overflow Blocks möglich.\n",
    "- Grabsteine (tombstones)\n",
    "    - Es könnte noch Pointerauf den zu löschenden Datensatz geben.\n",
    "    - Grabstein hinterlassen (3 Varianten)\n",
    "        - Null-Pointer im header\n",
    "        - Null-Pointer in mappingtable\n",
    "        - Grabstein am Anfang der Datensätze\n",
    "    - Müssen (im Allgemeinen) ewig erhalten bleiben\n",
    "        - Bis Re-Organisation der Datenbank"
   ]
  },
  {
   "cell_type": "markdown",
   "id": "385d6f20",
   "metadata": {},
   "source": [
    "<img src=\"pictures/Löschen-meme.png\" alt=\"Löschen-meme\" width=\"500\" style=\"background-color: white;\"/>"
   ]
  },
  {
   "cell_type": "markdown",
   "id": "314a8d80",
   "metadata": {},
   "source": [
    "## Update\n",
    "\n",
    "- Bei fester Länge kein Problem\n",
    "- Bei variabler Länge\n",
    "    - Gleiche Probleme wie beim Einfügen"
   ]
  },
  {
   "cell_type": "markdown",
   "id": "32631904",
   "metadata": {},
   "source": [
    "<img src=\"pictures/update.png\" alt=\"update\" width=\"500\" style=\"background-color: white;\"/>"
   ]
  }
 ],
 "metadata": {
  "kernelspec": {
   "display_name": "Python 3 (ipykernel)",
   "language": "python",
   "name": "python3"
  },
  "language_info": {
   "codemirror_mode": {
    "name": "ipython",
    "version": 3
   },
   "file_extension": ".py",
   "mimetype": "text/x-python",
   "name": "python",
   "nbconvert_exporter": "python",
   "pygments_lexer": "ipython3",
   "version": "3.8.10"
  }
 },
 "nbformat": 4,
 "nbformat_minor": 5
}