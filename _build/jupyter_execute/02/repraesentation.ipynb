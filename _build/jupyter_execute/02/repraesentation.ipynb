{
 "cells": [
  {
   "cell_type": "markdown",
   "id": "abb72bc7-62e7-420e-8231-d418be9019f0",
   "metadata": {},
   "source": [
    "# Repräsentation\n",
    "\n",
    "Bis hierhin haben wir nur auf einer sehr abstrakten Ebene besprochen, was für Daten wo liegen und wie diese Datenblöcke gelesen werden können. Womit wir uns noch nicht befasst haben, ist wo bestimmte Tupel und Blöcke liegen. Nach unserer intuitiven Vorstellung hoffen wir, dass alle Tupel einer Relation hintereinander im Speicher zu finden sind, das ist aber oftmals nicht der Fall. Nun muss ein Weg gefunden werden diese Tupel und Blöcke zu lesen ohne bei jeder Anfrage die gesamte Festplatte lesen zu müssen."
   ]
  },
  {
   "cell_type": "markdown",
   "id": "04c37b15",
   "metadata": {},
   "source": [
    "Architektur\n",
    "\n",
    "<img src=\"pictures/5-Schichten-Architektur.png\" alt=\"5-Schichten-Architektur\" width=\"500\" style=\"background-color: white;\"/>"
   ]
  },
  {
   "cell_type": "markdown",
   "id": "2b5a6f80",
   "metadata": {},
   "source": [
    "In diesem Kapitel befinden wir uns in der Systempufferschnittstelle. Hier geht es hauptsächlich um Seiten-/ und Blockverwaltung, Puffermanagment, sowie Cashing. Für uns ist die relevante Fragestellung, ob unsere gesuchten Tupel im Hauptspeicher sind oder nicht."
   ]
  },
  {
   "cell_type": "markdown",
   "id": "8333a2d5",
   "metadata": {},
   "source": [
    "## Aufbau\n",
    "\n",
    "Es gibt folgende Dateneinheiten:\n",
    "\n",
    "- **Attributwerte** sind Bytelisten oder auch \"Felder\" fester oder variabler Länge:\n",
    "- **Tupel** sind Feldlisten fester oder variabler Länge, auch genannt „Datensätze“\n",
    "- **Physische Blöcke** speichern Datensatzmengen/-listen\n",
    "- **Relation** sind Mengen von Blöcken und bilden eine „Datei“, dazu gehören auch Indexstrukturen, wenn z.B ein ```PRIMARY KEY``` vorhanden ist\n",
    "        "
   ]
  },
  {
   "cell_type": "markdown",
   "id": "42a52b70",
   "metadata": {},
   "source": [
    "## Felder etc.\n",
    "\n",
    "Die kleinste Dateneinheit sind Attributwerte, diese werden durch „Felder“ (fields) repräsentiert. Die Fragestellungen die in diesem Themenabschnitt thematisiert werden sind:\n",
    "\n",
    "- Wie werden Datentypen als Felder repräsentiert?\n",
    "- Wie werden Tupelals Datensätze repräsentiert?\n",
    "- Wie werden Mengen von Datensätzen oder Tupelnin Blöcken repräsentiert?\n",
    "- Wie werden Relationen als Mengen von Blöcken repräsentiert?\n",
    "- Was passiert bei variablen Feld-oder Tupellängen?\n",
    "- Was passiert wenn ich einen Block nicht einheitlich in Tupeleinteilen kann?\n",
    "- Was passiert wenn sich die Größe eines Datensatzes ändert, insbesondere vergrößert?\n",
    "    \n",
    "```\n",
    "CREATE TABLE Schauspieler (\n",
    "    Name CHAR(30),\n",
    "    Adresse VARCHAR(255),\n",
    "    Geschlecht CHAR(1),\n",
    "    Geburtstag DATE );\n",
    "```"
   ]
  },
  {
   "cell_type": "markdown",
   "id": "017c1ffc",
   "metadata": {},
   "source": [
    "<img src=\"pictures/Datenelemente-meme.png\" alt=\"Datenelemente-meme\" width=\"500\" style=\"background-color: white;\"/>"
   ]
  },
  {
   "cell_type": "markdown",
   "id": "035c5cff",
   "metadata": {},
   "source": [
    "## Datenelemente"
   ]
  },
  {
   "cell_type": "markdown",
   "id": "0a799571",
   "metadata": {},
   "source": [
    "### Datentypen\n",
    "Alle Daten werden letzendlich als Bitsequenzen dargestellt bzw. werden alle Daten irgendwann als Bytesequenzen dargestellt. Aus GDBS sollten die folgenden Datentypen bekannt sein:\n",
    "\n",
    "- **Integer** belegen im Speicher 2 oder 4 Byte \n",
    "- **Float** belegen im Speicher 4 oder 8 Byte \n",
    "- **Strings fester Länge(CHAR(n))**  sind Felder die feste n Bytes zur Verfügung haben. Die fehlenden Byte-Werte werden mit Nullwerten ($\\perp$)ge-padded. Beispiel:‚Katze‘ in CHAR(8) wäre also K a t z e $\\perp$$\\perp$$\\perp$\n",
    "- **Strings variabler Länge(VARCHAR(n))** werden mit n+1 Byte reserviert. Die Länge kann maximal 255 BYte sein, daher gibt es oft VARCHAR(255). Hier gibt es einmal die Variante, dass das erste Byte die Länge speichert, die weiteren die Attributwerte speichern und die fehlenden Bytes ignoriert werden. Beispiel: 5 K a t z e. Eine andere Variante ist, dass die ersten Bytes die Attributwerte speichern und hintendran ein null-Wert gespeichert wird. Beispiel: K a t z e $\\perp$."
   ]
  },
  {
   "cell_type": "markdown",
   "id": "21074c2d",
   "metadata": {},
   "source": [
    "<img src=\"pictures/Strings-meme.png\" alt=\"Strings-meme\" width=\"500\" style=\"background-color: white;\"/>"
   ]
  },
  {
   "cell_type": "markdown",
   "id": "367dbd22",
   "metadata": {},
   "source": [
    "## Datum / Bit / Boolean\n",
    "\n",
    "**DATE, TIME** werden i.d.R. als String fester Länge repräsentiert. Ein Problem ist jedoch, dass die Zeit mit Bruchteilen von Sekunden gespeichert werden kann (theoretisch beliebig genau). Eine Lösung ist die Speicherung als String fester Länge mit maximaler Genauigkeit eine andere ist die Speicherung als String variabler Länge.\n",
    "        \n",
    "**BIT(n)** ermöglichen das Arbeiten mit sehr detaillierten Bits, das ist praktisch wenn z.B Hashwerte gespeichert werden sollen. Es gelten 8 Bits pro Byte, falls n nicht durch 8 teilbar ist werden die letzten Bits ignoriert. Beispiel: BIT(12): 010111110011 wird zu 01011111, 00110000.\n",
    "\n",
    "    \n",
    "**BOOLEAN** setzt sich aus 8 Bits zusammen: Entweder 00000001 und 00000000 oder 11111111 und 00000000."
   ]
  },
  {
   "cell_type": "markdown",
   "id": "5b2b1b17",
   "metadata": {},
   "source": [
    "## Datensätze\n",
    "\n",
    "Mithilfe den thematisierten Datentypen, lassen sich nun Datensätze zusammenstellen.\n"
   ]
  },
  {
   "cell_type": "markdown",
   "id": "e17cb0fb",
   "metadata": {},
   "source": [
    "### Datensätze fester Länge\n",
    "\n",
    "Jeder Datensatz hat ein Schema bestehend aus Namen und Datentypen der Felder, sowie Offset im Datensatz (Anmerkung: JEDER Datensatz!–Realisiert i.d.R. als Pointer auf das Schema). Betrachten wir das untere Schema für ein Relation Schauspieler, auf relationaler Ebene gibt es vier Attribute, die als Zeichenketten gespeichert werden. Eine sehr einfache Variante um die Größen der Tupel zu berechnen ist immer das Maximum zu wählen.\n",
    "<br><br>\n",
    "Wir nehmen an alle haben eine feste Länge: 30 Byte + 256 Byte + 1 Byte + 10 Byte = 297 Byte. Somit ist jeder Datensatz gleich groß. Es ist möglich, dass ein Datensatz nicht komplett belegt ist, dann wird dieser Speicher trotzdem besetzt.\n",
    "    \n",
    "```\n",
    "CREATE TABLE Schauspieler (\n",
    "    Name CHAR(30),\n",
    "    Adresse VARCHAR(255),\n",
    "    Geschlecht CHAR(1),\n",
    "    Geburtstag DATE );\n",
    "```\n",
    "\n"
   ]
  },
  {
   "cell_type": "markdown",
   "id": "498f1a0a",
   "metadata": {},
   "source": [
    "### Versatz zur Effizienz\n",
    "\n",
    "In der Realität gibt es je nach System noch zusätzliche Anforderungen, wie z.B das Felder am besten bei Hauptspeicheradressen beginnen, die ein Vielfaches von 4 (bzw. 8) sind. Manchmal ist das sogar Pflicht. Dementsprechend müssen die Felder versetzt werden. Für die Festplatte ist das eigentlich egal, aber der eingelesene Datensatz landet auf einem Speicherplatz mit entsprechender Adresse: Vielfaches von 4 oder Vielfaches von 2n. Entsprechend versetzt sind die anderen Felder auch. Im unteren Beispielbild sehen wir zuerst das Feld ohne Versatz und dann mit einem Versatz von zwei."
   ]
  },
  {
   "cell_type": "markdown",
   "id": "593291cf",
   "metadata": {},
   "source": [
    "<img src=\"pictures/Versatz-zur-Effizienz.png\" alt=\"Versatz-zur-Effizienz\" width=\"500\" style=\"background-color: white;\"/>"
   ]
  },
  {
   "cell_type": "markdown",
   "id": "7af2c550",
   "metadata": {},
   "source": [
    "## Speicherung der Metadaten\n",
    "\n",
    "Die Metadaten eines Datensatzes,sind z.B. das Schema bzw. Pointer auf ein Schema, Länge des Datensatzes oder Timestamp der letzten Änderung bzw. des letzten Lesens. Diese werden als Header vor dem Datensatz gespeichert. In dem Bild unten reichen 12 Bytes an Speicher für die Metadaten."
   ]
  },
  {
   "cell_type": "markdown",
   "id": "fdb33662",
   "metadata": {},
   "source": [
    "<img src=\"pictures/Speicherung_Metadaten.png\" alt=\"Speicherung_Metadaten\" width=\"500\" style=\"background-color: white;\"/>"
   ]
  },
  {
   "cell_type": "markdown",
   "id": "17e41ed6",
   "metadata": {},
   "source": [
    "### Aufteilung in Blöcke\n",
    "Um die Datensätze in Blöcke aufzuteilen kann ein Block header benutzt werden, dieser besteht aus:\n",
    "- Links auf andere Blocks (z.B. Index)\n",
    "- Rolle dieses Blocks (im Index)\n",
    "- Relation der Tupel\n",
    "- Verzeichnis der offsetsder Datensätze\n",
    "- Block ID (gleich)\n",
    "- Timestampder letzten Änderung / des letzten Lesens\n",
    "\n",
    "Im einfachsten Fall sind alle Datensätze aus der gleichen Relation und haben alle eine feste Länge.\n",
    "<br><br>\n",
    "Beispiel: Ein Datensatz besteht aus 316 Byte und ein Block aus 4096 Byte,wobei 12 Bytes für je einen Header benötigt werden. Durch Division ergeben sich 12 Datensätze und 292 verlorene Bytes.\n",
    "\n",
    "<br><br>\n",
    "Dies gilt nur für Datensätze mit fester Länge, die nicht über mehrere Blöcke verteilt sind."
   ]
  },
  {
   "cell_type": "markdown",
   "id": "20235bf7",
   "metadata": {},
   "source": [
    "<img src=\"pictures/Aufteilung_in_Blöcke.png\" alt=\"Aufteilung_in_Blöcke\" width=\"500\" style=\"background-color: white;\"/>"
   ]
  },
  {
   "cell_type": "markdown",
   "id": "d77d9393",
   "metadata": {},
   "source": [
    "## Adressierung"
   ]
  },
  {
   "cell_type": "markdown",
   "id": "2a3e0681",
   "metadata": {},
   "source": [
    "Die Adressierung findet zuerst im Hauptspeicher statt, hier wird die Adresse zuerst angefragt, welche auf die Adresse auf der Festplatte abgebildet wird. Bei einem Block im Hauptspeicher befindet sich die Block-Adresse im virtuellen Adressraum, diese Adresse zeigt auf das erste Byte des Blocks. Wenn ein konkreter Datensatz gesucht wir gibt es zusätzlich es noch eine Datensatz-Adresse, die zeigt auf das erste Byte des Datensatzes.\n",
    "Der Block auf der Festplatte ist unser Speicherort. Der genaue Speicherort im ganzen System wird bestimmt wird bestimmt durch die DBMS–Disk ID, Zylinder#(falls HDD vorhanden), Spur#, Sektor, usw.. Unser gefundene Datensatz ist dann der Block und der Offset des ersten Bytes."
   ]
  },
  {
   "cell_type": "markdown",
   "id": "10cd1bf3",
   "metadata": {},
   "source": [
    "### Adressraum des Servers\n",
    "Es gibt zwei Möglichkeiten um den Adressraum für die Spezifizierung des Blocks zu benutzen:\n",
    "\n",
    "- Variante 1: Es werden nur **Physische Adressen** im Hauptspeicher angegeben, bestehend aus folgenden Informationen:\n",
    "    - Rechner ID\n",
    "    - Disk ID 8-16 Byte\n",
    "    - Zylinder# 8-16 Byte\n",
    "    - Spur# (bei mehr als einer Oberfläche)\n",
    "    - Sektor#\n",
    "    - (Offset innerhalb des Blocks)\n",
    "  \n",
    "- Variante 2: Es werden nur **Logische Adressen** im Hauptspeicher angegeben, welche mit einer Mapping Table in eine physische Adresse übersetzt werden. Eine logische Adresse besteht aus einem beliebigen Byte String. Diese Abstraktion ermöglicht es auch auf Adressen zu verweisen die nicht der physischen Architektur aus Variante 1 entsprechen.\n",
    "\n",
    "\n"
   ]
  },
  {
   "cell_type": "markdown",
   "id": "1088fc24",
   "metadata": {},
   "source": [
    "### Logische Adressen\n",
    "Durch die Indirektion der logischen Adressen, ist die Umorganisation von Daten–Änderungen flexibler, da sie nur auf der Mappingtable stattfindet. Eine logische Adresse bleibt zudem gleich, unabhängig davon ob es sich um eine HDD oder SDD handelt. Eine Hybride Adressierung ist auch möglich, indem es eine physische Adresse für einen Block und eine logische Adresse für einen Datensatz in dem Block, z.B. ein Schlüsselwert gibt."
   ]
  },
  {
   "cell_type": "markdown",
   "id": "0819ba96",
   "metadata": {},
   "source": [
    "<img src=\"pictures/Logische-Adressen.png\" alt=\"Logische-Adressen\" width=\"500\" style=\"background-color: white;\"/>"
   ]
  },
  {
   "cell_type": "markdown",
   "id": "e37f8670",
   "metadata": {},
   "source": [
    "### Hybride Adressierung\n",
    "\n",
    "Die Idee bei der hybriden Adressierung ist, dass wir zunächst durch physische Adressen zu einem Block gelangen. Der Block selbst speichert die Offsettable. Das Problem welches hierbei auftreten kann, ist dass Datensätze entfernt und hinzugefügt werden und es zu Fragmentierung kommt. Um dagegen zu wirken, werden Blocksbei Datensätzen variabler Länge von hinten aufgefüllt. Da die Anzahl der Datensätze nicht fix ist, kann die Größe des Headersoffen gelassen werden. Vorteile der Flexibilität (auch ohne Mapping table) sind, dass innerhalb eines Blocks umorganisiert werden kann. Und ein Datensatz sogar Blöke wechseln kann, folglich wird die neue Adresse in der Offsettable gespeichert."
   ]
  },
  {
   "cell_type": "markdown",
   "id": "681f379f",
   "metadata": {},
   "source": [
    "<img src=\"pictures/Hybride-Adressierung.png\" alt=\"Hybride-Adressierung\" width=\"500\" style=\"background-color: white;\"/>"
   ]
  },
  {
   "cell_type": "markdown",
   "id": "bfbd705a",
   "metadata": {},
   "source": [
    "### Columnar Storage\n",
    "\n",
    "Bei Columnar Storages ist die Idee, dass die Datensätze Spalten speichern statt Tupel, diese überspannen i.d.R mehrere Blöcke. Die Reihenfolge der Attributwerterte erlaubt die Tupelrekonstruktion alternativ können Tupel-Id's mitgespeichert werden.\n",
    "<br><br>\n",
    "Beispiel: Es sind 2 Datensätze (4,7,9) und (a,b,c) gegeben. In Columnar Storages würden die Attributwerte hintereinander gespeichert werden, also zuerst 4 dann a usw.\n",
    "<br><br>\n",
    "Ein Anwendungsfall ist OLAP (Online analyticalprocessing). Hierbei benötigen die meisten Anfragen alle oder viele Werte einer Spalte und die Tupelrekonstruktion ist aufwändig.Was die Komprimierung angeht sind ein Vorteil die geringeren Disk- und I/O-Kosten. Ein Nachteil ist, dass Columnar Storages nur gut auf großen Datenmengen funktionieren, aber effizienter Tupelzugriff erlaubt nur blockweise Komprimierung. Letztlich ist die Indizierung auch schwieriger."
   ]
  },
  {
   "cell_type": "markdown",
   "id": "da13bcba",
   "metadata": {},
   "source": [
    "## Daten variabler Länge"
   ]
  },
  {
   "cell_type": "markdown",
   "id": "c9982aae",
   "metadata": {},
   "source": [
    "### Variable Länge\n",
    "\n",
    "- Bisher: Alles hat feste Länge.\n",
    "- Aber es gibt:\n",
    "    - Felder variabler Länge\n",
    "        - Adresse VARCHAR(255) wird selten voll ausgeschöpft\n",
    "    - Datensätze variabler Länge\n",
    "        - Ergänzung von Datensätzen um Felder\n",
    "        - Schauspieler, die auch Regie führen\n",
    "     - Riesige Felder\n",
    "        - GIF, MPEG–Passen nicht mehr auf einen Block"
   ]
  },
  {
   "cell_type": "markdown",
   "id": "7bf5dab5",
   "metadata": {},
   "source": [
    "### Finden von Feldern\n",
    "\n",
    "- Datensatz muss Informationen speichern, um jedes Feld aufzufinden.\n",
    "- Idee: Felder fester Länge an den Anfang des Datensatzes\n",
    "- Header speichert\n",
    "    - Länge des Datensatzes\n",
    "    - Pointer (offsets) zu den Anfängen aller Felder variabler Länge\n",
    "        - Pointer zum ersten kann sogar gespart werden."
   ]
  },
  {
   "cell_type": "markdown",
   "id": "ebad95e2",
   "metadata": {},
   "source": [
    "<img src=\"pictures/Finden-von-Fehlern.png\" alt=\"Finden-von-Fehlern\" width=\"500\" style=\"background-color: white;\"/>"
   ]
  },
  {
   "cell_type": "markdown",
   "id": "37f155e5",
   "metadata": {},
   "source": [
    "### Datensätze variabler Länge\n",
    "\n",
    "- Anwendungsfall: Es ist unbekannt welche undwie viele Felder der Datensatz haben wird.\n",
    "- Taggedfields(getaggteFelder)\n",
    "    - Feldname (Attributname)\n",
    "    - Feldtyp\n",
    "    - Feldlänge\n",
    "    - Feldwert\n",
    "- Nützlich bei\n",
    "    - Informationsintegration: Es ist noch unbekannt welche Felder von Quellen hinzukommen.\n",
    "    - Dünn besetzte Datensätze: Tausende Attribute, nur wenige haben Werte"
   ]
  },
  {
   "cell_type": "markdown",
   "id": "976509ce",
   "metadata": {},
   "source": [
    "<img src=\"pictures/Datensätze-variabler-Länge.png\" alt=\"Datensätze-variabler-Länge\" width=\"500\" style=\"background-color: white;\"/>"
   ]
  },
  {
   "cell_type": "markdown",
   "id": "af778c36",
   "metadata": {},
   "source": [
    "### Anwendungsfalls SparseDataBeispiel: LinkedOpen Data"
   ]
  },
  {
   "cell_type": "markdown",
   "id": "cd3bf28f",
   "metadata": {},
   "source": [
    "<img src=\"pictures/Linked-open-data.png\" alt=\"Linked-open-data\" width=\"500\" style=\"background-color: white;\"/>"
   ]
  },
  {
   "cell_type": "markdown",
   "id": "a083fc2b",
   "metadata": {},
   "source": [
    "### Microsoft SQL Server: SPARSE columns\n",
    "\n",
    "```\n",
    "CREATE TABLE DocumentStore(\n",
    "    DocIDintPRIMARY KEY,\n",
    "    Title varchar(200) NOT NULL,\n",
    "    ProdSpecvarchar(20) SPARSE NULL,\n",
    "    ProdLocsmallintSPARSE NULL)\n",
    "```\n",
    "\n",
    "- Betrifft nur physische Ebene (wie Indizes)\n",
    "- Benötigt für nicht-NULL Werte mehr Platz"
   ]
  },
  {
   "cell_type": "markdown",
   "id": "9fa935b0",
   "metadata": {},
   "source": [
    "<img src=\"pictures/SPARSE-columns.png\" alt=\"SPARSE-columns\" width=\"500\" style=\"background-color: white;\"/>"
   ]
  },
  {
   "cell_type": "markdown",
   "id": "a9ed3138",
   "metadata": {},
   "source": [
    "### Zu große Datensätze\n",
    "\n",
    "- Idee: Spannedrecordsüberspannen mehr als einen Block.\n",
    "- Für übergroße Felder\n",
    "    - „Riesige“ Felder (Mega-oder Gigabyte) gleich\n",
    "- Für Datensatzgrößen, die viel Platz verschwenden\n",
    "    - Z.B. 51% eines Blocks => 49% verschwendet\n",
    "- Datensatzfragment\n",
    "    - Falls zu einem Datensatz mehr als ein Fragment gehört, ist er spanned.\n",
    "- Zusätzliche Informationen im Header\n",
    "    - Bit sagt ob Fragment oder nicht\n",
    "    - Bits sagen ob erstes oder letztes Fragment\n",
    "    - Zeiger zum nächsten und/oder vorigen Fragment–Doppelt verkettet Liste"
   ]
  },
  {
   "cell_type": "markdown",
   "id": "feee4694",
   "metadata": {},
   "source": [
    "### BLOBs\n",
    "\n",
    "- BLOB = Binary Large Object\n",
    "- Bilder/Grafiken: JPEG, GIF\n",
    "- Audio: mp3, ..\n",
    "- Filme: MPEG, ...\n",
    "- Probleme\n",
    "    - Speicherung: Mehr als ein Block nötig–Sequenz von Blöcken/Zylindern\n",
    "    - Realtime: Lesegeschwindigkeit einer Disk nicht ausreichend => Verteilung auf mehrere Disks\n",
    "- Lesen \n",
    "    - Anweisung, einen (ganzen) Datensatz zu lesen, ist nicht mehr gültig\n",
    "    - Stattdessen: Kleiner Teil eines Datensatzes lesen\n",
    "    - Navigation innerhalb des BLOBs (z.B. „Sprung zur 45ten Minute“) => spezielle Indexstrukturen\n",
    "- CLOB = CharacterLarge Object"
   ]
  },
  {
   "cell_type": "markdown",
   "id": "d56d2e6e",
   "metadata": {},
   "source": [
    "## Datensatzänderungen"
   ]
  },
  {
   "cell_type": "markdown",
   "id": "ddd1f5fa",
   "metadata": {},
   "source": [
    "### Einfügen mit Platz\n",
    "\n",
    "- Einfacher Fall: Keine Ordnung verlangt\n",
    "     - Suche freien Platz auf einem Block (oder suche freien Block).\n",
    "     - Füge Datensatz ein.\n",
    "- Schwierigerer Fall: Ordnung (z.B. nach Primärschlüssel) ist verlangt.\n",
    "     - Suche entsprechenden Block\n",
    "     - Falls Platz frei ist, bewege Datensätze auf Block, so dass neuer Datensatz an entsprechende Stelle eingefügt werden kann."
   ]
  },
  {
   "cell_type": "markdown",
   "id": "68b05802",
   "metadata": {},
   "source": [
    "<img src=\"pictures/Einfügen-mit-Platz.png\" alt=\"Einfügen-mit-Platz\" width=\"500\" style=\"background-color: white;\"/>"
   ]
  },
  {
   "cell_type": "markdown",
   "id": "bbd647bf",
   "metadata": {},
   "source": [
    "### Einfügen ohne Platz\n",
    "\n",
    "- Variante 1: Suche Block in der Nähe\n",
    "    - Voriger oder nächste Block \n",
    "    - Bewege ersten oder letzen Datensatz zu jeweils neuem Block\n",
    "        - Weiterleitungsadresse in altem Block („Nachsendeauftrag“)\n",
    "        - Bewege gegebenenfalls Datensätze in beiden Blöcken hin und her.\n",
    "    - Füge neuen Datensatz ein.\n",
    "- Variante 2: Erzeuge Overflow Block\n",
    "    - Designierter Overflow Block\n",
    "    - Adresse im headerdes ursprünglichen Blocks\n",
    "    - Overflow Block kann selbst wiederum einen Overflow Block haben."
   ]
  },
  {
   "cell_type": "markdown",
   "id": "88f2b7f3",
   "metadata": {},
   "source": [
    "### Löschen\n",
    "\n",
    "- Nach Löschen \n",
    "    - Datensätze im Block verschieben um freien Platz zu konsolidieren\n",
    "    - Oder: Im headereine Liste mit freien Plätzen verwalten\n",
    "    - Oder: Verkette Liste der freien Plätze\n",
    "- Reorganisation der Overflow Blocks möglich.\n",
    "- Grabsteine (tombstones)\n",
    "    - Es könnte noch Pointerauf den zu löschenden Datensatz geben.\n",
    "    - Grabstein hinterlassen (3 Varianten)\n",
    "        - Null-Pointer im header\n",
    "        - Null-Pointer in mappingtable\n",
    "        - Grabstein am Anfang der Datensätze\n",
    "    - Müssen (im Allgemeinen) ewig erhalten bleiben\n",
    "        - Bis Re-Organisation der Datenbank"
   ]
  },
  {
   "cell_type": "markdown",
   "id": "385d6f20",
   "metadata": {},
   "source": [
    "<img src=\"pictures/Löschen-meme.png\" alt=\"Löschen-meme\" width=\"500\" style=\"background-color: white;\"/>"
   ]
  },
  {
   "cell_type": "markdown",
   "id": "314a8d80",
   "metadata": {},
   "source": [
    "### Update\n",
    "\n",
    "- Bei fester Länge kein Problem\n",
    "- Bei variabler Länge\n",
    "    - Gleiche Probleme wie beim Einfügen"
   ]
  },
  {
   "cell_type": "markdown",
   "id": "32631904",
   "metadata": {},
   "source": [
    "<img src=\"pictures/update.png\" alt=\"update\" width=\"500\" style=\"background-color: white;\"/>"
   ]
  }
 ],
 "metadata": {
  "kernelspec": {
   "display_name": "Python 3 (ipykernel)",
   "language": "python",
   "name": "python3"
  },
  "language_info": {
   "codemirror_mode": {
    "name": "ipython",
    "version": 3
   },
   "file_extension": ".py",
   "mimetype": "text/x-python",
   "name": "python",
   "nbconvert_exporter": "python",
   "pygments_lexer": "ipython3",
   "version": "3.11.0"
  }
 },
 "nbformat": 4,
 "nbformat_minor": 5
}