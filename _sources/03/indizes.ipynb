{
 "cells": [
  {
   "cell_type": "markdown",
   "id": "892172bf",
   "metadata": {},
   "source": [
    "# Indizes\n",
    "\n",
    "Im vorherigen Kapitel wurde schon erwähnt, dass der Zugriff auf Daten durch Indizes beschleunigt werden kann. Nach einem naiven Ansatz, wo die Datensätze beliebig verteilt sind, muss jeder Block untersucht werden, wenn wir die Anfrage ```SELECT * FROM R``` ausführen. Eine Verbesserung davon wäre, die Tupel einer Relation zusammenhängend zu speichern. Wenn wir die Anfrage ```SELECT * FROM R WHERE a=10``` ausführen wollen, müssen jedoch alle Datensätze betrachtet werden.\n",
    "<br><br>\n",
    "Noch besser im Gegensatz dazu ist die Benutzung von **Indizes**. Es werden Eigenschaften von Datensätzen, wie z.B „Suchschlüssel“ (nicht zu verwechseln mit Primärschlüssel, Sekundärschlüssel, Sortierschlüssel) festgelegt. Der Suchschlüssel ist der Wert, nach welchem gesucht werden soll. Das Ziel ist unter anderem, I/O-Kosten zu minimieren und möglichst wenige Datensätze zu betrachten. Durch richtiges Verwenden von Indizes kommt es zu einem schnelleren Output der entsprechenden Tupel."
   ]
  },
  {
   "cell_type": "markdown",
   "id": "c78ba14d-0be8-4679-a1b4-ce32b7605d98",
   "metadata": {},
   "source": [
    "```{figure} pictures/Überblick-meme.png\n",
    ":name: Überblick-Meme\n",
    "\n",
    "Slow Database-Index Meme\n",
    "```"
   ]
  },
  {
   "cell_type": "markdown",
   "id": "7adcd7f5",
   "metadata": {},
   "source": [
    "## Indizes auf sequenziellen Dateien\n",
    "### Einfachste Form eines Index\n",
    "Je nachdem wie die Tupel organisiert sind, gibt es verschiedene Varianten Indizes anzulegen. Die einfachste Form davon ist, wenn eine nach unserem Suchschlüssel sortierte Datei gegeben ist. Dazu gibt es eine Indexdatei, welche  Schlüssel-Pointer Paare enthält. Jeder Schlüsselwert K ist mit einem Pointer verbunden, welcher auf den Datensatz zeigt, der den Schlüsselwert K enthält. Davon gibt es zwei Varianten, einmal den dichtbestzten und einmal den dünnbesetzten Index. Im dichtbesetzten Index gibt es für jeden Datensatz einen Eintrag im Index. Im dünnbesetzten Index, werden nur einige Datensätze im Index repräsentiert, z.B ein Eintrag pro Block."
   ]
  },
  {
   "cell_type": "markdown",
   "id": "d9de9863",
   "metadata": {},
   "source": [
    "**Sequenzielle Dateien: Index Beispiel**\n",
    "<br>\n",
    "In der folgenden Abbildung sind sequenzielle Daten dargestellt. Es werden jeweils zwei Tupel pro Block gespeichert und es werden insgesamt 5 Blöcke, für unsere 10 Tupel benötigt. In unserem Beispiel ist der Schlüssel eine Zahl. Häufig ist der Suchschlüssel auch der Primärschlüssel. Das Schlüsselfeld steht einfachheitshalber an erster Stelle. Um beispielsweise den Wert 70 zu finden, müssen 4 Blöcke gelesen werden. Im Folgenden sehen wir, wie das mit Indizes verbessert werden kann."
   ]
  },
  {
   "cell_type": "markdown",
   "id": "bb93c26c-37ee-42ea-abd0-3007654d2743",
   "metadata": {},
   "source": [
    "```{figure} pictures/Sequentielle-Dateien.png\n",
    ":name: Sequentielle-Dateien\n",
    "\n",
    "Sequentielle Dateien\n",
    "```"
   ]
  },
  {
   "cell_type": "markdown",
   "id": "99135841",
   "metadata": {},
   "source": [
    "### Dichtbesetzte Indizes\n",
    "\n",
    "Ein dichtbesetzter Index bildet sich aus einer Blocksequenz mit Schlüssel-Pointer Paaren. Jeder Schlüssel der Daten ist durch ein Paar repräsentiert. Die Datenmenge ist aber wesentlich kleiner, da im Index nur auf bestimmte Attribute gezeigt wird. Daher passt der Index womöglich in den Hauptspeicher und braucht nur einen I/O pro Zugriff. Die Sortierung der Paare entspricht der Sortierung der Daten.\n",
    "\n",
    "**Anfragebearbeitung mit dichtbesetzten Indizes**\n",
    "\n",
    "Es ist ein Suchschlüssel $K$ gegeben. Die Indexdatei wird nach $K$ durchsucht und es wird dem zugehörigen Pointer gefolgt. Der Block wird dann aus der Datendatei geladen. Wenn die Indexdatei nur wenige Blöcke hat, befindet sie sich schon im Hauptspeicher. Andernfalls wird die binäre Suche angewendet um $K$ zu finden.\n",
    "\n",
    "     \n",
    "**Beispiel**: Wir haben 1.000.000 Tupel gegeben. Ein Block speichert $4096 Byte = 10 Tupel$. Die Gesamtgröße beträgt demnach 400 MB. Zusätzlich belegt ein Schlüsselfeld je 30 Byte und ein Pointer 8 Byte, d.h. wir haben 100 Paare pro Block. Für einen dichtbesetzten Index sind 10.000 Blöcke notwendig, das sind 40 MB (vielleicht OK im Hauptspeicher).\n",
    "Bei der binären Suche werden 13-14 Blocks pro Suche betrachtet $(log2(10.000) ≈ 13)$. Es reicht wenn die wichtigsten Blöcke im Hauptspeicher sind."
   ]
  },
  {
   "cell_type": "markdown",
   "id": "3a06f4bd-ab68-40ae-8b98-2d38bb4ed8dc",
   "metadata": {},
   "source": [
    "```{figure} pictures/Dichtbesetzte-Indizes.png\n",
    ":name: Dichtbesetzte-Indizes\n",
    "\n",
    "Dichtbesetzte Indizes\n",
    "```"
   ]
  },
  {
   "cell_type": "markdown",
   "id": "439f2275",
   "metadata": {},
   "source": [
    "### Dünnbesetzte Indizes\n",
    "Da wir eine sortierte Liste gegeben haben, kann auch ein dünnbesetzter Index eingesetzt werden. Hierbei ist der Schlüsselwert der kleinste Wert des referenzierten Blocks und es gibt nur einen Pointer pro Block. Der Vorteil ist weniger Speicherbedarf, jedoch erhöht sich der Suchaufwand. \n",
    "\n",
    "**Beispiel**:\n",
    "Wir haben 1.000.000 Tupel gegeben. Ein Block speichert 4096 Byte = 10 Tupel. Die Gesamtgröße beträgt demnach 400 MB. Zusätzlich belegt ein Schlüsselfeld je 30 Byte und ein Pointer 8 Byte, d.h. wir haben 100 Paare pro Block. Nun gibt es 100.000 Datenblöcke und 100 Indexpaare pro Block. Demnach sind für einen dünnbesetzten Index 1.000 Blocks = 4MB notwendig, welches erheblich weniger als 400MB ist.\n",
    "     \n",
    "#### Anfragebearbeitung mit dünnbesetzten Indizes\n",
    "\n",
    "1. Suche im Index größten Schlüssel, der gleich/kleiner als Suchschlüssel ist (leicht modifizierte binäre Suche)\n",
    "2. Hole assoziierten Datenblock\n",
    "3. Durchsuche Block nach Datensatz\n",
    "\n",
    "\n",
    "**Was kann ein dünnbesetzter Index nicht?**\n",
    "<br>\n",
    "Mit ausschließlich einem dünnbesetzten Index kann nicht überprüft werden, ob ein bestimmter Wert vorhanden ist oder nicht. <br>\n",
    "**Beispiel:** ```SELECT 'TRUE' FROM R WHERE a=10```. <br>\n",
    "Mit einem dichtbesetzten Index ist das möglich. Gleiches gilt für einen Semi-Join.\n"
   ]
  },
  {
   "cell_type": "markdown",
   "id": "fb6183cf-214d-4c95-bb93-2130fd574960",
   "metadata": {},
   "source": [
    "```{figure} pictures/Dünnbesetzte-Indizes.png\n",
    ":name: Dünnbesetzte-Indizes\n",
    "\n",
    "Dünnbesetzte Indizes\n",
    "```"
   ]
  },
  {
   "cell_type": "markdown",
   "id": "1fad08d9-2c54-4ca2-b2ea-79ab526409ef",
   "metadata": {},
   "source": [
    "```{figure} pictures/Mehrstufiger-Index-meme1.png\n",
    ":name: Mehrstufiger-Index-meme1\n",
    "\n",
    "Mehrstufiger Index Meme 1\n",
    "```"
   ]
  },
  {
   "cell_type": "markdown",
   "id": "83e99bf7-090e-42ad-8e04-a00aa86d992f",
   "metadata": {},
   "source": [
    "```{figure} pictures/Mehrstufiger-Index-meme2.png\n",
    ":name: Mehrstufiger-Index-meme2\n",
    "\n",
    "Mehrstufiger Index Meme 2\n",
    "```"
   ]
  },
  {
   "cell_type": "markdown",
   "id": "93ee6c95",
   "metadata": {},
   "source": [
    "### Mehrstufiger Index\n",
    "Auch ein Index kann unangenehm groß sein, z.B GB groß oder sogar größer als die Datensätze selbst. Das nimmt viel Speicher ein und kostet viel I/O, auch bei binärer Suche. In diesem Fall lohnt es sich die Indexdatei auch zu indexieren. Der zweite Index macht nur als dünnbesetzten Index Sinn. Theoretisch sind auch dritte, vierte, … Ebenen möglich, in diesen Fällen ist ein B-Baum besser geeignet (dazu später).\n",
    "    \n",
    "**Mehrstufiger Index Beispiel**\n",
    "\n",
    "Wir haben 1.000.000 Tupel gegeben. Ein Block speichert 4096 Byte = 10 Tupel. Die Gesamtgröße beträgt demnach 400 MB. Zusätzlich belegt ein Schlüsselfeld je 30 Byte und ein Pointer 8 Byte, d.h. wir haben 100 Paare pro Block. Nun gibt es 100.000 Datenblöcke und 100 Indexpaare pro Block. Für den Index erster Stufe sind 1.000 Blöcke = 4MB und für den Index zweiter Stufe = 40KB nötig. Der Index kann daher mit Sicherheit im Hauptspeicher verbleiben.\n",
    "\n",
    "**Vorgehen zur Anfragebearbeitung**\n",
    "1. Suche im Index zweiter Stufe den größten Schlüssel, der kleiner/gleich als Suchschlüssel ist.\n",
    "2. Hole entsprechenden Block im Index erster Stufe (eventuell schon im Hauptspeicher)\n",
    "3. Suche in dem Block den größten Schlüssel, der kleiner/gleich als Suchschlüssel ist.\n",
    "4. Hole den entsprechenden Datenblock.\n",
    "5. Suche den Datensatz (falls Index erster Stufe dünnbesetzt ist).\n",
    "<br><br>\n",
    "\n",
    "=> Für das Beispiel oben sind zusammen nur 2 I/Os nötig"
   ]
  },
  {
   "cell_type": "markdown",
   "id": "b6ae8d40-49f9-43f8-9166-a630fb73db44",
   "metadata": {},
   "source": [
    "```{figure} pictures/Mehrstufiger-Index.png\n",
    ":name: Mehrstufiger-Index\n",
    "\n",
    "Mehrstufiger Index\n",
    "```"
   ]
  },
  {
   "cell_type": "markdown",
   "id": "8d9f3866",
   "metadata": {},
   "source": [
    "### Indizes für Nicht-eindeutige Suchschlüssel\n",
    "\n",
    "Bisher haben wir angenommen, dass unser Suchschlüssel auch ein Schlüssel ist bzw. nur maximal einmal in unserer Relation vorkommt. Jetzt betrachten wir die Indexwahl, wenn der Suchschlüssel nicht eindeutig ist. Wir nehmen weiterhin an, dass die Relation nach unserem Suchschlüssel sortiert ist.\n",
    "<br><br>\n",
    "**Idee 1: Dichtbesetzter Index** \n",
    "<br>\n",
    "Es gibt ein Paar im Index für jeden Datensatz. Die Anfragebearbeitung verläuft wie folgt:\n",
    "- Suche erstes Paar mit $K$. \n",
    "- Wähle alle weiteren mit $K$ (direkt dahinter) \n",
    "- Hole entsprechende Datensätze. \n",
    "\n",
    "**Idee 2: Nur ein Indexpaar pro eindeutigem Schlüsselwert K**\n",
    "<br>\n",
    "Der Index zeigt auf den ersten Datensatz mit $K$. Alle weiteren Datensätze mit $K$ folgen direkt. Wichtig zu beachten ist hier, dass die Blöcke Pointer auf den jeweils nächsten Block haben."
   ]
  },
  {
   "cell_type": "markdown",
   "id": "5b585525",
   "metadata": {},
   "source": [
    "```{figure} pictures/Indizes-Nicht_eindeutige-Suchschlüssel.png\n",
    ":name: Indizes-Nicht_eindeutige-Suchschlüssel\n",
    "\n",
    "Indizes - Nicht eindeutige Suchschlüssel\n",
    "```  "
   ]
  },
  {
   "cell_type": "markdown",
   "id": "9d186268",
   "metadata": {},
   "source": [
    "**Idee 3: Dünnbesetzter Index wie gehabt**\n",
    "<br>\n",
    "Der Datenwert wird jeweils am Blockanfang des Datensatzes indexiert.\n",
    "Die Anfragebearbeitung ist wie folgt:\n",
    " - Suche letzten Eintrag $E_1$ im Index, dessen Datenwert ≤ $K$\n",
    " - Suche von dort im Index nach vorn bis zu einem Eintrag $E_2$ mit Datenwert < $K$\n",
    " - Hole alle Datenblöcke zwischen und inklusive $E_1$ und $E_2$.\n",
    " \n",
    "**Beispiel**: Wir suchen $K = 20$. Zuerst muss im \"10er-Block\" gesucht werden, da womöglich auch in diesem Block eine 20 ist. Eine Rückwärtssuche ist nötig."
   ]
  },
  {
   "cell_type": "markdown",
   "id": "8e8880e4",
   "metadata": {},
   "source": [
    "```{figure} pictures/Indizes-Nicht_eindeutige-Suchschlüssel_2.png\n",
    ":name: Indizes-Nicht_eindeutige-Suchschlüssel_2\n",
    "\n",
    "Indizes - Nicht eindeutige Suchschlüssel 2\n",
    "```  "
   ]
  },
  {
   "cell_type": "markdown",
   "id": "9f4f4ed4",
   "metadata": {},
   "source": [
    "**Idee 4: Dünnbesetzter Index, aber...**\n",
    "<br>\n",
    "...der im Index gespeicherte Datenwert ist der kleinste neue Wert im entsprechenden Datenblock.\n",
    "<br>\n",
    "Die Anfragebearbeitung ist so einfacher:\n",
    "- Suche im Index nach Paar mit (Datenwert = $K$) oder (größter Wert mit < $K$ aber nächster Wert ist > $K$).\n",
    "- Hole Datenblock und gegebenenfalls folgende Datenblöcke.\n",
    "<br><br>\n",
    "\n",
    "Im **Beispiel** unten zeigt das **⊥** ,dass nach der „30“ kein neuer kleinster Wert mehr folgt."
   ]
  },
  {
   "cell_type": "markdown",
   "id": "60b87370-f979-4ba6-959d-2359ce0779ed",
   "metadata": {},
   "source": [
    "```{figure} pictures/Indizes-Nicht_eindeutige-Suchschlüssel_3.png\n",
    ":name: Indizes-Nicht_eindeutige-Suchschlüssel_3\n",
    "\n",
    "Indizes - Nicht eindeutige Suchschlüssel 3\n",
    "```  "
   ]
  },
  {
   "cell_type": "markdown",
   "id": "6ce38710",
   "metadata": {},
   "source": [
    "### Änderungsoperationen\n",
    "\n",
    "Daten ändern sich durch **Insert-, Update-, und Deleteoperationen**. Unsere bisherige Annahme ist, dass die Daten die Blöcke perfekt füllen und sich nicht ändern. Wenn jedoch Änderungen im Datenblock passieren, verändern sich die Indizes wie folgt:\n",
    "\n",
    "**Overflow Blocks** werden in dünnbesetzten Indizes beispielsweise nicht repräsentiert. Neue Blöcke in der Sequenz hingegen benötigen einen neuen Indexeintrag. Diese Indexänderung birgt dieselben Probleme wie einen Datenänderung: Eine neuplatzierung der Blöcke und Indizes mit höheren Stufen.\n",
    "Werden Tupel verschoben, muss der Index nur angepasst werden.\n",
    "     \n",
    "Generell können Indizes wie normale data files behandelt werden und es können dieselben Strategien angewendet werden."
   ]
  },
  {
   "cell_type": "markdown",
   "id": "2347e2de-e699-409c-b568-709a30ff4373",
   "metadata": {},
   "source": [
    "**Änderungsoperationen Beispiele**"
   ]
  },
  {
   "cell_type": "markdown",
   "id": "fdb0f1fe-cbd0-44e9-b9e6-90d10810c489",
   "metadata": {},
   "source": [
    "```{figure} pictures/Änderungsoperationen_0.png\n",
    ":name: Änderungsoperationen_0\n",
    "\n",
    "Änderungsoperationen\n",
    "```  "
   ]
  },
  {
   "cell_type": "markdown",
   "id": "6918eefb-eee7-4a70-8b74-e5b802d0c72f",
   "metadata": {},
   "source": [
    "**Beispiel 1: Dichtbesetzter Index**\n",
    "<br>\n",
    "Der Datensatz mit $K = 30$ wird gelöscht. Wir nehmen an der Block kann/soll **nicht** reorganisiert werden und an der gelöschten Stell wird ein Grabstein gesetzt. Der Datensatz 40 wird nicht verschoben und der Index wird reorganisiert werden, wenn er sich im Hauptspeicher befindet."
   ]
  },
  {
   "cell_type": "markdown",
   "id": "7eac4bd1",
   "metadata": {},
   "source": [
    "```{figure} pictures/Änderungsoperationen.png\n",
    ":name: Änderungsoperationen_1\n",
    "\n",
    "Änderungsoperationen\n",
    "```   "
   ]
  },
  {
   "cell_type": "markdown",
   "id": "7a30de28",
   "metadata": {},
   "source": [
    "**Beispiel 2: Dünnbesetzter Index**\n",
    "<br>\n",
    "Der Datensatz mit $K = 30$ wird gelöscht.  Wir nehmen an der Block kann/soll reorganisiert werden. Der Datensatz 40 wird nach dem Löschen der 30 verschoben und der Index wird aktualisiert. Wenn nun auch Datensatz mit $K=40$ gelöscht werden soll entsteht ein leerer Block und die 50 und 70 schieben sich nach oben."
   ]
  },
  {
   "cell_type": "markdown",
   "id": "db37ef30",
   "metadata": {},
   "source": [
    "```{figure} pictures/Änderungsoperationen_2.png\n",
    ":name: Änderungsoperationen_2\n",
    "\n",
    "Änderungsoperationen\n",
    "```   "
   ]
  },
  {
   "cell_type": "markdown",
   "id": "22b68722",
   "metadata": {},
   "source": [
    "**Beispiel 3: Dünnbesetzter Index**  \n",
    "<br>\n",
    "Einfügen eines Datensatzes 15: Die 15 müsste zwischen die 10 und 20, aber Block 1 ist voll. Demnach wird der Datensatz 20 in den nächsten Block verschoben und der Block wird reorganisiert. Der Datensatz 15 wird eingefügt und der Index wird aktualisiert."
   ]
  },
  {
   "cell_type": "markdown",
   "id": "94b02f29",
   "metadata": {},
   "source": [
    "```{figure} pictures/Änderungsoperationen_3.png\n",
    ":name: Änderungsoperationen_3\n",
    "\n",
    "Änderungsoperationen\n",
    "```   "
   ]
  },
  {
   "cell_type": "markdown",
   "id": "261e6cdd",
   "metadata": {},
   "source": [
    "**Beispiel 4: Dünnbesetzter Index**\n",
    "\n",
    "Eine weitere Möglichkeit die 15 einzufügen ist mit einem Overflow Block. Der Block 1 ist weiterhin voll. Der Datensatz 20 wird in einen Overflow Block verschoben und der Datensatz 15 wird eingefügt. Der Index bleibt in diesem Fall gleich. "
   ]
  },
  {
   "cell_type": "markdown",
   "id": "75d1ab01-5bd6-4dff-9a48-96905632383a",
   "metadata": {},
   "source": [
    "```{figure} pictures/Änderungsoperationen_4.png\n",
    ":name: Änderungsoperationen_4\n",
    "\n",
    "Änderungsoperationen\n",
    "```"
   ]
  },
  {
   "cell_type": "markdown",
   "id": "e60d400a-a413-40ea-9bbd-d055d75ff273",
   "metadata": {},
   "source": [
    "In dem vorangegangenen Abschnitt haben wir uns mit Indizes auf sequentiellen Daten beschäftigt, jetzt schauen wir uns Sekundärindizes auf nichtsequentiellen Daten an."
   ]
  },
  {
   "cell_type": "markdown",
   "id": "414d6106",
   "metadata": {},
   "source": [
    "## Sekundärindizes auf nichtsequenziellen Dateien\n",
    "\n",
    "Zuvor haben wir uns mit Primärindizes, also sortierten Daten, beschäftigt. Oft ist es aber sinnvoll, mehrere Indizes pro Relation zu haben. Damit kommen wir zu nichtsequentiellen Dateien, also unsortierten Daten. Im folgenden Beispiel haben wir die Relation *Schauspieler*, in welcher der *Name* der Primärschlüssel ist. Suchen wir nun das Geburtsdatum, müssen wir von Block zu Block springen, können aber keine Annahme über nachfolgende Blöcke treffen. \n",
    "\n",
    "```\n",
    "SELECT Name, Adresse\n",
    "FROM Schauspieler\n",
    "WHERE Geburtstag = DATE '1952-01-01'\n",
    "```\n",
    "\n",
    "Nutzen wir nun einen **Sekundärindex** auf *Geburtstag*, beschleunigen wir die Anfragebearbeitung. Dieser Index kann nur im Nachhinein erstellt werde, da die Daten bereits vorliegen, anders als beim Primärindex, bei dem man im Optimalfall die Tupel während des Einfügens schon sortieren kann. \n",
    "\n",
    "```CREATE INDEX GEB_IDX ON Schauspieler(Geburtstag)```\n",
    "\n",
    "Sekundärindizes bestimmen nicht die Platzierung der Datensätze, sondern geben nur den Speicherort an. Deshalb sind dünnbesetzte Indizes sinnlos, da wir beispielsweise nicht wissen, ob die gleichen Geburtstage innerhalb des gleichen Blocks liegen oder auf viele verschiedene Blöcke verteilt sind. "
   ]
  },
  {
   "cell_type": "markdown",
   "id": "71e9400f",
   "metadata": {},
   "source": [
    "### Aufbau von Sekundärindizes\n",
    "     \n",
    "Wie zuvor erwähnt sind Sekundärindizes dichtbesetzt. Die Schlüssel sind dabei schon sortiert und es können Duplikate vorkommen. Ein Index der zweiten Stufe wäre wiederum dünnbesetzt. Die **Suche** hat in der Regel **hohe I/O-Kosten**. Suchen wir beispielsweise die *20* in der Abbildung unten, müssen fünf Blöcke gelesen werden. Das lässt sich auch leider nicht ändern, da die Daten nach einem anderen Schlüssel sortiert sind."
   ]
  },
  {
   "cell_type": "markdown",
   "id": "eab1e8a1-14c7-4749-aa22-575b5f7cd7f3",
   "metadata": {},
   "source": [
    "```{figure} pictures/Aufbau-Sekundärindizes.png\n",
    ":name: Aufbau-Sekundärindizes\n",
    "\n",
    "Aufbau Sekundärindizes\n",
    "```"
   ]
  },
  {
   "cell_type": "markdown",
   "id": "b4c6f12a-92a9-4fd3-a2da-ecf7a23f7d63",
   "metadata": {},
   "source": [
    "### Anwendungen\n",
    "\n",
    "Es gibt Anfragen, die sich auf mehrere Attribute beziehen. Dann braucht man mehrere Indizes. Liegen die **Daten nicht sortiert** vor, nutzt man **Sekundärindizes**. Diese verbrauchen zwar mehr Speicher, aber wenigstens weiß man dann, wo was liegt. Weiß man, dass Fremdschlüsselbeziehungen existieren, kann man Informationen von zwei Relationen zusammen in sogennanten **Clustered files** speichern. Das ist besonders effizient, wenn es in einer Anfrage viele Join Operationen gibt.\n",
    "</br>\n",
    "\n",
    "**Anwendung: Clustered file**\n",
    "\n",
    "- Filme(Titel, Jahr, Länge, inFarbe, Studioname, Produzent)\n",
    "- Studio(Name, Adresse, Präsident)\n",
    "\n",
    "Schauen wir uns dazu ein Beispiel an. Wir haben die beiden Relationen *Filme* und *Studio*. \"Studioname\" ist der Fremdschlüssel zu \"Name\" aus der Relation Studio. Häufige Anfragen können wie folgt aussehen:\n",
    "\n",
    "```\n",
    "SELECT Titel, Jahr\n",
    "FROM Filme, Studio\n",
    "WHERE Filme.Studioname = Studio.Name\n",
    "AND Präsident = ?\n",
    "```\n",
    "\n",
    "Abgespeichert wird immer zuerst ein Studio und dann alle Filme aus diesem Studio."
   ]
  },
  {
   "cell_type": "markdown",
   "id": "73cf8518-e554-4ee6-8107-6e4f7a1d4311",
   "metadata": {},
   "source": [
    "```{figure} pictures/cluster-file.png\n",
    ":name: cluster-file\n",
    "\n",
    "Cluster File\n",
    "```"
   ]
  },
  {
   "cell_type": "markdown",
   "id": "89901b08-2d19-4fab-b17c-3497e400e24e",
   "metadata": {},
   "source": [
    "1. Index auf Präsident findet schnell Studio-Datensatz\n",
    "2. Entsprechende Filme folgen direkt <br>\n",
    "\n",
    "Anfragen direkt nach Filmen benötigen ebenfalls einen Sekundärindex. Ist beispielsweise der Titel der Primärschlüssel, muss doppelt gespeichert werden, damit die Daten sortiert vorliegen. Da es aber so ist, dass alle Filme jedes Studios jeweils daneben liegen, braucht man einen Sekundärindex, um auch den Primärschlüssel von *Filme* zu indizieren. "
   ]
  },
  {
   "cell_type": "markdown",
   "id": "994d6ebf-c177-45ef-8a65-766464986090",
   "metadata": {},
   "source": [
    "### Indirektion für Sekundärindizes\n",
    "\n",
    "Bisher haben wir uns clustered files angeschaut und Relationen, bei denen mehrere Attribute indiziert wurden. Dabei kann es leicht passieren, dass Dinge mehrfach indiziert und gespeichert werden. Hier kann die Indirektion Abhilfe schaffen.\n",
    "\n",
    "Für Nicht-Primärschlüssel kann ein Index sehr groß sein. Aus dem Grund kann man unbestimmte Buckets dazu nehmen, die dann als abstrakte Schlüssel für die entsprechenden Datenpunkte gelten. In der Abbildung unten sieht man, dass die 10 auf genau so ein Bucket zeigt, in welchem drei Schlüsselpaare sind, die wiederum auf die entsprechenden Werte zeigen.\n",
    "\n",
    "Dies spart Platz, falls die Suchschlüssel größer sind als der Bucketeintrag und im Durchschnitt mindestens zweimal auftauchen. Ein weiterer Vorteil ist, dass bestimmte Anfragen direkt anhand der Buckets beantwortet werden können. \n",
    "Außerdem können wir bei mehreren Selektionsbedigungen mit jeweils einem Sekundärindex, wie bei der Anfrage unten, die Schnittmenge der Pointer in den Buckets bilden. Hier haben wir jeweils einen Sekundärindex auf *StudioName* und *Jahr*. Während die Pointer der Indexeinträge für *StudioName* auf Buckets zeigen, können parallel die Pointer für *Jahr* auf dieselben zeigen, so dass man sofort weiß, welche Blöcke gelesen werden müssen. \n",
    "\n",
    "```Filme(Titel, Jahr, Länge, inFarbe, Studioname, Produzent)```\n",
    "\n",
    "```\n",
    "SELECT Titel FROM Filme\n",
    "WHERE StudioName = 'Disney'\n",
    "AND Jahr = 1995\n",
    "```"
   ]
  },
  {
   "cell_type": "markdown",
   "id": "7264dc82-5e2b-4c1f-a179-76b68ff8257f",
   "metadata": {},
   "source": [
    "```{figure} pictures/Indirektion-Sekundärindizes.png\n",
    ":name: Indirektion-Sekunderindizes\n",
    "\n",
    "Indirektion Sekunderindizes\n",
    "```"
   ]
  },
  {
   "cell_type": "markdown",
   "id": "a3195ded-cc77-435a-9e25-99446edc3532",
   "metadata": {},
   "source": [
    "**Indirektion im Alltag**\n",
    "\n",
    "Hier ein weiteres **Beispiel** für die Indirektion. Sucht man hier ein Wort, stehen die Buckets, in dem Fall die Seitenzahlen, direkt dahinter. Diese Indirektion ist speziell, denn sie hat eine bestimmte Indexstruktur und zwar *Invertierte Indizes*. Das schauen wir uns im folgenden Absatz genauer an."
   ]
  },
  {
   "cell_type": "markdown",
   "id": "7afe2bde-513f-4a70-85a8-88690034d8c4",
   "metadata": {},
   "source": [
    "```{figure} pictures/Indirektion-Alltag.png\n",
    ":name: Indirektion-Alltag\n",
    "\n",
    "Indirektion Alltag\n",
    "```"
   ]
  },
  {
   "cell_type": "markdown",
   "id": "190640c7-de4f-44e2-8b96-8b4b306fe808",
   "metadata": {},
   "source": [
    "### Indexierung mittels invertierter Dateien\n",
    "\n",
    "Invertierte Dateien oder auch invertierte Indizes speichern für jeden Term eine Liste mit Verweisen zu allen Vorkommen dieses Terms. Vorkommen sind in dem Sinne Dokumente oder Dateien. Verweise sind aus konzeptioneller Sicht eine ID, die dem jeweiligen Dokument oder der Datei zugeordnet ist. \n",
    "\n",
    "Bei der Suche nach Dokumenten, die mehrere Terme oder eine bestimmte Konstellation von Termen enthalten sollen, z.B. “Finde alle Dokumente, die zwar Informationen über Golf enthalten aber nicht über VW” können die entsprechenden Dateilisten jedes Termes durch Mengenoperationen zusammengeführt werden. In diesem Beispiel müsste man alle IDs auf die “VW” verweist von allen IDs auf die “Golf” verweist abziehen. Boolesche Operationen wie AND, OR und NOT können hier in linearer Zeit durchgeführt werden, da die Einträge aufsteigend sortiert aufgelistet sind und ermöglichen komplexe Suchanfragen.\n",
    "\n",
    "In Abbildung 1 sehen wir eine Abbildung von Dokumenten-IDs auf den enthaltenen Text. Jede Zeile steht für eine Datei/ ein Dokument. Die invertierte Datei sehen wir in Abbildung 2."
   ]
  },
  {
   "cell_type": "markdown",
   "id": "ca450afe-1532-4c04-82fe-a1665da83067",
   "metadata": {},
   "source": [
    "```{figure} pictures/Abbildung1.png\n",
    ":name: Abbildung1\n",
    "\n",
    "Abbildung 1\n",
    "```"
   ]
  },
  {
   "cell_type": "markdown",
   "id": "8811cb07-4c4f-40d2-b9bd-3f329ef59144",
   "metadata": {},
   "source": [
    "```{figure} pictures/Abbildung2.png\n",
    ":name: Abbildung2\n",
    "\n",
    "Abbildung 2\n",
    "```"
   ]
  },
  {
   "cell_type": "markdown",
   "id": "226f73fe-0c86-4385-91c7-397117c4b225",
   "metadata": {},
   "source": [
    "$\\tiny{Quelle:\\ Nagy \\ Istvan \\ (2001): Indexierung \\ mittels \\ invertierter \\ Dateien. https://www.cis.uni-muenchen.de/people/Schulz/SeminarSoSe2001IR/Nagy/node4.html\\#bsp_text }$\n",
    "\n",
    "Invertierte Indizes finden insbesondere in Dokumentendatenbanken Anwendung. Für die weiteren Inhalte der Vorlesung spielen sie aber keine Rolle. Das sollte als Beispiel für die weitere Anwendungen der Indirektion dienen. "
   ]
  },
  {
   "cell_type": "markdown",
   "id": "35afe130-d9d2-48c0-9369-56e16b53ec18",
   "metadata": {},
   "source": [
    "## B-Bäume\n",
    "\n",
    "### Allgemein\n",
    "\n",
    "Bisher haben wir zweistufige Indizes zur Beschleunigung des Zugriffs betrachtet. Jetzt befassen wir uns mit mehrstufigen Indizes. \n",
    "\n",
    "B-Bäume haben so viele Stufen wie nötig. Die Blöcke sind immer mindestens zur Hälfte gefüllt und Overflowblocks sind nicht notwendig. \n",
    "B-Bäume sind außerdem balanciert, d.h. jeder Weg von der Wurzel bis zum Blatt ist gleich lang. "
   ]
  },
  {
   "cell_type": "markdown",
   "id": "1c0a32e0-4671-4656-99e1-552e1d945733",
   "metadata": {},
   "source": [
    "```{figure} pictures/B-Bäume.png\n",
    ":name: B-Bäume\n",
    "\n",
    "B-Bäume\n",
    "```"
   ]
  },
  {
   "cell_type": "markdown",
   "id": "a5f155a5-116e-47d7-9ae2-2b3556e7a6c3",
   "metadata": {},
   "source": [
    "### Struktur\n",
    "\n",
    "Bei B-Bäumen handelt es sich um **Indexblöcke** die in einem **Baum** organisiert sind. Dieser ist **balanciert** und hat einen Parameter $n$. Jeder Block enthält bis zu $n$ Suchschlüssel und bis zu $n + 1$ Pointer, also ein Pointer mehr als die Indexblöcke zuvor. $n$ wird entsprechend der gegebenen Blockgröße so groß wie möglich gewählt. Bei beispielsweise 4096 Byte pro Block, 4 Byte pro Schlüssel und 8 Byte pro Pointer muss unser $n = 340$ sein:\n",
    "\n",
    "$4 n + 8(n+1) ≤ 4096 => n = 340$\n",
    "\n",
    "Bei einer Höhe von 3 lassen sich damit 340 ∙ 341 ∙ 341 = 39.535.540 Schlüssel indizieren.\n",
    "\n",
    "### Einfügen in B-Bäume – Beispiel"
   ]
  },
  {
   "cell_type": "markdown",
   "id": "40d6886f-ba2d-4a07-9bea-d975675da3df",
   "metadata": {},
   "source": [
    "```{figure} pictures/Einfügen-in-B-Bäume.png\n",
    ":name: Einfügen-in-B-Bäume\n",
    "\n",
    "Einfügen in B-Bäume\n",
    "```"
   ]
  },
  {
   "cell_type": "markdown",
   "id": "6b06e0bd-9157-4e89-bfcd-58053075aaed",
   "metadata": {},
   "source": [
    "### Hier B+-Baum\n",
    "\n",
    "Bei B+-Bäumen sind die Schlüssel in den Blättern die Schlüssel aus den Daten, sortiert über alle Blätter verteilt (von links nach rechts). \n",
    "Die Pointer der Wurzel zeigen auf einen B-Baum Block in der Ebene darunter. Mindestens zwei Pointer werden verwendet. Von den Blättern zeigt der letzte Pointer auf das nächste rechte Blatt, während die übrigen Pointern auf mindestens $ \\lfloor \\frac {(n+1)}{2} \\rfloor$ Datenblöcke zeigen. Die Pointer der inneren Knoten zeigen auch auf die B-Baum Blöcke von darunterliegenden Ebenen. Dabei werden mindestens $ \\lceil \\frac {(n+1)}{2} \\rceil $ verwendet. \n",
    "\n",
    "Falls $j$ Pointer verwendet werden, gibt es $j-1$ Schlüssel in einem Block. Der erste Pointer zeigt auf den Teilbaum mit den Schlüsselwerten < $K_1$ während der zweite Pointer auf den Teilbaum mit den Schlüsselwerten ≥ $K_1$ und < $K_2$ zeigt, usw.\n",
    "     \n",
    "#### Rechenbeispiele\n",
    "\n",
    "Schauen wir uns das an ein paar Beispielen genauer an. Ist unser $n  = 3$ haben alle Knoten maximal 3 Suchschlüssel und 4 Pointer. Die Wurzel hat mindestens 1 Suchschlüssel und 2 Pointer, während die Blätter mindestens $ \\lfloor \\frac {(3+1)}{2} \\rfloor + 1 $ = 3 Pointer (plus 1 weil der letzte Pointer auf das nächste Blatt zeigt) und 2 Suchschlüssel haben. Die inneren Knoten haben mindestens $ \\lceil \\frac {(3+1)}{2} \\rceil $ = 2 Pointer und 1 Suchschüssel."
   ]
  },
  {
   "cell_type": "markdown",
   "id": "b57d2939-b40c-4cd0-b9e3-6cf33a0a9f67",
   "metadata": {},
   "source": [
    "```{figure} pictures/Rechenbeispiele.png\n",
    ":name: Rechenbeispiele\n",
    "\n",
    "Rechenbeispiele\n",
    "```"
   ]
  },
  {
   "cell_type": "markdown",
   "id": "345af69a-9d78-4e93-ae76-0b133afbb3a0",
   "metadata": {},
   "source": [
    "Analog für $n = 4$ und $n = 5$:\n",
    "\n",
    "$n = 4$\n",
    "- Alle Knoten: Maximal 4 Suchschlüssel und 5 Pointer\n",
    "- Wurzel: Mindestens 1 Suchschlüssel und 2 Pointer\n",
    "- Innere Knoten: Mindestens $ \\lceil \\frac {(n+1)}{2} \\rceil $ Pointer = 3 Pointer\n",
    "     - => Mindestens 2 Suchschlüssel\n",
    "- Blätter:\n",
    "     - 1 Pointer zum nächsten Blatt + mindestens $ \\lfloor \\frac {(n+1)}{2} \\rfloor$ weitere Pointer = 3 Pointer\n",
    "     - => Mindestens 2 Suchschlüssel\n",
    "<br>\n",
    "\n",
    "$n = 5$\n",
    "- Alle Knoten: Maximal 5 Suchschlüssel und 6 Pointer\n",
    "- Wurzel: Mindestens 1 Suchschlüssel und 2 Pointer\n",
    "- Innere Knoten: Mindestens $ \\lceil \\frac {(n+1)}{2} \\rceil $ Pointer = 3 Pointer\n",
    "    - => Mindestens 2 Suchschlüssel\n",
    "- Blätter:\n",
    "     - 1 Pointer zum nächsten Blatt + mindestens $ \\lfloor \\frac {(n+1)}{2} \\rfloor$ weitere Pointer = 4 Pointer\n",
    "     - => Mindestens 3 Suchschlüssel"
   ]
  },
  {
   "cell_type": "markdown",
   "id": "d9b03d3f",
   "metadata": {},
   "source": [
    "### Alternative Definition\n",
    "\n",
    "In der Vorlesung verwenden wir den Parameter $n$. In Lehrbüchern wird alternativ aber auch der Parameter $k$ verwendet. Anders als bei der Variante mit $n$ hat ein Block mindestens $k$ und höchstens $2k$ Suchschlüssel. $x + 1$ Pointer pro Block bleiben aber. Genauso wie die Tatsache, dass ein innerer Block immer einen Pointer mehr hat als Suchschlüssel und ein Blatt genauso viele Pointer wie Suchschlüssel.\n"
   ]
  },
  {
   "cell_type": "markdown",
   "id": "51553dbf-d722-4ba0-ba31-8b3fb2427ae7",
   "metadata": {},
   "source": [
    "### Beispiele Blattknoten\n",
    "\n",
    "Hier werden wir ein paar Beispiele für Blattknoten mit $n = 3$ sehen. Das bedeutet, es gibt maximal 3 Schlüssel und 4 Pointer.\n",
    "\n",
    "**Volles Blatt**\n",
    "\n",
    "Hier sehen wir ein volles Blatt. Wir haben die 3 Suchschlüssel 57, 81 und 95 sowie 4 Pointer. Der erste Pointer zeigt zu dem Block mit dem Suchschlüssel 57. Der zweite zu dem Block mit dem Suchschlüssel 81 und der dritte zum Block mit dem Suchschlüssel 95. Der letzte Pointer zeigt auf das nächste Blatt."
   ]
  },
  {
   "cell_type": "markdown",
   "id": "7e6bef40-b825-4906-99d5-4391e1f3d61d",
   "metadata": {},
   "source": [
    "```{figure} pictures/Beispiel-Blattknoten.png\n",
    ":name: Beispiel-Blattknoten\n",
    "\n",
    "Beispiel Blattknoten\n",
    "```"
   ]
  },
  {
   "cell_type": "markdown",
   "id": "6748e7c0-b49b-4b9e-92a5-526fb938f9f0",
   "metadata": {},
   "source": [
    "**Teilweise gefülltes Blatt**\n",
    "\n",
    "Nun sehen wir ein teilweise gefülltes Blatt. Hier haben wir nur 2 Suchschlüssel, 57 und 81, und 3 Pointer. Die ersten beiden zeigen wieder auf Blöcke mit den Schlüsseln 57 und 81 während der letzte wieder auf das nächste Blatt zeigt. Ein Blatt mit nur einem Suchschlüssel ist nicht erlaubt, da wir mindestens $ \\lfloor \\frac {(3+1)}{2} \\rfloor + 1 $ = 3 Pointer und damit 2 Suchschlüssel benötigen. "
   ]
  },
  {
   "cell_type": "markdown",
   "id": "e93d317d-b754-4d5f-a03c-46270bbd9935",
   "metadata": {},
   "source": [
    "```{figure} pictures/Beispiel-Blattknoten_2.png\n",
    ":name: Beispiel-Blattknoten_2\n",
    "\n",
    "Beispiel Blattknoten 2\n",
    "```"
   ]
  },
  {
   "cell_type": "markdown",
   "id": "0b2a3a11-6ed1-40d3-8fd3-8debcece1628",
   "metadata": {},
   "source": [
    "### Beispiele innerer Knoten\n",
    "\n",
    "Schauen wir uns das gleiche auch für innere Knoten an.\n",
    "\n",
    "**Voller innerer Knoten**\n",
    "\n",
    "Hier haben wir einen vollen inneren Knoten mit 3 Suchschlüsseln und 4 Pointern. Der erste Pointer zeigt auf die Schlüssel die kleiner sind als 57, der zweite Pointer auf die Schlüssel die größer oder gleich 57 sind **und** kleiner als 81. Der dritte Pointer zeigt auf die Schlüssel die größer oder gleich 81 **und** kleiner 95 sind und der letzte Pointer zeigt auf Suchschlüssel größer oder gleich 95. "
   ]
  },
  {
   "cell_type": "markdown",
   "id": "5a889607-ec0c-4568-8b71-94a7c51e3013",
   "metadata": {},
   "source": [
    "```{figure} pictures/Beispiel-Innerer-Knoten.png\n",
    ":name: Beispiel-Innerer-Knoten\n",
    "\n",
    "Beispiel Innerer Knoten\n",
    "```"
   ]
  },
  {
   "cell_type": "markdown",
   "id": "2396133c-811c-402f-b735-c07077cdfe6c",
   "metadata": {},
   "source": [
    "**Teilweise gefüllter innerer Knoten**\n",
    "\n",
    "Bei diesem teilweise gefüllten inneren Knoten haben wir nur einen Suchschlüssel und 2 Pointer. Diese zeigen wiederum auf Suchschlüssel die kleiner als 57 und größer oder gleich 57 sind. Keine Suchschlüssel in einem Knoten zu haben ist nicht erlaubt, da wir mindestens $ \\lceil \\frac {(3+1)}{2} \\rceil $ = 2 Pointer und 1 Suchschüssel benötigen."
   ]
  },
  {
   "cell_type": "markdown",
   "id": "8dd0638c-9998-4e86-91e6-f242c0a08e4b",
   "metadata": {},
   "source": [
    "```{figure} pictures/Beispiel-Innerer-Knoten_2.png\n",
    ":name: Beispiel-Innerer-Knoten_2\n",
    "\n",
    "Beispiel Innerer Knoten 2\n",
    "```"
   ]
  },
  {
   "cell_type": "markdown",
   "id": "5b6958e4-2775-4e3b-ba0e-4d6f8a9b74e2",
   "metadata": {},
   "source": [
    "### Beispiel B-Baum\n",
    "\n",
    "In dem folgenden Beispiel handelt es sich um einen dichtbesetzten B-Baum mit $n = 3$, 2 Pointern und einem Suchschlüssel. Dichtbesetzt, das heißt, dass in den Blättern jeder Schlüssel genau einmal sortiert auftaucht. \n",
    "\n",
    "Schauen wir uns ein paar Knoten genauer an. Mit 13 in der Wurzel gehen alle Zahlen die kleiner sind, auf die linke Seite und alle die größer oder gleich 13 sind auf die rechte. Im darunterliegenden linken Knoten haben wir den Schlüssel 7. Alle Elemente kleiner als 7 gehen in das linke Blatt, alle größer oder gleich 7 in das rechte. Jedes Blatt hat Pointer, die auf Datenblöcke zeigen und einen Pointer, der auf das nächste Blatt zeigt."
   ]
  },
  {
   "cell_type": "markdown",
   "id": "0bc62e49-54c6-4ee6-8337-5bec00f76406",
   "metadata": {},
   "source": [
    "```{figure} pictures/Beispiel-B-Baum.png\n",
    ":name: Beispiel-B-Baum\n",
    "\n",
    "Beispiel B-Baum\n",
    "```"
   ]
  },
  {
   "cell_type": "markdown",
   "id": "5692526d-dfb4-43fb-8891-a682fdf15e9e",
   "metadata": {},
   "source": [
    "### Anwendungen von B-Bäumen\n",
    "\n",
    "B-Bäume können verschiedene **Index-Rollen** übernehmen. Ist der Suchschlüssel gleichzeitig auch der Primärschlüssel, können wir dichtbesetzte Indizes verwenden. Hierbei spielt es keine Rolle, ob die data files sortiert sind oder nicht. Bei dünnbesetzten Indizes hingegen sind die date files immer sortiert. Sollte das aber mal doch nicht der Fall sein, müssen wir Indirektion verwenden. \n",
    "Sollte der Suchschlüssel nicht der Primärschlüssel sein, müssen die data files nach dem Suchschlüssel sortiert sein. Außerdem müssen die Pointer immer auf den jeweils ersten Wert zeigen. Dies schauen wir uns im folgenden Abschnitt genauer an. \n",
    "   \n",
    "### B-Bäume auf nicht-Primärschlüsseln\n",
    "\n",
    "Haben wir B-Bäume auf nicht-Primärschlüsseln, ändert sich die Bedeutung der Pointer auf den inneren Ebenen, da es jetzt vorkommen kann, dass wir **Duplikate** in unseren Blättern haben. \n",
    "\n",
    "Gegeben sind wieder die Schlüssel $K_{1}$ bis $K_{j}$. $K_{i}$ sei der kleinste *neue* Schlüsselwert, der vom $(i+1)$-ten Pointer erreichbar ist. Das bedeutet, es gibt keinen Schlüssel $K_{i}$ im linken Teilbaum, aber mindestens ein Vorkommen des Schlüsselwertes im Teilbaum vom $(i+1)$-ten Pointer. Das Problem ist: Es gibt nicht immer einen solchen Schlüssel. Manchmal taucht ein Wert schon in voher indizierten Blöcken auf. In dem Fall merkt man sich dies mit einem Nullpointer (⊥), wie man im Beispiel unten sehen kann. Da die erste 13 von dem Block mit dem Schlüssel 7 noch erreicht werden kann, wäre der kleinste neue Schlüssel hier die 17. Diese befindet sich aber schon in der Wurzel, also würden wir den nächsthöheren Wert, die 23, nehmen. Diese taucht aber auch in zwei weiteren Blöcken auf, sodass wir hier einen Nullpointer verwenden müssen. "
   ]
  },
  {
   "cell_type": "markdown",
   "id": "e391ceb0-0517-407a-af19-57aa23571bed",
   "metadata": {},
   "source": [
    "```{figure} pictures/B-Bäume-auf-nicht-Primärschlüsseln.png\n",
    ":name: B-Bäume-auf-nicht-Primärschlüsseln\n",
    "\n",
    "B-Bäume auf nicht Primärschlüsseln\n",
    "```"
   ]
  },
  {
   "cell_type": "markdown",
   "id": "403af5c8-60ab-48ab-b44d-91e59fb10707",
   "metadata": {},
   "source": [
    "```{figure} pictures/B-Bäume-auf-nicht-Primärschlüsseln_2.png\n",
    ":name: B-Bäume-auf-nicht-Primärschlüsseln_2\n",
    "\n",
    "B-Bäume auf nicht Primärschlüsseln 2\n",
    "```"
   ]
  },
  {
   "cell_type": "markdown",
   "id": "b010029a-f45d-4e59-9f68-69c8f7d5201f",
   "metadata": {},
   "source": [
    "### B-Bäume Suche\n",
    "\n",
    "#### Allgemein\n",
    "\n",
    "Wir nehmen wieder an, dass unser Suchschlüssel ein Primärschlüssel ist. Jeder Schlüssel ist dann dementsprechend nur einmal in einem Blatt vorhanden, es kommen also keine Duplikaten vor.\n",
    "\n",
    "Gesucht ist wieder ein Schlüssel $K$. Wir fangen bei einem Blattknoten an und schauen, ob der Schlüssel dort vorkommt oder nicht. Falls nicht, suchen wir nach einem Paar von Schlüsseln, zwischen denen unser Schlüssel vorkommen könnte und geben den Pointer weiter.\n",
    "\n",
    "Im Folgenden schauen wir uns zwei Beispiele dazu an. \n",
    "\n",
    "#### Beispiel Suche im B-Baum\n",
    "\n",
    "Suchen wir beispielsweise nach dem Datensatz 40, gehen wir erstmal in den Wurzelknoten. 13 ist hier der einzige Wert. Da 40 größer ist, springen wir zu dem rechten inneren Knoten und können dann mit binärer Suche vergleichen, wo wir weitersuchen müssen. Folgen wir dann dem Pointer zwischen 31 und 43 und suchen in dem Blattknoten, finden wir den Datensatz nicht und sind fertig. "
   ]
  },
  {
   "cell_type": "markdown",
   "id": "9145e0f5-aebc-41f2-8b23-70f31a704052",
   "metadata": {},
   "source": [
    "```{figure} pictures/Beispiel-Suche-im-B-Baum.png\n",
    ":name: Beispiel-Suche-im-B-Baum\n",
    "\n",
    "Beispiel Suche im B-Baum\n",
    "```"
   ]
  },
  {
   "cell_type": "markdown",
   "id": "b342d252-2ce7-4ead-9d0f-a79df7e4a64a",
   "metadata": {},
   "source": [
    "Hier das gleiche Prinzip. 13 ist kleiner als 37, also springen wir auch hier zum rechten inneren Knoten. Wir können wieder dem Pointer zwischen 31 und 43 folgen und finden dann die 37."
   ]
  },
  {
   "cell_type": "markdown",
   "id": "3f42b6b7-d6fc-4137-9500-2f761d384752",
   "metadata": {},
   "source": [
    "```{figure} pictures/Beispiel-Suche-im-B-Baum_2.png\n",
    ":name: Beispiel-Suche-im-B-Baum-2\n",
    "\n",
    "Beispiel Suche im B-Baum 2\n",
    "```"
   ]
  },
  {
   "cell_type": "markdown",
   "id": "8475b287-88de-40b7-868a-41388076a9dd",
   "metadata": {},
   "source": [
    "#### Bereichsanfragen (range queries)\n",
    "\n",
    "Anfrage mit Ungleichheit in der WHERE-Klausel: \n",
    "```\n",
    "SELECT * FROM R\n",
    "WHERE R.k > 40\n",
    "```\n",
    "Die Anfrage liest aus der Relation $R$ alle Blöcke, die größer als 40 sind, ab dem vorletzten Block. \n",
    "\n",
    "Mit B-Bäumen lassen sich Ungleichheiten, also die Anfrage über bestimmte Bereiche von Werten, effizient behandeln. \n",
    "\n",
    "Suchen wir zum Beispiel in dem Bereich $[a,b]$, suchen wir zunächst einen Blattknoten der $a$ enthält. Die Suche führen wir solange weiter, bis wir bei $b$ ankommen. Dann können wir unsere Suche abschließen. Haben wir keinen B-Baum, muss die Suche eventuell intensiviert und die Liste vorher sortiert werden. \n",
    "\n",
    "Bei offenen Bereichen, wie $[-∞ , b]$ bzw. $[a, ∞]$ ist die Suche ähnlich.\n",
    "\n",
    "Im Folgenden ein Beispiel: \n",
    "\n",
    "```\n",
    "SELECT * FROM R\n",
    "WHERE R.k >= 10 AND R.k <= 25\n",
    "``` \n",
    "\n",
    "Wir suchen alle Schlüssel zwischen 10 und 25. Zunächst suchen wir die 10 und gehen links runter in den Block mit der 7 und der 11. Von da schauen wir uns die Blöcke rechts an, bis wir den Block mit der 23 und der 29 erreichen. Da die 29 größer als 25 ist, ist unsere Suche hier beendet. "
   ]
  },
  {
   "cell_type": "markdown",
   "id": "13c56eda-b1a2-4985-9c13-3601eb7d15cf",
   "metadata": {},
   "source": [
    "```{figure} pictures/Bereichsanfragen.png\n",
    ":name: Bereichsanfragen\n",
    "\n",
    "Bereichsanfragen\n",
    "```"
   ]
  },
  {
   "cell_type": "markdown",
   "id": "04c14304",
   "metadata": {},
   "source": [
    "### B-Bäume Updates\n",
    "\n",
    "#### Einfügen in B-Bäume\n",
    "\n",
    "Möchte man etwas in einen B-Baum einfügen, geht man rekursiv vor. Zunächst suchen wir das entsprechende Blatt. Falls dort Platz ist, fügen wir den Schlüssel und den Pointer ein. Falls nicht, kommt es zum *Überlauf*. Dabei wird das Blatt in zwei Teile gespalten und die Schlüssel gleichmäßig auf diese verteilt. Durch diesen \"split\" ist es erforderlich, dass Schlüssel/Pointer-Paare im Elternknoten eingefügt, also rekursiv nach oben geschoben, werden. Sollte die Wurzel voll sein, muss auch diese gesplittet und eine neue mit nur einem Schlüssel erzeugt werden.\n"
   ]
  },
  {
   "cell_type": "markdown",
   "id": "2e247035-5b66-43f1-b6e2-fe6ed4206ccb",
   "metadata": {},
   "source": [
    "Im folgenden Beispiel soll die 40 eingefügt werden. Wir sehen, dass das entsprechende Blatt voll ist, also muss dieses gesplittet werden. "
   ]
  },
  {
   "cell_type": "markdown",
   "id": "a1dcecfe-fbea-47ce-8032-c6e24b95a023",
   "metadata": {},
   "source": [
    "```{figure} pictures/Einfügen-in-B-Bäume-Beispiel.png\n",
    ":name: Einfügen-in-B-Bäume-Beispiel\n",
    "\n",
    "Einfügen in B-Bäume Beispiel\n",
    "```"
   ]
  },
  {
   "cell_type": "markdown",
   "id": "ede4a604-dab4-4fb3-a022-28fc04e3f9f0",
   "metadata": {},
   "source": [
    "Nun müssen wir uns fragen, welcher Schlüssel nach oben wandert. Wir nehmen idealerweise das erste Element in einem neuen Block, hier die 40. Diese wandert dann nach oben, sodass wir den Elternknoten auch noch splitten müssen."
   ]
  },
  {
   "cell_type": "markdown",
   "id": "486d24d2-b574-4d2c-b944-e7b9afb3d0d6",
   "metadata": {},
   "source": [
    "```{figure} pictures/Einfügen-in-B-Bäume-Beispiel_2.png\n",
    ":name: Einfügen-in-B-Bäume-Beispiel-2\n",
    "\n",
    "Einfügen in B-Bäume Beispiel 2\n",
    "```"
   ]
  },
  {
   "cell_type": "markdown",
   "id": "c32b6ea3-84e8-4205-b06e-21a921ad3618",
   "metadata": {},
   "source": [
    "Wir brauchen nun ein neues Schlüssel/Pointer-Paar. Da die 40 auch hier das erste Element im neuen Block ist, würde es sich anbieten diese in die Wurzel zu ziehen. "
   ]
  },
  {
   "cell_type": "markdown",
   "id": "33502f74-5203-43c9-b037-cff767691966",
   "metadata": {},
   "source": [
    "```{figure} pictures/Einfügen-in-B-Bäume-Beispiel_3.png\n",
    ":name: Einfügen-in-B-Bäume-Beispiel-3\n",
    "\n",
    "Einfügen in B-Bäume Beispiel 3\n",
    "```"
   ]
  },
  {
   "cell_type": "markdown",
   "id": "2760c53b-67db-44e7-93d7-9dc1e0274c1e",
   "metadata": {},
   "source": [
    "Dadurch müssten wir aber zu viel umstrukturieren, deshalb können wir auch die 31 aus dem linken Block nehmen."
   ]
  },
  {
   "cell_type": "markdown",
   "id": "3fc05930-1f66-48ff-b071-3c2cc9c3ef26",
   "metadata": {},
   "source": [
    "```{figure} pictures/Einfügen-in-B-Bäume-Beispiel_4.png\n",
    ":name: Einfügen-in-B-Bäume-Beispiel-4\n",
    "\n",
    "Einfügen in B-Bäume Beispiel 4\n",
    "```"
   ]
  },
  {
   "cell_type": "markdown",
   "id": "92c6663b-9bef-4c75-a4c4-52a0d8e593ec",
   "metadata": {},
   "source": [
    "**Kosten für Einfügen**\n",
    "       \n",
    "Die Kosten für das Einfügen in einen B-Baum sind abhängig von der Höhe $h$ des Baumes. Im Rahmen der Vorlesung haben wir meist B-Bäume der Höhe 3. \n",
    "Die Suche nach einem Blattknoten kostet $h$. Ist keine Teilung notwendig, muss man nur $h$ Blöcke lesen und 1 Index-Block schreiben. Damit liegen die Gesamtkosten bei $h + 1$. Falls doch eine Teilung notwendig ist, muss man im schlimmsten Fall bis nach oben zu der Wurzel. Da hilft auch Caching nicht, da die Knoten geschrieben werden müssen. Insgesamt kommt man auf $3 h + 1$, da man auf jeder Ebene suchen, teilen und gegebenenfalls Überlauf behandeln und zusätzlich eine neue Wurzel generieren muss.  "
   ]
  },
  {
   "cell_type": "markdown",
   "id": "45c8484b",
   "metadata": {},
   "source": [
    "#### Löschen aus B-Bäumen\n",
    "\n",
    "Beim Löschen aus einem B-Baum wird der entsprechende Knoten gesucht und der Schlüssel dann gelöscht. Befindet sich dann immer noch die minimale Menge an Schlüsseln im Knoten ist alles gut und wir müssen nichts weiter tun. Sind aber zu wenig Schlüssel im Knoten, müssen wir *mergen*, d.h. wir können uns aus den Geschwisterknoten links oder rechts die mehr als die minimale Schlüsselmenge haben, einen Schlüssel \"klauen\". Dabei müssen auch (fast) immer die Elternknoten angepasst werden. Ist das mergen nicht möglich, da die Geschwisterknoten nur die minimale oder sub-minimale Schlüsselmenge besitzen, kann man diese aber vereinen. Auch hier müssen die Elternknoten dann angepasst oder ggf. rekursiv nach oben gelöscht werden.\n"
   ]
  },
  {
   "cell_type": "markdown",
   "id": "83e838d1-d2e2-4ae8-81ac-d9d9dbe65c0e",
   "metadata": {},
   "source": [
    "Schauen wir uns dazu ein Beispiel an. Es soll der Datensatz mit dem Schlüssel 7 gelöscht werden. "
   ]
  },
  {
   "cell_type": "markdown",
   "id": "a40f7692-7fb4-41bd-8a8a-1370728502ee",
   "metadata": {},
   "source": [
    "```{figure} pictures/Löschen-aus-B-Bäumen-Beispiel.png\n",
    ":name: Löschen-aus-B-Bäumen-Beispiel\n",
    "\n",
    "Löschen aus B-Bäumen-Beispiel\n",
    "```"
   ]
  },
  {
   "cell_type": "markdown",
   "id": "deab4655-9075-4827-bab1-979662bba63c",
   "metadata": {},
   "source": [
    "Ohne die 7 sind zu wenig Schlüssel im Knoten, also nehmen wir uns aus dem linken Geschwisterknoten die 5 dazu und passen dann noch den Elternknoten an."
   ]
  },
  {
   "cell_type": "markdown",
   "id": "e9cf4890-1cea-40ab-8872-527da008ef06",
   "metadata": {},
   "source": [
    "```{figure} pictures/Löschen-aus-B-Bäumen-Beispiel_2.png\n",
    ":name: Löschen-aus-B-Bäumen-Beispiel-2\n",
    "\n",
    "Löschen aus B-Bäumen-Beispiel 2\n",
    "```"
   ]
  },
  {
   "cell_type": "markdown",
   "id": "f0af1bc8-091b-4c3b-8947-cc3e07aa2223",
   "metadata": {},
   "source": [
    "Jetzt soll die 11 entfernt werden. "
   ]
  },
  {
   "cell_type": "markdown",
   "id": "3e1c3563-53d5-4023-8c71-c50ca7f58aac",
   "metadata": {},
   "source": [
    "```{figure} pictures/Löschen-aus-B-Bäumen-Beispiel_3.png\n",
    ":name: Löschen-aus-B-Bäumen-Beispiel-3\n",
    "\n",
    "Löschen aus B-Bäumen-Beispiel 3\n",
    "```"
   ]
  },
  {
   "cell_type": "markdown",
   "id": "4dca2fd2-6799-4ced-a4b8-f9cdd7d7a6e6",
   "metadata": {},
   "source": [
    "Auch hier sind jetzt zu wenig Schlüssel im Knoten. In dem Fall können die Geschwisterknoten aber nichts mehr abgeben, also mergen wir mit dem linken Geschwisterknoten."
   ]
  },
  {
   "cell_type": "markdown",
   "id": "625fc0a9-69d8-493d-a878-3973b4317e98",
   "metadata": {},
   "source": [
    "```{figure} pictures/Löschen-aus-B-Bäumen-Beispiel_4.png\n",
    ":name: Löschen-aus-B-Bäumen-Beispiel-4\n",
    "\n",
    "Löschen aus B-Bäumen-Beispiel 4\n",
    "```"
   ]
  },
  {
   "cell_type": "markdown",
   "id": "4669dac3-e46c-41b9-a93d-d974b059db36",
   "metadata": {},
   "source": [
    "Den leeren Knoten können wir löschen und müssen dann noch den Elterknoten anpassen, da dieser zu klein ist. Die 5 wird da aber nicht mehr gebraucht, also kann diese auch entfernt werden."
   ]
  },
  {
   "cell_type": "markdown",
   "id": "6beea934-93cf-4305-a381-c112008f674c",
   "metadata": {},
   "source": [
    "```{figure} pictures/Löschen-aus-B-Bäumen-Beispiel_5.png\n",
    ":name: Löschen-aus-B-Bäumen-Beispiel-5\n",
    "\n",
    "Löschen aus B-Bäumen-Beispiel 5\n",
    "```"
   ]
  },
  {
   "cell_type": "markdown",
   "id": "ee970de3-1d8a-46b1-87f0-4470d5bf67f2",
   "metadata": {},
   "source": [
    "Der zweite Pointer des jetzt leeren Knoten zeigt nun auf den rechten Knoten. Jetzt passt es aber nicht mehr mit der 13 in der Wurzel, deshalb müssen wir hier auch noch eine Anpassung vornehmen."
   ]
  },
  {
   "cell_type": "markdown",
   "id": "b0f2ba1e-1f13-40e6-a09c-339b06de8551",
   "metadata": {},
   "source": [
    "```{figure} pictures/Löschen-aus-B-Bäumen-Beispiel_6.png\n",
    ":name: Löschen-aus-B-Bäumen-Beispiel-6\n",
    "\n",
    "Löschen aus B-Bäumen-Beispiel 6\n",
    "```"
   ]
  },
  {
   "cell_type": "markdown",
   "id": "13f409fc-9251-473f-8b91-935c7bfbd7ac",
   "metadata": {},
   "source": [
    "Wir ziehen die 13 aus der Wurzel runter und die 23 dafür hoch."
   ]
  },
  {
   "cell_type": "markdown",
   "id": "c12e08e9-2ddd-4d6f-8a67-704ada0d4fd6",
   "metadata": {},
   "source": [
    "```{figure} pictures/Löschen-aus-B-Bäumen-Beispiel_7.png\n",
    ":name: Löschen-aus-B-Bäumen-Beispiel-7\n",
    "\n",
    "Löschen aus B-Bäumen-Beispiel 7\n",
    "```"
   ]
  },
  {
   "cell_type": "markdown",
   "id": "b484828d-11cd-4783-ac59-944eab956d3c",
   "metadata": {},
   "source": [
    "**Kosten für Löschen**\n",
    "\n",
    "Bei der Suche und dem lokalen Löschen kommen wir durch das Lesen des Baumes und das Schreiben des Blattknoten auf $h + 1$. Beim mergen mit Geschwisterknoten geht man den Baum durch bis nach unten, prüft die Knoten links und rechts und schreibt den Block und den veränderten Nachbarn sowie den Elternknoten. Die **Gesamtkosten** davon betragen $h + 5$. Merged man hoch bis zur Wurzel, liegen die Kosten ungefähr im Bereich $3h$. In der Vorlesung wird z.B. auch von $3h - 2$ gesprochen.\n",
    "\n",
    "**Löschen aus B-Bäumen?**\n",
    "\n",
    "Tendenziell kann man davon ausgehen, dass Datenmengen wachsen. Deshalb geht es selten darum, Knoten eines B-Baums zu löschen, da man davon ausgehen kann, dass die Knoten irgendwann wieder gefüllt werden. Damit die Invarianten noch funktionieren, kann man zur Not Grabsteine hinterlegen."
   ]
  },
  {
   "cell_type": "markdown",
   "id": "5b884a01-cba8-43ae-9af3-9fd42a37f3ad",
   "metadata": {},
   "source": [
    "### Effizienz von B-Bäumen\n",
    "\n",
    "Für das Suchen, Einfügen und Löschen sollen möglichst wenig I/O-Operationen benötigt werden. Abhängig davon wie groß $n$ gewählt wird, müssen seltener Blöcke verschmolzen oder getrennt werden. Im besten Fall entsprechen die I/Os bei der Suche der Höhe des Baums + 1 I/O für das Lesen der Daten oder + 3 für das Einfügen und Löschen der Daten. \n",
    "\n",
    "Gehen wir von $h = 3$ aus und 340 Schlüssel-Pointer-Paaren pro Block. Bei einem Füllstand von durchschnittlich 255 haben wir 255 innere Knoten und 255² = 65025 Blätter = 255³ Pointer. Das sind insgesamt 16 Mio. Datensätze von maximal 340³ = 39 Mio. Datensätzen. \n",
    "\n",
    "Greifen wir nur mit 2 I/O-Operationen auf den Baum zu, befindet sich nur die Wurzel im Hauptspeicher. Befinden sich zusätzlich auch noch 255 innere Knoten im Hauptspeicher, brauchen wir 1 I/O-Operation.\n",
    "\n",
    "#### Bulk-Loading\n",
    "\n",
    "Anders als beim klassichen Einfügen in einen B-Baum kann man, wenn man die Liste bereits kennt, Bulk-Loading anwenden und den Datensatz sofort indexieren. Dabei wird der Datensatz vorsortiert. Man erzeugt Schlüssel-Pointer Paare für alle Blöcke, sortiert diese Paare nach Suchschlüssel und fügt sie sukzessiv ein.\n",
    "    \n",
    "**Beispiel**\n",
    "\n",
    "Wir haben *n = 3* und folgende schon sortierte Daten: 2; 3; 5; 7; 11; 13; 17; 19; 23; 29; 31; 37; 41; 43; 47. Es sollen halbgefüllte Blattknoten erzeugt werden. Wir fügen also ein:"
   ]
  },
  {
   "cell_type": "markdown",
   "id": "cf97c945-acd7-4df2-8dc8-da6fd9d9eb85",
   "metadata": {},
   "source": [
    "```{figure} pictures/bulk-loading-Beispiel.png\n",
    ":name: bulk-loading-Beispiel\n",
    "\n",
    "Bulk Loading Beispiel\n",
    "```"
   ]
  },
  {
   "cell_type": "markdown",
   "id": "29a309df-7c1a-4732-befb-43b5b7676a85",
   "metadata": {},
   "source": [
    "Jetzt erzeugen wir den Elternknoten für die ersten beiden Blattknoten. Dafür nehmen wir die erste Zahl des zweiten Knotens."
   ]
  },
  {
   "cell_type": "markdown",
   "id": "e3dddf0e-ad71-4fbf-b1da-cc37ff52c094",
   "metadata": {},
   "source": [
    "```{figure} pictures/bulk-loading-Beispiel_2.png\n",
    ":name: bulk-loading-Beispiel-2\n",
    "\n",
    "Bulk Loading Beispiel 2\n",
    "```"
   ]
  },
  {
   "cell_type": "markdown",
   "id": "4de1681e-629c-47e0-9e9c-63e9d0741f29",
   "metadata": {},
   "source": [
    "Wir fügen nun das nächste Blatt hinzu und nehmen die 11 in den inneren Knoten auf."
   ]
  },
  {
   "cell_type": "markdown",
   "id": "68d17989-f8d0-43b7-a4a8-6563c295b773",
   "metadata": {},
   "source": [
    "```{figure} pictures/bulk-loading-Beispiel_3.png\n",
    ":name: bulk-loading-Beispiel-3\n",
    "\n",
    "Bulk Loading Beispiel 3\n",
    "```"
   ]
  },
  {
   "cell_type": "markdown",
   "id": "347fa76d-2074-4dfd-9db1-fb3299462ace",
   "metadata": {},
   "source": [
    "Jetzt könnte man natürlich auch noch das vierte Blatt hinzu nehmen und die 17 unserem inneren Knoten beifügen. Dies machen wir aber nicht, da es am Ende nicht mehr mit der Wurzel passen würde. Stattdessen bilden wir unseren rechten inneren Knoten analog und nehmen hier den Blattknoten mit der 17 hinzu."
   ]
  },
  {
   "cell_type": "markdown",
   "id": "cf7d7d3f-2d9e-4655-ad9f-06afec37b244",
   "metadata": {},
   "source": [
    "```{figure} pictures/bulk-loading-Beispiel_4.png\n",
    ":name: bulk-loading-Beispiel-4\n",
    "\n",
    "Bulk Loading Beispiel 4\n",
    "```"
   ]
  },
  {
   "cell_type": "markdown",
   "id": "af0d05da-634b-40f8-a4cf-7d2be3963656",
   "metadata": {},
   "source": [
    "Jetzt brauchen wir noch die Wurzel. Wir wählen die 17, da dies am besten passt."
   ]
  },
  {
   "cell_type": "markdown",
   "id": "db32a037-e084-41ab-b65f-28ca21985d0d",
   "metadata": {},
   "source": [
    "```{figure} pictures/bulk-loading-Beispiel_7.png\n",
    ":name: bulk-loading-Beispiel-7\n",
    "\n",
    "Bulk Loading Beispiel 5\n",
    "```"
   ]
  },
  {
   "cell_type": "markdown",
   "id": "1c125c17-2402-4a1d-bc30-53765429f24d",
   "metadata": {},
   "source": [
    "Diese Einfügevariante ist besonders effizient, da man nur auf die Indexblöcke im Cache zugreift und besonders günstig, da nur einmal alle Knoten aufgeschrieben werden.\n",
    "\n",
    "Dies geht aber noch besser, wenn man einen höheren Füllstand in den Blättern erlaubt. Das schauen wir uns im Folgenden genauer an.\n",
    "\n",
    "**Bulk-Loading mit hohem Füllstand**\n",
    "\n",
    "Erlaubt man einen hohen Füllstand beim Bulk-Loading, bleibt das Vorgehen zunächst das Gleiche, jedoch werden dann **volle** B-Baum Blätter erzeugt. Dadurch erzielt man einen perfekten Füllstand. Der Nachteil: Will man dann etwas einfügen wird es kompliziert. Deshalb handelt es sich dabei meist um Read-only oder Append-only Relationen.\n",
    "\n",
    "Es gibt aber nicht nur unterschiedliche Varianten beim Einfügen in B-Bäume, sondern auch unterschiedliche Varianten von B-Bäumen. Um welche es sich dabei handelt, sehen wir im nächsten Abschnitt. "
   ]
  },
  {
   "cell_type": "markdown",
   "id": "1ad43d1c-146b-46a9-b907-45bc0d32c5a6",
   "metadata": {},
   "source": [
    "### B-Baum Varianten: B-Baum (ohne „+“)\n",
    "\n",
    "Es existieren unterschiedliche Varianten von B-Bäumen. Bisher besprochen haben wir zum einen $B^{+}$-Bäume, in denen die Pointer auf die Datensätze nur in den Blattknoten vorkommen und zum anderen B-Bäume, bei denen die Pointer auf den Datensätzen in allen Knoten vorhanden sind. Der Vorteil von B-Bäumen ist, dass die Suche durchschnittlich schneller ist, da man nicht jedes Mal bis ganz nach unten in dem Baum gehen muss. Allerdings ist die Verwaltung und Implementierung schwieriger, da die Blätter und innere Knoten eine unterschiedliche Struktur haben. Außerdem sind sie weniger \"buschig\", weil Platz für Pointer \"verschwendet\" wird. Das führt dazu, dass sie potenziell höher sind. Auch das Löschen ist komplizierter, da man auch in inneren Knoten löschen kann und ein Schlüssel von einem Blatt gegebenenfalls nach oben wandern muss. "
   ]
  },
  {
   "cell_type": "markdown",
   "id": "c864f52f-a245-4265-8a58-05e512b36971",
   "metadata": {},
   "source": [
    "```{figure} pictures/B-Baum-Varianten.png\n",
    ":name: B-Baum-Varianten\n",
    "\n",
    "B-Baum Varianten\n",
    "```"
   ]
  },
  {
   "cell_type": "markdown",
   "id": "8888f6ee-1107-4f16-8d10-9f1b7e8ade99",
   "metadata": {},
   "source": [
    "**${B}^\\ast$-Bäume**\n",
    "\n",
    "Eine Verbesserung der $B^+$-Bäume sind die $B^*$-Bäume. Bei einem Überlauf werder nicht gleich zwei halbleere Knoten erzeugt. Stattdessen gibt es eine Neuverteilung über beide Nachbar-Blätter. Falls das nicht möglich ist werden drei neue Blätter aus zwei alten erzeugt. Dadurch wird der Speicher mit mindestens 66% viel besser genutzt.\n",
    "\n",
    "**Präfix-$B^{+}$-Baum**\n",
    "\n",
    "Präfix-$B^{+}$-Bäume sind eine weitere B-Baum Variante. Mit diesen kann man schnell herausfinden, wo bestimmte Wörter vorkommen, indem man mit dem Anfangsbuchstaben anfängt und dem Pfad entsprechend weiter folgt. Sollte der Suchschlüssel aber ein String sein hat man einen sehr hohen Speicherbedarf. Deshalb ist es besser wenn man nur \"Trennwerte\" speichert. Am besten den kleinesten Trennwert, beispielsweise \"L\" als Präfix von \"Licht\"."
   ]
  },
  {
   "cell_type": "markdown",
   "id": "2bac4a69-923d-43d2-9183-13b6c4146a86",
   "metadata": {},
   "source": [
    "```{figure} pictures/B-Baum-Varianten_2.png\n",
    ":name: B-Baum-Varianten_2\n",
    "\n",
    "B-Baum Varianten 2\n",
    "```"
   ]
  },
  {
   "cell_type": "markdown",
   "id": "842e8539-8cfc-45ae-a734-4af0bbb70474",
   "metadata": {},
   "source": [
    "**$B^{+}$-Bäume für BLOBs (und CLOBs)**\n",
    "\n",
    "Des Weiteren gibt es auch noch $B^+$-Bäume für BLOBs, also für Datensätze, die sich über mehrere Blöcke erstrecken. Hierbei werden Suchschlüssel durch Offsets repräsentiert. Blätter zeigen auf Datenseiten eines BLOBs oder Bytes. "
   ]
  },
  {
   "cell_type": "markdown",
   "id": "6df2c743-b7de-456d-af14-21e848140223",
   "metadata": {},
   "source": [
    "```{figure} pictures/B-Bäume_für_BLOBs.png\n",
    ":name: B-Bäume_für_BLOBs\n",
    "\n",
    "B-Bäume für BLOBs\n",
    "``` "
   ]
  },
  {
   "cell_type": "markdown",
   "id": "f65594c1-9b0e-4322-bdc6-4ae232df31d4",
   "metadata": {},
   "source": [
    "<br>\n",
    "\n",
    "Wir haben jetzt B-Bäume abgeschlossen und schauen uns als weitere typische Indexstruktur Hashbasierte Indizes an. "
   ]
  },
  {
   "cell_type": "markdown",
   "id": "067b3512-7eb7-4c74-a1f6-b4ab0e60661f",
   "metadata": {},
   "source": [
    "## Hashtabellen\n",
    "\n",
    "Zuvor haben wir uns mit B-Baum Indizes befasst, mit denen man in logarithmischer Zeit einen Block erreicht. Hashbasierte Funktionen arbeiten in konstanter Zeit. Sie sagen uns sofort, wo der Datensatz ist, ohne das mehr gemacht werden muss.\n",
    "\n",
    "### Allgemeine Hash-Tabellen\n",
    "**Hashtabellen – Grundprinzip**\n",
    "\n",
    "Hashtabellen haben eine Hashfunktion die als Input einen Suchschlüssel $K$ (Hash-Schlüssel) bekommt und dann eine Bitsequenz oder einen Integer zwischen 0 und $B-1$ ausgibt. $B$ ist hier die Anzahl Buckets die wir mappen können. Oft wird mit Modulo gerechnet, hat man aber Strings, muss erst jedem Buchstaben ein Integer zugewiesen und dann summiert werden. Am Ende haben wir dann ein Array von Buckets (Bucketarray) und wissen dann, wo welcher Wert liegt.\n",
    "\n",
    "**Hashtabellen auf Festplatten**\n",
    "\n",
    "Wir können davon ausgehen, dass ein Bucket ein Block ist. Nun haben wir keine Pointer mehr auf unbestimmte Buckets oder Listen sondern Blöcke die Datensätze mit dem gleichen Schlüssel enthalten. Overflowblocks können immer noch vorkommen. Wird ein Hashwert beispielsweise immer wieder berechnet, sodass der Wert jedes Mal wieder in den gleichen Blöck gehört, dann kann man diesen durch Overflowblocks immer wieder erweitern. Im schlimmsten Fall wird dieser eine Block dann als Liste degeneriert. \n",
    "\n",
    "In der Beispielabbildung sehen wir wie so eine Hashtabelle aussehen kann. Hier hat sie 4 Hashblöcke mit den Adressen 0 - 3 (0 bis $B-1$) und die Möglichkeit Pointer für Overflowblocks hinzuzufügen."
   ]
  },
  {
   "cell_type": "markdown",
   "id": "cb41b3e0-7e93-4384-9278-c0b89b568257",
   "metadata": {},
   "source": [
    "```{figure} pictures/Hashtabelle-auf-Festplatten.png\n",
    ":name: Hashtabelle-auf-Festplatten\n",
    "\n",
    "Hashtabelle auf Festplatten\n",
    "``` "
   ]
  },
  {
   "cell_type": "markdown",
   "id": "0ea15a1e-6c9b-4fcc-b4e6-58f626568927",
   "metadata": {},
   "source": [
    "**Einfügen in Hashtabellen**\n",
    "\n",
    "Möchten wir einen Wert in eine Hashtabelle einfügen, müssen wir zunächst den Hashwert berechnen. Falls Platz ist, fügen wir den Datensatz in den entsprechenden Block oder Overflowblock ein. Falls nicht, müssen wir einen neuen Overflowblock erzeugen und dort den Datensatz einfügen. \n",
    "\n",
    "Wir möchten jetzt beispielhaft *H* in die Beispieltabelle einfügen. Sagen wir, die Hashfunktion ergibt 2 $(h(H) = 2)$. Dann können wir problemlos *H* in den Block 2 unter dem *B* einfügen. Möchten wir jetzt *H* einfügen und bekommen dafür $h(G) = 1$, müssen wir einen Overflowblock dranhängen, in welchen dann das *G* passt. "
   ]
  },
  {
   "cell_type": "markdown",
   "id": "e51d7b86-c102-42fb-a97f-8ad1d71e5175",
   "metadata": {},
   "source": [
    "```{figure} pictures/Einfügen-in-Hashtabelle.png\n",
    ":name: Einfügen-in-Hashtabelle\n",
    "\n",
    "Einfügen in Hashtabelle\n",
    "``` "
   ]
  },
  {
   "cell_type": "markdown",
   "id": "5d473128-7b0a-4f3d-a3c0-dbaa12879f7a",
   "metadata": {},
   "source": [
    "**Löschen in Hashtabellen** \n",
    "\n",
    "Möchten wir einen Wert aus der Hashtabelle löschen, müssen wir diesen zuerst finden. Dabei schauen wir uns die entsprechenden Blöcke und auch alle Overflowblöcke an und löschen dann den Datensatz. Gegebenenfalls müssen wir Overflowblöcke reorganisieren oder auch löschen. Möchten wir in der Abbildung unten beispielsweise das *C* löschen, kann das *G* dann den Platz einnehmen und der Overflowblock kann gelöscht werden."
   ]
  },
  {
   "cell_type": "markdown",
   "id": "9853303d-b81d-4b38-9571-5195d8ed5fec",
   "metadata": {},
   "source": [
    "```{figure} pictures/Löschen-aus-Hashtabelle.png\n",
    ":name: Löschen-aus-Hashtabelle\n",
    "\n",
    "Löschen aus Hashtabelle\n",
    "``` "
   ]
  },
  {
   "cell_type": "markdown",
   "id": "7dfe93c4-a1bb-4809-aca8-b183db17fefb",
   "metadata": {},
   "source": [
    "#### Vorschau: Consistent Hashing\n",
    "\n",
    "Es kann passieren, dass beispielsweise ein Server offline geht, also ein Bucket unbrauchbar wird und alle darin enthaltenen Werte neu gehashed werden müssen. Da jetzt zu wenig Blöcke vorhanden sind, müssen alle Werte aus allen Blöcken neu gehashed werden. Das führt dazu, dass alle Werte neuverteilt werden, wie man in der Abbildung zu inconsistent hashing sehen kann. Consistent hashing sorgt jetzt dafür, dass die Werte, die schon gehashed und nicht gelöscht wurden, an Ort und Stelle bleiben, sodass man weniger overhead hat. "
   ]
  },
  {
   "cell_type": "markdown",
   "id": "5da441df-f6e6-4cc5-b8d5-71725a0cf68e",
   "metadata": {},
   "source": [
    "```{figure} pictures/consistent-hashing.png\n",
    ":name: consistent-hashing\n",
    "\n",
    "Consistent Hashing\n",
    "```"
   ]
  },
  {
   "cell_type": "markdown",
   "id": "d53ff717-c628-461a-882d-92dd66978566",
   "metadata": {},
   "source": [
    "Dieses Phänomen ist hier nur oberflächlich angeschnitten worden, um zu zeigen, dass das durchaus auftreten kann, wenn man mit Hashtabellen arbeitet.\n",
    "\n",
    "#### Effizienz statischer Hashtabellen\n",
    " \n",
    "Idealerweise gibt es pro Bucket nur einen Block. Angenommen, die Hashtabelle ist im Hauptspeicher. Die Zugriffszeit beim lesen beträgt in dem Fall 1 I/O. Beim einfügen und löschen kommt man auf 2 I/O, da einmal gelesen und geschrieben werden muss. Damit sind Hashtabellen viel besser als dicht- oder dünnbesetzte Indizes und auch besser als B-Bäume. Allerding kann man mit Hashtabellen Bereichsanfragen nicht mehr so leicht umsetzen. Ein weiteres Problem von statischen Hashtabellen ist, dass $B$ einmalig festgelegt wird. Dadurch kann es lange Listen von Overflowblöcken geben. Die Lösung hierzu sind *dynamische Hashtabellen*. Diese können wachsen und B wird nicht einfach festgelegt sondern berechnet sich ungefähr aus $\\frac{Anzahl\\ Datensätze}{Datensätze\\ pro\\ Block}$. Damit erhalten wir ca. einen Block pro Bucket. \n",
    "\n",
    "Im Folgenden schauen wir uns zwei Varianten von dynamischen Hashtabellen an. "
   ]
  },
  {
   "cell_type": "markdown",
   "id": "e7c381c6-d6ba-4c20-b0ef-8d35fb377853",
   "metadata": {},
   "source": [
    "### Erweiterbare Hashtabellen\n",
    "\n",
    "Die erste Lösung für das Problem statischer Hashtabellen und damit die erste Variante dynamischer Hashtabellen sind die *erweiterbaren Hashtabellen*. \n",
    "\n",
    "Zuvor haben wir gesehen, dass Hashfunktionen direkt zum Blockheader zeigen. Jetzt gibt es vorher noch eine Indirektion, d.h. ein Bucket besteht nun aus einem Pointerarray anstatt einem Datenblock. Die Größe dieses Pointerarrays kann sich bei Bedarf verdoppeln. Außerdem können bestimmte Buckets sich nun einen Datenblock teilen, wenn es passt. \n",
    "\n",
    "Wir können davon ausgehen $k$ Bits zu haben. $k$ wird immer so gewählt, dass die Hashfunktion größer ist als die Anzahl an Blöcken. Unser Bucketarray verwendet erstmal nur die ersten $i$ Bits. Je mehr Daten wir hinzufügen desto mehr erhöht sich unser $i$. Insgesamt können wir dann $2^i$ Buckets adressieren."
   ]
  },
  {
   "cell_type": "markdown",
   "id": "c835e562-50b5-4ca4-a7f0-607b354ad979",
   "metadata": {},
   "source": [
    "```{figure} pictures/Erweiterbare-Hashtabellen.png\n",
    ":name: Erweiterbare-Hashtabellen\n",
    "\n",
    "Erweiterbare Hashtabellen\n",
    "```"
   ]
  },
  {
   "cell_type": "markdown",
   "id": "1674cea6-2598-4431-930a-80051b0b6513",
   "metadata": {},
   "source": [
    "#### Einfügen in erweiterbare Hashtabellen\n",
    "\n",
    "Das Vorgehen ist dem Einfügen in normale Hashtabellen ähnlich. Zunächst berechnen wir $h(K)$ und wählen die ersten $i$ Bits. Dann suchen wir den Eintrag im Bucketarray und laden den entsprechenden Block. Falls Platz ist fügen wir den neuen Datensatz ein.\n",
    "\n",
    "Falls kein Platz ist und $j < i$ kann man den Block splitten. Die Datensätze werden dann gemäß dem $(j+1)$-ten Bit verteilt: Ist dies 0, bleibt der Wert im ersten Block, ist es 1, verschieben wir den Wert in den neuen Block. Wir wissen jetzt auch, dass nun $j+1$ Bits relevant sind, also ein Bit mehr als zuvor und setzen dies als neue Bitanzahl für die beiden neuen Blöcke fest. Zum Schluss müssen wir dann noch die Pointer im Bucketarray aktualisieren. Wenn wir Pech haben, landen alle Datensätze immer im gleichen Block und unser $j$ erhöht sich immer weiter. \n",
    "\n",
    "Falls kein Platz ist und $j = i$ müssen wir auch unser $i$ erhöhen, was dazu führt, dass sich das Bucketarray verdoppelt. Die Datenblöcke bleiben dabei unverändert. Zwei neue Pointer zeigen zunächst auf den gleichen alten Block, dann müssen wir den relevanten Block splitten. Haben wir das gemacht, können wir so vorgehen wie zuvor, denn jetzt ist wieder $j < i$. \n",
    "\n",
    "Schauen wir uns dazu ein paar Beispiele an. "
   ]
  },
  {
   "cell_type": "markdown",
   "id": "70b2bc9d-c3a6-4183-a70a-16ec4345b03a",
   "metadata": {},
   "source": [
    "Wir möchten den Datensatz mit dem Hashwert 1010 einfügen. Wir haben $i = 1$ und $j = 1$. 1010 beginnt mit einer 1, das bedeutet, dass der Datensatz in den zweiten Bucket gehört. Dieser ist jedoch voll, also müssen wir den splitten. Infolgedessen müssen wir unser $i$ und unser $j$ um 1 erhöhen und haben jetzt 4 Buckets. Für den ersten Block ist immer noch nur das Erste Bit relevant, bei den beiden anderen Blöcken mussten wir aber unser $j$ erhöhen, also sind da jetzt die ersten **beiden** Bits relevant."
   ]
  },
  {
   "cell_type": "markdown",
   "id": "09141f7c-d075-4a1a-a0d3-e4f57cb29340",
   "metadata": {},
   "source": [
    "```{figure} pictures/Einfügen-erweiterbare-Hashtabellen.png\n",
    ":name: Einfügen-erweiterbare-Hashtabellen\n",
    "\n",
    "Einfügen in erweiterbare Hashtabellen\n",
    "```"
   ]
  },
  {
   "cell_type": "markdown",
   "id": "a0d4447b-1d5f-4e53-bde7-3ecb919780ed",
   "metadata": {},
   "source": [
    "Nun möchten wir die Datensätze mit den Hashwerten 0000 und 0111 einfügen. Da Platz ist können wir 0000 einfach in den ersten Block schreiben. 0111 würde auch in den ersten Block gehören, dieser ist jetzt aber voll, deshalb müssen wir wieder splitten. Unser $i$ bleibt gleich, aber unser $j$ müssen wir um 1 erhöhen. Damit sind in den ersten beiden Blöcken nun die ersten **beiden** Bits relevant. 0111 schreiben wir somit in den neuen Block auf den jetzt der Bucket 01 zeigt. "
   ]
  },
  {
   "cell_type": "markdown",
   "id": "4efaf70e-5a07-4408-abf1-26ecfcf23bc0",
   "metadata": {},
   "source": [
    "```{figure} pictures/Einfügen-erweiterbare-Hashtabellen_2.png\n",
    ":name: Einfügen-erweiterbare-Hashtabellen_2\n",
    "\n",
    "Einfügen in erweiterbare Hashtabellen 2\n",
    "```"
   ]
  },
  {
   "cell_type": "markdown",
   "id": "7c7b0e84-4b16-476e-ba0f-d6d50adee30b",
   "metadata": {},
   "source": [
    "Als letztes Beispiel wollen wir den Datensatz mit dem Hashwert 1000 einfügen. Der Wert gehört in den dritten Block, dieser ist aber voll, also splitten wir wieder. Da $i = j$ ist müssen wir beides wieder um 1 erhöhen. Damit haben wir jetzt 8 Buckets und in den beiden neuen Blöcken sind jetzt die ersten **drei** Bits relevant. Somit passt 1000 jetzt in den dritten Block. "
   ]
  },
  {
   "cell_type": "markdown",
   "id": "60d40d22-daae-479b-b12c-ea41a9f0d5ef",
   "metadata": {},
   "source": [
    "```{figure} pictures/Einfügen-erweiterbare-Hashtabellen_3.png\n",
    ":name: Einfügen-erweiterbare-Hashtabellen_3\n",
    "\n",
    "Einfügen in erweiterbare Hashtabellen 3\n",
    "```"
   ]
  },
  {
   "cell_type": "markdown",
   "id": "f7c2540b",
   "metadata": {},
   "source": [
    "#### Analyse erweiterbarer Hashtabellen\n",
    "  \n",
    "Ein **Vorteil** von erweiterbaren Hashtabellen ist, dass wir keine Overflowblocks mehr haben. Bei der Suche müssen wir also nie mehr als einen Datenblock betrachten. Außerdem benötigen wir nur 1 I/O, wenn unser Bucketarray in den Hauptspeicher passt.\n",
    "Der **Nachteil** ist allerdings, dass das Einfügen sehr lange dauern kann. Durch die Verdopplungen und das splitten hat man viel Arbeit. Außerdem wächst das Bucketarray schnell (exponentiell) und passt irgendwann vielleicht nicht mehr in den Hauptspeicher. Zudem kann es bei wenigen Datensätzen pro Block zu Platzverschwendung kommen. Gibt es beispielsweise einen Block, der Daten anhäuft und dessen $j$ immer größer wird, führt das dazu, dass auch unser Bucketarray, also unser $i$, immer größer wird, während die anderen Blöcke unverändert bleiben und das nur wegen diesem einen Block. Das führt sehr schnell zu Platzverschwendung. "
   ]
  },
  {
   "cell_type": "markdown",
   "id": "937551a4-a8d7-4d2d-84a6-c7e4b5cd003f",
   "metadata": {},
   "source": [
    "### Lineare Hashtabellen\n",
    "\n",
    "Die zweite Variante dynamischer Hashtabellen sind die *linearen Hashtabellen*. Das Ziel dieser ist es, dass die Anzahl an Buckets nur langsam wächst. Dies erreicht man, indem $n$, die Anzahl der Buckets, so gewählt wird, dass die Datenblöcke nur zu ca. 85% gefüllt sind. Overflowblocks sind weiterhin zugelassen, aber die durchschnittliche Anzahl pro Block soll weniger als eins betragen. Zur Identifizierung der Buckets benötigen wir log$_{2}$(n) und wählen jeweils die letzten Bits des Hashwerts. "
   ]
  },
  {
   "cell_type": "markdown",
   "id": "b1abcc37-e348-4207-98bc-86fa4764d070",
   "metadata": {},
   "source": [
    "```{figure} pictures/Lineare-Hashtabellen.png\n",
    ":name: Lineare-Hashtabellen\n",
    "\n",
    "Lineare Hashtabellen\n",
    "```"
   ]
  },
  {
   "cell_type": "markdown",
   "id": "a9e363ba-2666-4ee5-ae69-9d695c462a84",
   "metadata": {},
   "source": [
    "#### Lineare Hashtabellen – Einfügen\n",
    "\n",
    "Bei dem **Einfügen** in lineare Hashtabellen müssen wir als erstes wieder $h(K)$ berechnen. Dann schauen wir uns die **letzten** $i$ Bits an und interpretieren diese als Integer $m$. Falls $m < n$ fügen wir den Datensatz in den Bucket $m$ ein. Falls $m ≥ n$ existiert der Bucket $m$ noch nicht. Dann müssen wir den Datensatz in den Bucket $m – 2^{i-1}$ einfügen, d.h. das erste Bit des Schlüssels wird zu 0 (vorher 1). Ist kein Platz mehr, müssen wir einen Overflowblock erzeugen. Dafür berechnen wir $\\frac{r}{n}$. Ist das Ergebnis zu hoch, beispielsweise ≥ 1,7, erzeugen wir einen neuen Bucket ($n$++), welcher aber nichts mit dem betroffenen Bucket zu tun hat. Falls nun $n > 2^{i}$ müssen wir auch unser $i$ um eins erhöhen, das bedeutet, alle Bitsequenzen erhalten eine 0 am Anfang. Physisch ändert sich aber nichts.\n",
    "\n",
    "Dazu schauen wir uns ein paar **Beispiele** an. Im ersten Beispiel möchten wir 0101 einfügen. Wir haben $i = 1$, $n = 2$ und $r = 3$. Das letzte Bit von 0101 interpretieren wir als $m$ und da $m < n$ gilt können wir 0101 in den zweiten Block schreiben. Da wir jetzt einen Datensatz mehr haben, müssen wir unser $r$ um eins erhöhen ($r$++). Nun ist aber $\\frac{r}{n}$ > 1,7. Aus dem Grund müssen wir auch $n$ um eins erhöhen. Da jetzt $n > 2^{i}$ gilt, müssen wir auch $i$ um eins erhöhen. Das alles führt dazu, dass nun die letzten **beiden** Bits relevant sind und wir einen Bucket mehr benötigen. Wir splitten den Bucket 00, da 1010 dort jetzt nicht mehr hingehört. Die 1111 im zweiten Block darf dort bleiben, da die letzten beiden Bits 3 ergeben und damit $m ≥ n$ erfüllen. Nach dieser Regel gehört 1111 in den ($m – 2^{i-1}$ )-ten Block, also in den Block 01."
   ]
  },
  {
   "cell_type": "markdown",
   "id": "3b570357-d1ed-4dff-a9eb-a67e6b451567",
   "metadata": {},
   "source": [
    "```{figure} pictures/Einfügen-Lineare-Hashtabellen.png\n",
    ":name: Einfügen-Lineare-Hashtabellen\n",
    "\n",
    "Einfügen in Lineare Hashtabellen\n",
    "```"
   ]
  },
  {
   "cell_type": "markdown",
   "id": "134581b5-e2c2-4a9c-b97d-a504ae890ef9",
   "metadata": {},
   "source": [
    "Jetzt möchten wir 0001 einfügen. Der Datensatz gehört in den Bucket 01. Hier ist aber kein Platz mehr, also erzeugen wir einen Overflowblock. Das können wir machen, da  $\\frac{r}{n}$ > 1,7 gilt. $i$ bleibt unverändert, da $n > 2^{i}$ nicht verletzt wird. "
   ]
  },
  {
   "cell_type": "markdown",
   "id": "485876f5-ec08-4a13-899a-44fee07368bc",
   "metadata": {},
   "source": [
    "```{figure} pictures/Einfügen-Lineare-Hashtabellen_2.png\n",
    ":name: Einfügen-Lineare-Hashtabellen_2\n",
    "\n",
    "Einfügen in Lineare Hashtabellen 2\n",
    "```"
   ]
  },
  {
   "cell_type": "markdown",
   "id": "fdc4c6d1-1d5c-4f96-a7fc-425d15cb128b",
   "metadata": {},
   "source": [
    "Nun soll 0111 eingefügt werden. Es gilt wieder m ≥ n, sodass der Wert in den $(m – 2^{i-1})$-ten Bucket gehört. Da wir jetzt einen Datensatz mehr haben, erhöht sich unser $r$, sodass  $\\frac{r}{n}$ > 1,7 nicht mehr erfüllt ist. Das bedeutet, wir erhöhen $n$, erzeugen einen neuen Bucket und müssen wieder splitten. Die Einträge aus dem Overflowblock passen jetzt in den Bucket 11 und der Overflowblock kann gelöscht werden."
   ]
  },
  {
   "cell_type": "markdown",
   "id": "1087545d-6b8b-4b3e-ab28-bc3be32dfc1e",
   "metadata": {},
   "source": [
    "```{figure} pictures/Einfügen-Lineare-Hashtabellen_3.png\n",
    ":name: Einfügen-Lineare-Hashtabellen_3\n",
    "\n",
    "Einfügen in Lineare Hashtabellen 3\n",
    "```"
   ]
  },
  {
   "cell_type": "markdown",
   "id": "a7b506ad-19d8-45f4-b7ac-762d2f0c6cad",
   "metadata": {},
   "source": [
    "Jetzt stellt sich die Frage, wann sollte man sich für Hashtabellen entscheiden und wann für B-Bäume?"
   ]
  },
  {
   "cell_type": "markdown",
   "id": "71519417",
   "metadata": {},
   "source": [
    "### Hashing vs. B-Baum\n",
    "\n",
    "Hashing ist effizient, wenn man die Existenz eines Wertes feststellen möchte. Bei doppelten Schlüsseln sind Overflowblocks nötig. B-Bäume hingegen halten die Daten sortiert und sind effizienter, wenn es um Bereichsanfragen geht.\n",
    "\n",
    "In SQL sieht die Indexerzeugung wie folgt aus:\n",
    "\n",
    "```\n",
    "CREATE [ UNIQUE ] INDEX indexname\n",
    "ON table ( column [ ASC | DESC ]\n",
    "[ , column [ ASC | DESC ] ... ] )\n",
    "[CLUSTER]\n",
    "[PCTFREE integer]\n",
    "```\n",
    "\n",
    "Mit ```CREATE``` erstellt man einen ```UNIQUE``` Index, also einen Index der ```NULL``` Werte erlaubt und gibt diesem einen Namen. Für die Übersichtlichkeit enthält der Indexname im Optimalfall auch den Tabellennamen. Des Weiteren kann man angeben, ob eine bestimmte Tabellenspalte sortiert werden soll oder nicht, ob die Daten geclustered werden, also zusammenliegend vorkommen sollen und welchen Füllgrad (PCTFREE) ein Block haben soll. Im Standard SQL ist es allerdings nicht möglich, Angaben zu der Art des Index oder den Parametern zu machen. "
   ]
  },
  {
   "cell_type": "markdown",
   "id": "cb36db91-ac86-4d35-9926-41a4692616e0",
   "metadata": {},
   "source": [
    "Wir haben nun Hashfunktionen kennengelernt und gelernt, dass bei Hashtabellen das Wachstum nicht außer Acht gelassen werden darf. Die beiden Varianten *erweiterbare* und *lineare* Hashtabellen sind gute Lösungen, um die Probleme von statischen Hashtabellen zu umgehen. Des Weiteren haben wir in dem Kapitel auch noch einige andere Möglichkeiten der Indexierung kennengelernt, wie unter anderem die Indirektion mit Sekundärindizes, der Indexierung mittels invertierter Indizes und natürlich B-Bäume.\n",
    "Im nächsten Kapitel befassen wir uns mit der Anfrageausführung."
   ]
  },
  {
   "cell_type": "code",
   "execution_count": null,
   "id": "962e1c27-c7c7-41a4-833e-5468a445d99d",
   "metadata": {},
   "outputs": [],
   "source": []
  }
 ],
 "metadata": {
  "kernelspec": {
   "display_name": "Python 3 (ipykernel)",
   "language": "python",
   "name": "python3"
  },
  "language_info": {
   "codemirror_mode": {
    "name": "ipython",
    "version": 3
   },
   "file_extension": ".py",
   "mimetype": "text/x-python",
   "name": "python",
   "nbconvert_exporter": "python",
   "pygments_lexer": "ipython3",
   "version": "3.10.12"
  }
 },
 "nbformat": 4,
 "nbformat_minor": 5
}
