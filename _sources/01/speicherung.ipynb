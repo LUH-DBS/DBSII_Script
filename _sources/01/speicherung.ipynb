{
 "cells": [
  {
   "cell_type": "markdown",
   "id": "cc1e2ae0",
   "metadata": {},
   "source": [
    "# Speicherung"
   ]
  },
  {
   "cell_type": "markdown",
   "id": "fc7637b7-44b5-4eee-a047-9d60c7496070",
   "metadata": {},
   "source": [
    "Physische Speicherstrukturen"
   ]
  },
  {
   "cell_type": "markdown",
   "id": "d210d3f0-daac-4f48-a849-191a49a7473e",
   "metadata": {},
   "source": [
    "Zoom in die interne Ebene: Die 5-Schichten Architektur\n",
    "<img src=\"pictures/5-Schichten-Architektur.png\" alt=\"5-Schichten-Architektur\" width=\"500\" style=\"background-color: white;\"/>"
   ]
  },
  {
   "cell_type": "markdown",
   "id": "19f7fb2a-8789-4019-872c-b9ae06f58b65",
   "metadata": {},
   "source": [
    "Übersicht\n",
    "1. Speicherhierarchie\n",
    "2. Disks\n",
    "3. Effiziente Diskoperationen\n",
    "    - TPMMS\n",
    "4. Zugriffsbeschleunigung\n",
    "5. Diskausfälle\n",
    "\n",
    "<img src=\"pictures/Speicherhierachie.png\" alt=\"Speicherhierachie\" width=\"500\" style=\"background-color: white;\"/>"
   ]
  },
  {
   "cell_type": "markdown",
   "id": "6ab850f6-b9d9-4866-bd33-4683524f9466",
   "metadata": {},
   "source": [
    "Speicherhierachie - Kosten\n",
    "\n",
    "<img src=\"pictures/Speicherhierachie-Kosten.png\" alt=\"Speicherhierachie-Kosten\" width=\"500\" style=\"background-color: white;\"/>"
   ]
  },
  {
   "cell_type": "markdown",
   "id": "858baf08-ffe3-4d25-bca3-9e6093b56b68",
   "metadata": {},
   "source": [
    "Speicherhierarchie – Zugriffszeiten\n",
    "\n",
    "<img src=\"pictures/Speicherhierachie-Zugriffszeiten.png\" alt=\"Speicherhierachie-Zugriffszeiten\" width=\"500\" style=\"background-color: white;\"/>\n",
    "Zahlen aus dem Foliensatz von Viktor Leis 2019"
   ]
  },
  {
   "cell_type": "markdown",
   "id": "c6207c59-fb41-4abf-be7b-740921bcef19",
   "metadata": {},
   "source": [
    "Speicherhierarchie – Kapazitäten\n",
    "\n",
    "<img src=\"pictures/Speicherhierachie-Kapazitäten.png\" alt=\"Speicherhierachie-Kapazitäten\" width=\"500\" style=\"background-color: white;\"/>\n",
    "Zahlen aus dem Foliensatz von Viktor Leis 2019"
   ]
  },
  {
   "cell_type": "markdown",
   "id": "834b2c2f-14bf-4a16-9ab7-4776f5b9020c",
   "metadata": {},
   "source": [
    "Pat Helland, DEBS 2022\n",
    "\n",
    "<img src=\"pictures/PatHelland-DEBS2022.png\" alt=\"PatHelland-DEBS2022\" width=\"500\" style=\"background-color: white;\"/>\n",
    "<img src=\"pictures/PatHelland-DEBS2022_2.png\" alt=\"PatHelland-DEBS2022\" width=\"500\" style=\"background-color: white;\"/>"
   ]
  },
  {
   "cell_type": "markdown",
   "id": "7f7ff752-d951-4441-bb2d-e2cad9f270e6",
   "metadata": {},
   "source": [
    "## Virtueller Speicher\n",
    "Jede Anwendung verwaltet einen virtuellen Adressraum\n",
    "- Kann größer als tatsächlich verfügbarer Hauptspeicher sein\n",
    "- 32-bit Adressraum -> 2^32 unterschiedliche Adressen darstellbar\n",
    "  - Jedes Byte hat eigene Adresse = max. Hauptspeichergröße 4GB\n",
    "- 64-bit Adressraum -> max. 16 Exabyte\n",
    "- Aber: meist weniger Hauptspeicher vorhanden\n",
    "- Abhilfe: Daten werden auf Disk ausgelagert\n",
    "  - Lesen und Schreiben von ganzen Blöcken zwischen Hauptspeicher und Festplatte (Blockgröße 4 – 56 KB) -> Seiten des virtuellen Speichers\n",
    "  - Verwaltet durch Betriebssystem\n",
    "- Datenbanken verwalten oft Positionen der Daten auf Festplatte selbst (O_DIRECT).\n",
    "- Eigene Bufferpoolmanager"
   ]
  },
  {
   "cell_type": "markdown",
   "id": "fa5de828-9c31-4671-ac8b-1abd08c9ca1a",
   "metadata": {},
   "source": [
    "## Sekundärspeicher: Festplatten\n",
    "- Nicht nur (magnetische) Festplatten; auch optische (read-only) Speicher\n",
    "- Im Wesentlichen wahlfreier Zugriff (random access)\n",
    "  - Zugriff auf jedes Datum kostet gleich viel\n",
    "  - Aber: Erst einmal hinkommen!\n",
    "- HDDs halten Daten aus Cache / Seiten des virtuellen Speichers von Anwendungsprogrammen\n",
    "- HDDs halten Daten aus Dateisystem\n",
    "- Operationen\n",
    "  - Disk-read (Kopieren eines Blocks in Hauptspeicher)\n",
    "  - Disk-write (Kopieren eines Blocks aus dem Hauptspeicher)\n",
    "  - Beides: Disk-I/O"
   ]
  },
  {
   "cell_type": "markdown",
   "id": "4eb5ce7a-edb8-4317-b44b-f3840eb11867",
   "metadata": {},
   "source": [
    "## Festplatten - Puffer\n",
    "- Bufferpool Manager puffert Teile von Dateien\n",
    "  - In Blockgröße (z.B. 4 KB)\n",
    "  <img src=\"pictures/Festplatten-Puffer.png\" alt=\"Festplatten-Puffer\" width=\"500\" style=\"background-color: white;\"/>\n",
    "- DBMS verwaltet Positionen der Blöcke innerhalb der Datei selbst!\n",
    "- Dauer für Schreiben oder Lesen eines Blocks: 10 - 30 ms\n",
    "  - In dieser Zeit viele Millionen Prozessoranweisungen ausführbar\n",
    "  - I/O-Zeit dominiert Gesamtkosten\n",
    "  - Deshalb am besten: Block sollte bereits im Hauptspeicher sein!"
   ]
  },
  {
   "cell_type": "markdown",
   "id": "a8006d69-ba8a-40bb-acc4-6d1f5d1a93ab",
   "metadata": {},
   "source": [
    "## Tertiärspeicher: Magnetbänder\n",
    "\n",
    "- Viele Terabyte (10^12 Bytes) Verkaufsdaten\n",
    "- Viele Petabyte (10^15 Bytes) Satellitenbeobachtungsdaten\n",
    "- Festplatten ungeeignet\n",
    "    - Zu teuer (Wartung, Strom)\n",
    "- Vergleich Tertiärspeicher – Sekundärspeicher\n",
    "    - I/O-Zeiten wesentlich höher\n",
    "    - Kapazitäten wesentlich höher\n",
    "    - Kosten pro Byte geringer\n",
    "- Kein wahlfreier Zugriff (random access)\n",
    "    - Zugriffszeiten hängen stark von der Position des jeweiligen Datensatzes ab (in Bezug auf die aktuelle Position des Schreib-/Lesekopfes)\n",
    "\n",
    "<img src=\"pictures/Magnetband.png\" alt=\"Magnetband\" width=\"500\" style=\"background-color: white;\"/>"
   ]
  },
  {
   "cell_type": "markdown",
   "id": "22c6d9c6-4ae4-4d35-832f-8d3bce107f78",
   "metadata": {},
   "source": [
    "## Tertiärspeicher\n",
    "\n",
    "- Ad-hoc Speicherung auf Magnetbändern\n",
    "  - Magnetbandspulen\n",
    "  - Kassetten\n",
    "  - Von Menschenhand ins Regal\n",
    "  - Gut beschriften!\n",
    "- Magnetbandroboter (Silo)\n",
    "  - Roboter bedient Magnetbänder (Kassetten)\n",
    "  - 10 mal schneller als Mensch\n",
    "- CD / DVD - Juke-Boxes\n",
    "  - Roboterarm extrahiert jeweiliges Medium (CD oder DVD)\n",
    "  - Hohe Lebensdauer (30 Jahre)\n",
    "  - Wahrscheinlicher, dass kein Lesegerät mehr existiert\n",
    "  \n",
    "   <img src=\"pictures/Tertiärspeicher.png\" alt=\"Tertiärspeicher\" width=\"500\" style=\"background-color: white;\"/>"
   ]
  },
  {
   "cell_type": "markdown",
   "id": "85509e3c-a0df-4e8a-adc5-29bf896f2998",
   "metadata": {},
   "source": [
    "## Moore's Law (Gordon Moore, 1965)\n",
    "- Exponentielles Wachstum vieler Parameter\n",
    "- Verdopplung alle 18 Monate\n",
    "  - Prozessorgeschwindigkeit (# instr. per sec.)\n",
    "  - Hauptspeicherkosten pro Bit\n",
    "  - Anzahl Bits pro cm² Chipfläche\n",
    "  - Diskkosten pro Bit (halbiert)\n",
    "  - Kapazität der größten Disks\n",
    "- Aber: Sehr langsames Wachstum von\n",
    "  - Zugriffsgeschwindigkeit im Hauptspeicher\n",
    "  - Rotationsgeschwindigkeit von Festplatten\n",
    "- Folge: Latenz-Anteil wächst\n",
    "  - Bewegung von Daten innerhalb der Speicherhierarchie erscheint immer langsamer (im Vergleich zur Prozessorgeschwindigkeit)\n",
    "  \n",
    "  <img src=\"pictures/moores-law_1.png\" alt=\"moores-law_1\" width=\"500\" style=\"background-color: white;\"/>\n",
    "  <img src=\"pictures/moores-law_2.png\" alt=\"moores-law_2\" width=\"500\" style=\"background-color: white;\"/>\n",
    "    <img src=\"pictures/moores-law_3.png\" alt=\"moores-law_3\" width=\"500\" style=\"background-color: white;\"/>\n",
    "  <img src=\"pictures/moores-law_4.png\" alt=\"moores-law_4\" width=\"500\" style=\"background-color: white;\"/>\n",
    "\n",
    "See also: http://www.computerhistory.org/timeline/memory-storage/ "
   ]
  },
  {
   "cell_type": "markdown",
   "id": "6c896804-8f29-4954-b8bc-a331f697a42e",
   "metadata": {},
   "source": [
    "## Plattenkapazität\n",
    "\n",
    "<img src=\"pictures/Plattenkapazität.png\" alt=\"Plattenkapazität\" width=\"500\" style=\"background-color: white;\"/>\n",
    "\n",
    "http://en.wikipedia.org/wiki/Hard_disk_drive\n",
    "\n",
    "\n",
    "\n",
    "\n",
    "But: Access times are leveling\n",
    "\n",
    "Maximum sustained bandwidth trend\n",
    "\n",
    "<img src=\"pictures/Access_times.png\" alt=\"Access_times\" width=\"500\" style=\"background-color: white;\"/>\n",
    "\n",
    "\n",
    "Average seek time trend\n",
    "\n",
    "<img src=\"pictures/Seek_times.png\" alt=\"Seek_times\" width=\"500\" style=\"background-color: white;\"/>\n",
    "\n",
    "\n",
    "http://www.storagenewsletter.com/news/disk/hdd-technology-trends-ibm"
   ]
  },
  {
   "cell_type": "markdown",
   "id": "720955ea-b33f-4824-9f53-42619525667e",
   "metadata": {},
   "source": [
    "## SSDs\n",
    "\n",
    "  - Persistente Speicherung basierend auf Halbleitern\n",
    "  - Keine mechanische Bewegung/Rotation\n",
    "  - Hoher Grad an Parallelität\n",
    "  \n",
    "  <img src=\"pictures/SSDs.png\" alt=\"SSDs\" width=\"500\" style=\"background-color: white;\"/>"
   ]
  },
  {
   "cell_type": "markdown",
   "id": "f21865c7-bdb7-4dfa-9260-9d83070a8faa",
   "metadata": {},
   "source": [
    "## HDDs vs. SSDs\n",
    "\n",
    "Vorteile von SSDs:\n",
    "- Schnelles Hochfahren, da keine Drehung erforderlich.\n",
    "- Schneller Random Access ohne Suchzeit.\n",
    "- Geringe Leselatenz.\n",
    "- Lesezeit immer fast gleich.\n",
    "- Keine Probleme durch Dateifragmentierung.\n",
    "- Stille Operationen.\n",
    "- Weniger Stromverbrauch.\n",
    "- Mechanische Zuverlässigkeit.\n",
    "- Immun gegen Magnete.\n",
    "- Weniger Gewicht.\n",
    "- Parallele Lesezugriffe.\n",
    "\n",
    "Nachteile von SSDs:\n",
    "- Begrenzte Lebenszeit.\n",
    "- Verliert Daten nach 2-5 Jahren ohne Strom.\n",
    "- Können nicht defragmentiert werden.\n",
    "- Teuer.\n",
    "- Weniger Kapazität.\n",
    "- Asymmetrische Lese/Schreibgeschwindigkeit aufgrund der Flashtechnologie.\n",
    "- Leistung von SSDs schwindet mit der Zeit.\n",
    "- SATA-basierte SSDs haben sehr langsame Schreiboperationen.\n",
    "- DRAM-basierte SSDs benötigen mehr Strom als HDDs.\n",
    "- Kein sicheres Überschreiben.\n",
    "\n",
    "https://databasearchitects.blogspot.com/2021/06/what-every-programmer-should-know-about.html\n"
   ]
  },
  {
   "cell_type": "markdown",
   "id": "2bb22ab6-fa4a-4bb8-a3f8-3404e5ef37d2",
   "metadata": {},
   "source": [
    "Übersicht\n",
    "1. Speicherhierarchie\n",
    "2. Disks\n",
    "3. Effiziente Diskoperationen\n",
    "    - TPMMS\n",
    "4. Zugriffsbeschleunigung\n",
    "5. Diskausfälle\n",
    "\n",
    "<img src=\"pictures/Festplatten_Vergleich_Früher_Heute.png\" alt=\"Festplatten_Vergleich_Früher_Heute\" width=\"500\" style=\"background-color: white;\"/>"
   ]
  },
  {
   "cell_type": "markdown",
   "id": "72e4c6c5-003a-414b-83e7-8734f0271ac9",
   "metadata": {},
   "source": [
    "## Aufbau\n",
    "\n",
    "- Mehrere (5-10) gleichförmig rotierende Platten (z. B. 3.5\" Durchmesser).\n",
    "- Für jede Plattenoberfläche (10-20) ein Schreib-/Lese-Kopf.\n",
    "  - Gleichförmige Bewegung.\n",
    "- Die magnetische Plattenoberfläche ist in Spuren eingeteilt.\n",
    "- Spuren sind als Sektoren fester Größe formatiert.\n",
    "  - Die Anzahl der Sektoren pro Spur kann sich unterscheiden.\n",
    "- Übereinander angeordnete Spuren bilden einen Zylinder.\n",
    "\n",
    "<img src=\"pictures/Aufbau_1.png\" alt=\"Aufbau_1\" width=\"500\" style=\"background-color: white;\"/>\n",
    "<img src=\"pictures/Aufbau_2.png\" alt=\"Aufbau_2\" width=\"500\" style=\"background-color: white;\"/>\n",
    "\n",
    "- Sektoren (1-8 KB) sind die kleinste physische Leseeinheit.\n",
    "  - Die Größe wird vom Hersteller festgelegt.\n",
    "  - Auf äußeren Spuren befinden sich mehr Sektoren.\n",
    "- Lücken zwischen den Sektoren nehmen etwa 10% der Spur ein.\n",
    "  - Diese Bereiche sind nicht magnetisiert und dienen zum Auffinden der Sektoranfänge.\n",
    "- Blöcke sind die logische Übertragungseinheit.\n",
    "  - Sie können aus einem oder mehreren Sektoren bestehen.\n",
    "  \n",
    "  <img src=\"https://upload.wikimedia.org/wikipedia/commons/7/75/Hard_disk_head.jpg\" alt=\"Aufbau_3\" width=\"500\" style=\"background-color: white;\"/>\n",
    "  \n",
    "    <img src=\"pictures/Aufbau_4.png\" alt=\"Aufbau_4\" width=\"500\" style=\"background-color: white;\"/>\n",
    "    \n",
    "hier: jede Spur hat gleiche Anzahl an Sektoren"
   ]
  },
  {
   "cell_type": "markdown",
   "id": "57204ac8-d09b-4b7d-a4a9-0c8c2fb82d4d",
   "metadata": {},
   "source": [
    "## Zone Bit Recording\n",
    "\n",
    "- Äußere Zylinder haben mehr Fläche.\n",
    "  - => Bei gleichen Radii führt dies zu einer (unnötig) niedrigeren Bitdichte.\n",
    "- Lösung: Zonen mit unterschiedlichen Sektoreinteilungen.\n",
    "\n",
    "- Wir ignorieren dies.\n",
    "\n",
    "    <img src=\"pictures/ZoneBitRecording.png\" alt=\"ZoneBitRecording\" width=\"500\" style=\"background-color: white;\"/>\n"
   ]
  },
  {
   "cell_type": "markdown",
   "id": "2a9d87c5-b457-485d-a193-5ddce0b4271f",
   "metadata": {},
   "source": [
    "## Disk Controller\n",
    "\n",
    "- Kontrolliert eine oder mehrere Disks.\n",
    "- Kontrolliert Bewegung der Schreib-/Lese-Köpfe.\n",
    "  - Spuren, die zu einem Zeitpunkt unter den Schreib-/Lese-Köpfen sind, bilden Zylinder.\n",
    "- Wählt Plattenoberfläche, auf die zugegriffen werden muss.\n",
    "- Wählt Sektor innerhalb der Spur, die sich aktuell unter dem Schreib-/Lese-Kopf befindet.\n",
    "  - Kontrolliert Start und Ende eines Sektors.\n",
    "- Überträgt Bits zwischen Disk und Hauptspeicher bzw. umgekehrt.\n",
    "\n",
    "<img src=\"pictures/DiskController.png\" alt=\"DiskController\" width=\"500\" style=\"background-color: white;\"/>"
   ]
  },
  {
   "cell_type": "markdown",
   "id": "10c2b398-c849-4013-8ddd-00d6c94967e8",
   "metadata": {},
   "source": [
    "## Beispiel - Megatron 747 disk\n",
    "\n",
    "- Eigenschaften:\n",
    "  - 8 Platten mit 16 Plattenoberflächen (Durchmesser: 3,5“)\n",
    "  - 2^16 = 65.536 Spuren pro Oberfläche\n",
    "  - Durchschnittlich 2^8 = 256 Sektoren pro Spur\n",
    "  - 2^12 = 4.096 Byte pro Sektor\n",
    "- Gesamtkapazität:\n",
    "  - 16 x 65.536 x 256 x 4.096 = 2^40 Byte = 1 TB\n",
    "- Blocks:\n",
    "  - Z.B. 2^14 Byte (= 16 KB)\n",
    "  - 4 Sektoren pro Block (2^14 / 2^12)\n",
    "  - 64 Blöcke pro Spur (2^8 / 2^2) im Durchschnitt\n",
    "- Bitdichte (äußerste Spur):\n",
    "  - Bits pro Spur: 28 Sektoren x 2^12 Byte = 2^20 = 1024 KB = 8 MBit\n",
    "  - Spurlänge (äußerste Spur): 3,5“ · p ≈ 11‘‘\n",
    "  - Ca. 10% Lücken → Spurlänge von 9,9‘‘ hält 8 MBits\n",
    "  - 840.000 Bits pro Zoll"
   ]
  },
  {
   "cell_type": "markdown",
   "id": "2dd6a712-0e56-4d5e-92ed-6cb0c564d5c6",
   "metadata": {},
   "source": [
    "## Disk-Zugriffseigenschaften\n",
    "\n",
    "- Voraussetzungen für Zugriff auf einen Block (lesend oder schreibend):\n",
    "  - S-/L-Kopf ist bei Zylinder positioniert, der die Spur mit dem Block enthält.\n",
    "  - Disk rotiert so, dass Sektoren, die der Block enthält, unter den S-/L-Kopf gelangen.\n",
    "- Latenzzeit:\n",
    "  - Zeit zwischen Anweisung, einen Block zu lesen, bis zum Eintreffen des Blocks im Hauptspeicher"
   ]
  },
  {
   "cell_type": "markdown",
   "id": "1f94d5df-f839-48d7-a53b-9ad3d5c9c845",
   "metadata": {},
   "source": [
    "## Latenzzeit\n",
    "\n",
    "- Latenzzeit ist Summe aus vier Komponenten:\n",
    "    1. Kommunikationszeit zwischen Prozessor und Disk Controller:\n",
    "       - Bruchteil einer Millisekunde (ignorieren)\n",
    "       - Annahme hier: Keine Konkurrenz\n",
    "\n",
    "    2. Seektime (Suchzeit) zur Positionierung des Kopfes unter richtigem Zylinder:\n",
    "       - Zwischen 0 und 40 ms (Zeit proportional zum zurückgelegten Weg)\n",
    "       - Startzeit (1 ms), Bewegungszeit (0 – 40 ms), Stopzeit (1 ms)\n",
    "\n",
    "    3. Rotationslatenzzeit zur Drehung der Disk bis erster Sektor des Blocks unter S-/L-Kopf:\n",
    "       - Durchschnittlich ½ Umdrehung (4 ms)\n",
    "       - Optimierung durch Spur-Cache im Disk-Controller möglich\n",
    "\n",
    "    4. Transferzeit zur Drehung der Disk bis alle Sektoren und die Lücken des Blocks unter S-/L-Kopf passiert sind:\n",
    "       - Ca. 16 KB-Block in ¼ ms (gleich genauer)"
   ]
  },
  {
   "cell_type": "markdown",
   "id": "b47295ab-0a7a-434c-ac6b-9768af7aa3a9",
   "metadata": {},
   "source": [
    "## Schreiben und Ändern von Blöcken\n",
    "\n",
    "- Schreiben von Blöcken:\n",
    "  - Vorgehen und Zeit: Analog zum Lesen\n",
    "  - Zur Prüfung, ob Schreiboperation erfolgreich war, muss eine Rotation gewartet werden (Nutzung von Checksums (später))\n",
    "\n",
    "- Ändern von Blöcken:\n",
    "    - Nicht direkt möglich\n",
    "      1. Lesen des Blocks in Hauptspeicher\n",
    "      2. Ändern der Daten\n",
    "      3. Zurückschreiben auf Festplatte\n",
    "      4. evtl. Korrektheit der Schreiboperation überprüfen\n",
    "  - Zeit: t_read + t_write\n",
    "  - aber: mit Glück ist Kopf noch in der Nähe (t_write ist billiger)"
   ]
  },
  {
   "cell_type": "markdown",
   "id": "d5cd3fab-b920-46f3-94a0-d97edcb78ed6",
   "metadata": {},
   "source": [
    "## Beispiel – Megatron 747 Disk\n",
    "\n",
    "Wie lange dauert es, einen Block (16 KB = 16 384 Byte) zu lesen?\n",
    "\n",
    "Here's the information about the time it takes to read a block with bullet points:\n",
    "\n",
    "- Umdrehungsgeschwindigkeit: 7200 U · min-1\n",
    "  -> Eine Umdrehung in 8,33 ms\n",
    "\n",
    "- Seektime:\n",
    "  - Start und Stopp zusammen: 1ms\n",
    "  - 1ms pro 4000 Zylinder, die überbrückt werden\n",
    "    1. Minimum (0 Zylinder): 0 ms\n",
    "    2. 1 Track: 1,00025 ms\n",
    "    3. Maximum (65.536 Zylinder): 65536/4000 + 1 = 17,38 ms\n",
    "\n",
    "- Minimale Zeit, um den Block zu lesen:\n",
    "  - S-/L-Kopf steht über richtiger Spur und Platte ist schon richtig rotiert\n",
    "  - 4 Sektoren und 3 Lücken sind zu lesen\n",
    "  - 256 Lücken und 256 Sektoren pro Spur (durchschnittlich)\n",
    "  - Lücken bedecken 36° (10%), Sektoren bedecken 324° des Kreises (360°)\n",
    "  - 324° x 4 / 256 + 36° x 3 / 256 = 5,48° des Kreises durch Block bedeckt\n",
    "  - (5,48° / 360°) · 8,33 ms = 0,13 ms\n",
    "\n",
    "- Maximale Zeit: Präsenzübung (25,84 ms)\n",
    "- Durchschnittliche Zeit: selber forschen und nachrechnen (10,76 ms)"
   ]
  },
  {
   "cell_type": "markdown",
   "id": "352ebd92-172a-4a78-b22c-5097ccc14365",
   "metadata": {},
   "source": [
    "## Übersicht\n",
    "1. Speicherhierarchie\n",
    "2. Disks\n",
    "3. Effiziente Diskoperationen\n",
    "    - TPMMS\n",
    "4. Zugriffsbeschleunigung\n",
    "5. Diskausfälle\n",
    "\n",
    "<img src=\"pictures/Speicherhierachie.png\" alt=\"Speicherhierachie\" width=\"500\" style=\"background-color: white;\"/>"
   ]
  },
  {
   "cell_type": "markdown",
   "id": "02282737-3a9f-44fd-b04c-2088d653eb5f",
   "metadata": {},
   "source": [
    "## Algorithmen vs. DBMS\n",
    "\n",
    "- Annahme bei Algorithmen:\n",
    "  - RAM-Berechnungsmodell\n",
    "    - Gesamte Daten passen in Hauptspeicher\n",
    "    - Daten befinden sich schon im Hauptspeicher\n",
    "\n",
    "- Annahme bei Implementierung von DBMS:\n",
    "  - I/O-Modell: Gesamte Daten passen nicht in Hauptspeicher\n",
    "\n",
    "- Externspeicher-Algorithmen funktionieren oft anders:\n",
    "  - Ein guter Externspeicher-Algorithmus muss nicht der beste Algorithmus lt. RAM-Modell sein\n",
    "  - Entwurfsziel: I/O vermeiden\n",
    "\n",
    "- Gleiches kann auch für Hauptspeicher-Algorithmen gelten:\n",
    "  - Ausnutzen des Caches\n",
    "    - Cachegröße berücksichtigen\n",
    "    - Lokalität beachten („maximiere“ Anzahl der Cache Hits)"
   ]
  },
  {
   "cell_type": "markdown",
   "id": "c20b41de-b978-4369-afb0-d5f3ef8fe05e",
   "metadata": {},
   "source": [
    "## I/O-Modell\n",
    "\n",
    "- Beispiel: Einfaches DBMS\n",
    "    - Zu groß für Hauptspeicher\n",
    "    - Eine Disk, ein Prozessor, viele konkurrierende Nutzer / Anfragen\n",
    "\n",
    "- Disk-Controller hält Warteschlange mit Zugriffsaufforderungen\n",
    "  - Abarbeitungsprinzip: First-come-first-served\n",
    "  - Jede Aufforderung erscheint zufällig\n",
    "    - Kopf ist also an zufälliger Position\n",
    "\n",
    "- Dominanz der I/O-Kosten\n",
    "  - Kosten des Lesens und Bewegens eines Blocks zwischen Disk und Hauptspeicher sind wesentlich größer als Kosten der Operationen auf den Daten im Hauptspeicher.\n",
    "  \n",
    "  -> Anzahl der Blockzugriffe (lesend und schreibend) ist eine gute Approximation der Gesamtkosten und sollten minimiert werden."
   ]
  },
  {
   "cell_type": "markdown",
   "id": "e127e5bc-98e9-4106-9f93-627edd0a4149",
   "metadata": {},
   "source": []
  },
  {
   "cell_type": "markdown",
   "id": "0f3bc269-dc70-49ef-b162-f5a60d52269a",
   "metadata": {},
   "source": []
  },
  {
   "cell_type": "markdown",
   "id": "83bee58f-cd5f-4f1b-b912-6f9451247f63",
   "metadata": {},
   "source": []
  },
  {
   "cell_type": "markdown",
   "id": "59f05019-c58e-4275-bbc2-5713764419e4",
   "metadata": {},
   "source": []
  },
  {
   "cell_type": "markdown",
   "id": "21afcf7e-54c2-41b3-aaec-be5ea55304f7",
   "metadata": {},
   "source": []
  },
  {
   "cell_type": "markdown",
   "id": "4f0c01f1-1c2f-4253-9d70-ff75e6ffaacd",
   "metadata": {},
   "source": []
  },
  {
   "cell_type": "markdown",
   "id": "737562a3-5990-47f9-b56c-333b0d5e90ba",
   "metadata": {},
   "source": []
  },
  {
   "cell_type": "markdown",
   "id": "948167a1-ea84-4908-b5d7-7e7d74c28c03",
   "metadata": {},
   "source": []
  }
 ],
 "metadata": {
  "kernelspec": {
   "display_name": "Python 3 (ipykernel)",
   "language": "python",
   "name": "python3"
  },
  "language_info": {
   "codemirror_mode": {
    "name": "ipython",
    "version": 3
   },
   "file_extension": ".py",
   "mimetype": "text/x-python",
   "name": "python",
   "nbconvert_exporter": "python",
   "pygments_lexer": "ipython3",
   "version": "3.10.6"
  }
 },
 "nbformat": 4,
 "nbformat_minor": 5
}
