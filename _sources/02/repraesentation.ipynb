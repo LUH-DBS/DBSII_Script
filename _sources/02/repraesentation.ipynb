{
 "cells": [
  {
   "cell_type": "markdown",
   "id": "7364df6e",
   "metadata": {},
   "source": [
    "# Repräsentation"
   ]
  },
  {
   "cell_type": "code",
   "execution_count": null,
   "id": "8151fde9",
   "metadata": {},
   "outputs": [],
   "source": []
  },
  {
   "cell_type": "code",
   "execution_count": null,
   "id": "b50ff548-45fb-43b8-9cfd-eaf4b63d902b",
   "metadata": {},
   "outputs": [],
   "source": []
  }
 ],
 "metadata": {
  "kernelspec": {
   "display_name": "Python 3 (ipykernel)",
   "language": "python",
   "name": "python3"
  },
  "language_info": {
   "codemirror_mode": {
    "name": "ipython",
    "version": 3
   },
   "file_extension": ".py",
   "mimetype": "text/x-python",
   "name": "python",
   "nbconvert_exporter": "python",
   "pygments_lexer": "ipython3",
   "version": "3.10.6"
  }
 },
 "nbformat": 4,
 "nbformat_minor": 5
}
